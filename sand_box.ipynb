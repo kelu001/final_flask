{
 "cells": [
  {
   "cell_type": "code",
   "execution_count": 23,
   "metadata": {
    "collapsed": true
   },
   "outputs": [
    {
     "name": "stdout",
     "output_type": "stream",
     "text": [
      "<class 'pandas.core.frame.DataFrame'>\n",
      "Index: 1032 entries, 222 to 1253\n",
      "Data columns (total 4 columns):\n",
      " #   Column      Non-Null Count  Dtype  \n",
      "---  ------      --------------  -----  \n",
      " 0   duree       1032 non-null   int64  \n",
      " 1   channel     1032 non-null   object \n",
      " 2   room_class  1032 non-null   object \n",
      " 3   ca_tot      1032 non-null   float64\n",
      "dtypes: float64(1), int64(1), object(2)\n",
      "memory usage: 40.3+ KB\n"
     ]
    },
    {
     "data": {
      "text/plain": "     duree channel room_class  ca_tot\n222      3      IN          R  620.89\n223      2     EML          E  589.53\n224      2     TEL          E  977.45\n225      1     WEB          E  644.92\n226      1     WEB          E  468.21\n..     ...     ...        ...     ...\n417      1     TEL          E  538.71\n418      2      WI          E    0.00\n419      2     TEL          E  826.80\n420      5     TEL          E    0.00\n421      1     TEL          E  444.95\n\n[200 rows x 4 columns]",
      "text/html": "<div>\n<style scoped>\n    .dataframe tbody tr th:only-of-type {\n        vertical-align: middle;\n    }\n\n    .dataframe tbody tr th {\n        vertical-align: top;\n    }\n\n    .dataframe thead th {\n        text-align: right;\n    }\n</style>\n<table border=\"1\" class=\"dataframe\">\n  <thead>\n    <tr style=\"text-align: right;\">\n      <th></th>\n      <th>duree</th>\n      <th>channel</th>\n      <th>room_class</th>\n      <th>ca_tot</th>\n    </tr>\n  </thead>\n  <tbody>\n    <tr>\n      <th>222</th>\n      <td>3</td>\n      <td>IN</td>\n      <td>R</td>\n      <td>620.89</td>\n    </tr>\n    <tr>\n      <th>223</th>\n      <td>2</td>\n      <td>EML</td>\n      <td>E</td>\n      <td>589.53</td>\n    </tr>\n    <tr>\n      <th>224</th>\n      <td>2</td>\n      <td>TEL</td>\n      <td>E</td>\n      <td>977.45</td>\n    </tr>\n    <tr>\n      <th>225</th>\n      <td>1</td>\n      <td>WEB</td>\n      <td>E</td>\n      <td>644.92</td>\n    </tr>\n    <tr>\n      <th>226</th>\n      <td>1</td>\n      <td>WEB</td>\n      <td>E</td>\n      <td>468.21</td>\n    </tr>\n    <tr>\n      <th>...</th>\n      <td>...</td>\n      <td>...</td>\n      <td>...</td>\n      <td>...</td>\n    </tr>\n    <tr>\n      <th>417</th>\n      <td>1</td>\n      <td>TEL</td>\n      <td>E</td>\n      <td>538.71</td>\n    </tr>\n    <tr>\n      <th>418</th>\n      <td>2</td>\n      <td>WI</td>\n      <td>E</td>\n      <td>0.00</td>\n    </tr>\n    <tr>\n      <th>419</th>\n      <td>2</td>\n      <td>TEL</td>\n      <td>E</td>\n      <td>826.80</td>\n    </tr>\n    <tr>\n      <th>420</th>\n      <td>5</td>\n      <td>TEL</td>\n      <td>E</td>\n      <td>0.00</td>\n    </tr>\n    <tr>\n      <th>421</th>\n      <td>1</td>\n      <td>TEL</td>\n      <td>E</td>\n      <td>444.95</td>\n    </tr>\n  </tbody>\n</table>\n<p>200 rows × 4 columns</p>\n</div>"
     },
     "execution_count": 23,
     "metadata": {},
     "output_type": "execute_result"
    }
   ],
   "source": [
    "import pandas as p\n",
    "\n",
    "data = p.read_csv('data/S_CLIENTS_JAN_MAR_2015.csv', sep= ';')\n",
    "\n",
    "# on ne conserve que les réservation \"checked-out\"\n",
    "data = data[data['resv_status'] == 'CHECKED OUT']\n",
    "\n",
    "# Suppression des colonnes non désirées\n",
    "data = data.drop(['arrival', 'departure', 'nb_rsv', 'nights', 'sejour_id', 'sejour_we', 'day_use', 'room_type_id', 'company_id', 'agent_id', 'rate_code', 'first_stay', 'party_code', 'exclu_prestay', 'source_code', 'ca_act', 'ca_div', 'ca_div', 'ca_golf', 'ca_heb', 'ca_heb_paye', 'ca_heb_sys', 'ca_mus', 'ca_nr', 'ca_rest', 'ca_soins', 'ca_tot_sys', 'ca_tot_paye', 'resv_status', 'group_id', 'booked_room_type', 'group_id', 'source_prof_id', 'insert_date', 'adults', 'children', 'src_client_id'], axis=1)\n",
    "\n",
    "\n",
    "data.info()\n",
    "data.head(200)"
   ]
  },
  {
   "cell_type": "code",
   "execution_count": 32,
   "outputs": [
    {
     "data": {
      "application/vnd.plotly.v1+json": {
       "data": [
        {
         "alignmentgroup": "True",
         "hovertemplate": "channel=%{x}<br>ca_tot=%{y}<extra></extra>",
         "legendgroup": "IN",
         "marker": {
          "color": "#636efa",
          "pattern": {
           "shape": ""
          }
         },
         "name": "IN",
         "offsetgroup": "IN",
         "orientation": "v",
         "showlegend": true,
         "textposition": "auto",
         "x": [
          "IN",
          "IN",
          "IN",
          "IN",
          "IN",
          "IN",
          "IN",
          "IN",
          "IN",
          "IN",
          "IN",
          "IN",
          "IN",
          "IN",
          "IN",
          "IN",
          "IN",
          "IN",
          "IN",
          "IN",
          "IN",
          "IN",
          "IN",
          "IN",
          "IN",
          "IN",
          "IN",
          "IN",
          "IN",
          "IN",
          "IN"
         ],
         "xaxis": "x",
         "y": [
          620.89,
          432.71,
          140.9,
          923.61,
          8.63,
          0.0,
          426.66,
          404.91,
          1345.79,
          2700.12,
          2327.49,
          540.97,
          2071.06,
          178.18,
          441.93,
          0.0,
          0.0,
          363.62,
          132.27,
          819.61,
          2199.56,
          267.42,
          0.0,
          709.97,
          910.77,
          524.54,
          405.14,
          0.0,
          698.55,
          429.26,
          1849.66
         ],
         "yaxis": "y",
         "type": "bar"
        },
        {
         "alignmentgroup": "True",
         "hovertemplate": "channel=%{x}<br>ca_tot=%{y}<extra></extra>",
         "legendgroup": "EML",
         "marker": {
          "color": "#EF553B",
          "pattern": {
           "shape": ""
          }
         },
         "name": "EML",
         "offsetgroup": "EML",
         "orientation": "v",
         "showlegend": true,
         "textposition": "auto",
         "x": [
          "EML",
          "EML",
          "EML",
          "EML",
          "EML",
          "EML",
          "EML",
          "EML",
          "EML",
          "EML",
          "EML",
          "EML",
          "EML",
          "EML",
          "EML",
          "EML",
          "EML",
          "EML",
          "EML",
          "EML",
          "EML",
          "EML",
          "EML",
          "EML",
          "EML",
          "EML",
          "EML",
          "EML",
          "EML",
          "EML",
          "EML",
          "EML",
          "EML",
          "EML",
          "EML",
          "EML",
          "EML",
          "EML",
          "EML",
          "EML",
          "EML",
          "EML",
          "EML",
          "EML",
          "EML",
          "EML",
          "EML",
          "EML",
          "EML",
          "EML",
          "EML",
          "EML",
          "EML",
          "EML",
          "EML",
          "EML",
          "EML",
          "EML",
          "EML",
          "EML",
          "EML",
          "EML",
          "EML",
          "EML",
          "EML",
          "EML",
          "EML",
          "EML",
          "EML",
          "EML",
          "EML",
          "EML",
          "EML",
          "EML",
          "EML",
          "EML",
          "EML",
          "EML",
          "EML",
          "EML",
          "EML",
          "EML",
          "EML",
          "EML",
          "EML",
          "EML",
          "EML",
          "EML",
          "EML",
          "EML",
          "EML",
          "EML",
          "EML",
          "EML",
          "EML",
          "EML",
          "EML",
          "EML",
          "EML",
          "EML",
          "EML",
          "EML",
          "EML",
          "EML",
          "EML",
          "EML",
          "EML",
          "EML",
          "EML",
          "EML",
          "EML",
          "EML",
          "EML",
          "EML",
          "EML",
          "EML",
          "EML",
          "EML",
          "EML",
          "EML",
          "EML",
          "EML",
          "EML",
          "EML",
          "EML",
          "EML",
          "EML",
          "EML",
          "EML",
          "EML",
          "EML",
          "EML",
          "EML",
          "EML",
          "EML",
          "EML",
          "EML",
          "EML",
          "EML",
          "EML",
          "EML",
          "EML",
          "EML",
          "EML",
          "EML",
          "EML",
          "EML",
          "EML",
          "EML",
          "EML",
          "EML",
          "EML",
          "EML",
          "EML",
          "EML",
          "EML",
          "EML",
          "EML",
          "EML",
          "EML",
          "EML",
          "EML",
          "EML",
          "EML",
          "EML",
          "EML",
          "EML",
          "EML",
          "EML",
          "EML",
          "EML",
          "EML",
          "EML",
          "EML",
          "EML",
          "EML",
          "EML",
          "EML",
          "EML",
          "EML",
          "EML",
          "EML",
          "EML",
          "EML",
          "EML",
          "EML",
          "EML",
          "EML",
          "EML",
          "EML",
          "EML",
          "EML",
          "EML",
          "EML",
          "EML",
          "EML",
          "EML",
          "EML",
          "EML",
          "EML",
          "EML",
          "EML",
          "EML",
          "EML",
          "EML",
          "EML",
          "EML",
          "EML",
          "EML",
          "EML",
          "EML",
          "EML",
          "EML",
          "EML",
          "EML",
          "EML",
          "EML",
          "EML",
          "EML",
          "EML",
          "EML",
          "EML",
          "EML",
          "EML",
          "EML",
          "EML",
          "EML",
          "EML",
          "EML",
          "EML",
          "EML",
          "EML",
          "EML",
          "EML",
          "EML",
          "EML",
          "EML",
          "EML",
          "EML",
          "EML",
          "EML",
          "EML",
          "EML",
          "EML",
          "EML",
          "EML"
         ],
         "xaxis": "x",
         "y": [
          589.53,
          4128.17,
          0.0,
          1109.08,
          0.0,
          572.7,
          586.35,
          1267.9,
          572.7,
          451.52,
          420.45,
          346.35,
          1083.61,
          584.3,
          610.43,
          1458.97,
          1994.18,
          692.7,
          253.93,
          6431.6,
          460.71,
          11034.49,
          878.86,
          539.54,
          1228.16,
          304.54,
          5499.37,
          1122.98,
          0.0,
          0.0,
          477.27,
          441.81,
          212.65,
          1972.71,
          17045.06,
          287.19,
          5988.27,
          688.66,
          230.9,
          495.45,
          121.28,
          444.99,
          968.16,
          262.57,
          350.37,
          552.93,
          2113.17,
          140.9,
          156.36,
          643.63,
          1617.11,
          227.27,
          664.98,
          1010.74,
          320.22,
          115.45,
          849.34,
          998.78,
          441.81,
          609.08,
          354.54,
          2170.66,
          444.99,
          2590.46,
          597.45,
          477.27,
          240.61,
          63.63,
          364.54,
          916.35,
          399.0,
          354.54,
          0.0,
          159.09,
          138.18,
          354.54,
          354.54,
          0.0,
          4929.41,
          1241.34,
          259.54,
          4487.71,
          2055.85,
          312.72,
          324.77,
          609.08,
          354.54,
          4735.86,
          418.82,
          605.43,
          681.2,
          201.81,
          1982.88,
          708.77,
          5008.11,
          5985.76,
          0.0,
          1004.53,
          276.36,
          498.76,
          5191.0,
          469.92,
          163.63,
          661.36,
          12581.49,
          10903.46,
          528.98,
          283.17,
          999.99,
          682.87,
          1004.53,
          975.89,
          403.62,
          4496.1,
          0.0,
          3835.52,
          331.2,
          2035.32,
          1098.94,
          1623.79,
          230.9,
          477.27,
          1082.56,
          579.08,
          21377.54,
          477.27,
          828.08,
          381.8,
          616.36,
          1843.71,
          1508.16,
          105.45,
          477.27,
          581.34,
          3538.07,
          52.72,
          565.92,
          2671.59,
          625.43,
          1006.96,
          312.72,
          904.53,
          0.0,
          554.54,
          227.27,
          1004.53,
          432.04,
          1109.08,
          1110.44,
          115.45,
          362.87,
          441.81,
          304.54,
          322.72,
          667.41,
          1710.03,
          381.81,
          367.41,
          622.93,
          2326.62,
          0.0,
          304.54,
          2475.62,
          525.65,
          258.17,
          331.96,
          105.45,
          269.76,
          115.45,
          564.37,
          559.2,
          757.69,
          227.27,
          318.62,
          515.45,
          0.0,
          105.45,
          533.62,
          1552.19,
          5084.6,
          4431.42,
          1109.08,
          477.27,
          165.44,
          441.81,
          1546.76,
          362.12,
          344.13,
          494.54,
          645.75,
          354.54,
          673.77,
          127.27,
          1172.14,
          2159.05,
          159.77,
          2149.76,
          4355.67,
          477.27,
          728.87,
          609.07,
          4035.6,
          458.63,
          354.54,
          6276.88,
          554.54,
          5278.43,
          2703.46,
          795.45,
          605.43,
          667.41,
          453.62,
          985.31,
          354.54,
          402.64,
          148.18,
          2709.55,
          5499.29,
          6123.93,
          1109.08,
          4279.69,
          369.72,
          23310.77,
          721.65,
          403.62,
          170.53,
          1182.47,
          381.2,
          140.9,
          0.0,
          7580.5,
          2072.09,
          318.18,
          1319.08,
          1303.64,
          130.89,
          1777.19,
          159.09,
          115.45,
          971.32,
          227.27,
          630.89,
          143.73,
          801.36,
          318.82,
          362.87
         ],
         "yaxis": "y",
         "type": "bar"
        },
        {
         "alignmentgroup": "True",
         "hovertemplate": "channel=%{x}<br>ca_tot=%{y}<extra></extra>",
         "legendgroup": "TEL",
         "marker": {
          "color": "#00cc96",
          "pattern": {
           "shape": ""
          }
         },
         "name": "TEL",
         "offsetgroup": "TEL",
         "orientation": "v",
         "showlegend": true,
         "textposition": "auto",
         "x": [
          "TEL",
          "TEL",
          "TEL",
          "TEL",
          "TEL",
          "TEL",
          "TEL",
          "TEL",
          "TEL",
          "TEL",
          "TEL",
          "TEL",
          "TEL",
          "TEL",
          "TEL",
          "TEL",
          "TEL",
          "TEL",
          "TEL",
          "TEL",
          "TEL",
          "TEL",
          "TEL",
          "TEL",
          "TEL",
          "TEL",
          "TEL",
          "TEL",
          "TEL",
          "TEL",
          "TEL",
          "TEL",
          "TEL",
          "TEL",
          "TEL",
          "TEL",
          "TEL",
          "TEL",
          "TEL",
          "TEL",
          "TEL",
          "TEL",
          "TEL",
          "TEL",
          "TEL",
          "TEL",
          "TEL",
          "TEL",
          "TEL",
          "TEL",
          "TEL",
          "TEL",
          "TEL",
          "TEL",
          "TEL",
          "TEL",
          "TEL",
          "TEL",
          "TEL",
          "TEL",
          "TEL",
          "TEL",
          "TEL",
          "TEL",
          "TEL",
          "TEL",
          "TEL",
          "TEL",
          "TEL",
          "TEL",
          "TEL",
          "TEL",
          "TEL",
          "TEL",
          "TEL",
          "TEL",
          "TEL",
          "TEL",
          "TEL",
          "TEL",
          "TEL",
          "TEL",
          "TEL",
          "TEL",
          "TEL",
          "TEL",
          "TEL",
          "TEL",
          "TEL",
          "TEL",
          "TEL",
          "TEL",
          "TEL",
          "TEL",
          "TEL",
          "TEL",
          "TEL",
          "TEL",
          "TEL",
          "TEL",
          "TEL",
          "TEL",
          "TEL",
          "TEL",
          "TEL",
          "TEL",
          "TEL",
          "TEL",
          "TEL",
          "TEL",
          "TEL",
          "TEL",
          "TEL",
          "TEL",
          "TEL",
          "TEL",
          "TEL",
          "TEL",
          "TEL",
          "TEL",
          "TEL",
          "TEL",
          "TEL",
          "TEL",
          "TEL",
          "TEL",
          "TEL",
          "TEL",
          "TEL",
          "TEL",
          "TEL",
          "TEL",
          "TEL",
          "TEL",
          "TEL",
          "TEL",
          "TEL",
          "TEL",
          "TEL",
          "TEL",
          "TEL",
          "TEL",
          "TEL",
          "TEL",
          "TEL",
          "TEL",
          "TEL",
          "TEL",
          "TEL",
          "TEL",
          "TEL",
          "TEL",
          "TEL",
          "TEL",
          "TEL",
          "TEL",
          "TEL",
          "TEL",
          "TEL",
          "TEL",
          "TEL",
          "TEL",
          "TEL",
          "TEL",
          "TEL",
          "TEL",
          "TEL",
          "TEL",
          "TEL",
          "TEL",
          "TEL",
          "TEL",
          "TEL",
          "TEL",
          "TEL",
          "TEL",
          "TEL",
          "TEL",
          "TEL",
          "TEL",
          "TEL",
          "TEL",
          "TEL",
          "TEL",
          "TEL",
          "TEL",
          "TEL",
          "TEL",
          "TEL",
          "TEL",
          "TEL",
          "TEL",
          "TEL",
          "TEL",
          "TEL",
          "TEL",
          "TEL",
          "TEL",
          "TEL",
          "TEL",
          "TEL",
          "TEL",
          "TEL",
          "TEL",
          "TEL",
          "TEL",
          "TEL",
          "TEL",
          "TEL",
          "TEL",
          "TEL",
          "TEL",
          "TEL",
          "TEL",
          "TEL",
          "TEL",
          "TEL",
          "TEL",
          "TEL",
          "TEL",
          "TEL",
          "TEL",
          "TEL",
          "TEL",
          "TEL",
          "TEL",
          "TEL",
          "TEL",
          "TEL",
          "TEL",
          "TEL",
          "TEL",
          "TEL",
          "TEL",
          "TEL",
          "TEL",
          "TEL",
          "TEL",
          "TEL",
          "TEL",
          "TEL",
          "TEL",
          "TEL",
          "TEL",
          "TEL",
          "TEL",
          "TEL",
          "TEL",
          "TEL",
          "TEL",
          "TEL",
          "TEL",
          "TEL",
          "TEL",
          "TEL",
          "TEL",
          "TEL",
          "TEL",
          "TEL",
          "TEL",
          "TEL",
          "TEL",
          "TEL",
          "TEL",
          "TEL",
          "TEL",
          "TEL",
          "TEL",
          "TEL",
          "TEL",
          "TEL",
          "TEL",
          "TEL",
          "TEL",
          "TEL",
          "TEL",
          "TEL",
          "TEL",
          "TEL",
          "TEL",
          "TEL",
          "TEL",
          "TEL",
          "TEL",
          "TEL",
          "TEL",
          "TEL",
          "TEL",
          "TEL",
          "TEL",
          "TEL",
          "TEL",
          "TEL",
          "TEL",
          "TEL",
          "TEL",
          "TEL",
          "TEL",
          "TEL",
          "TEL",
          "TEL",
          "TEL",
          "TEL",
          "TEL",
          "TEL",
          "TEL",
          "TEL",
          "TEL",
          "TEL",
          "TEL",
          "TEL",
          "TEL",
          "TEL",
          "TEL",
          "TEL",
          "TEL",
          "TEL",
          "TEL",
          "TEL",
          "TEL",
          "TEL",
          "TEL",
          "TEL",
          "TEL",
          "TEL",
          "TEL",
          "TEL",
          "TEL",
          "TEL",
          "TEL",
          "TEL",
          "TEL",
          "TEL",
          "TEL",
          "TEL",
          "TEL",
          "TEL",
          "TEL",
          "TEL",
          "TEL",
          "TEL",
          "TEL",
          "TEL",
          "TEL",
          "TEL",
          "TEL",
          "TEL",
          "TEL",
          "TEL",
          "TEL",
          "TEL",
          "TEL",
          "TEL",
          "TEL",
          "TEL",
          "TEL",
          "TEL",
          "TEL",
          "TEL",
          "TEL",
          "TEL",
          "TEL",
          "TEL",
          "TEL",
          "TEL",
          "TEL",
          "TEL",
          "TEL",
          "TEL",
          "TEL",
          "TEL",
          "TEL",
          "TEL",
          "TEL",
          "TEL",
          "TEL",
          "TEL",
          "TEL",
          "TEL",
          "TEL",
          "TEL",
          "TEL",
          "TEL",
          "TEL",
          "TEL",
          "TEL",
          "TEL",
          "TEL",
          "TEL",
          "TEL",
          "TEL",
          "TEL",
          "TEL",
          "TEL",
          "TEL",
          "TEL",
          "TEL",
          "TEL",
          "TEL",
          "TEL",
          "TEL",
          "TEL",
          "TEL",
          "TEL",
          "TEL",
          "TEL",
          "TEL",
          "TEL",
          "TEL",
          "TEL",
          "TEL",
          "TEL",
          "TEL",
          "TEL",
          "TEL",
          "TEL",
          "TEL",
          "TEL",
          "TEL",
          "TEL",
          "TEL",
          "TEL",
          "TEL",
          "TEL",
          "TEL",
          "TEL",
          "TEL",
          "TEL",
          "TEL",
          "TEL",
          "TEL",
          "TEL",
          "TEL",
          "TEL",
          "TEL",
          "TEL",
          "TEL",
          "TEL",
          "TEL",
          "TEL",
          "TEL",
          "TEL",
          "TEL",
          "TEL",
          "TEL",
          "TEL",
          "TEL",
          "TEL",
          "TEL",
          "TEL",
          "TEL",
          "TEL",
          "TEL",
          "TEL",
          "TEL",
          "TEL",
          "TEL",
          "TEL",
          "TEL",
          "TEL",
          "TEL",
          "TEL",
          "TEL",
          "TEL",
          "TEL",
          "TEL",
          "TEL",
          "TEL",
          "TEL",
          "TEL",
          "TEL",
          "TEL",
          "TEL",
          "TEL",
          "TEL",
          "TEL",
          "TEL",
          "TEL",
          "TEL",
          "TEL",
          "TEL",
          "TEL",
          "TEL",
          "TEL",
          "TEL",
          "TEL",
          "TEL",
          "TEL",
          "TEL",
          "TEL",
          "TEL",
          "TEL",
          "TEL",
          "TEL",
          "TEL",
          "TEL",
          "TEL",
          "TEL",
          "TEL",
          "TEL",
          "TEL",
          "TEL",
          "TEL",
          "TEL",
          "TEL",
          "TEL",
          "TEL",
          "TEL",
          "TEL",
          "TEL",
          "TEL",
          "TEL",
          "TEL",
          "TEL",
          "TEL",
          "TEL",
          "TEL",
          "TEL",
          "TEL",
          "TEL",
          "TEL",
          "TEL",
          "TEL",
          "TEL",
          "TEL",
          "TEL",
          "TEL",
          "TEL",
          "TEL",
          "TEL",
          "TEL",
          "TEL",
          "TEL",
          "TEL",
          "TEL",
          "TEL",
          "TEL",
          "TEL",
          "TEL",
          "TEL",
          "TEL"
         ],
         "xaxis": "x",
         "y": [
          977.45,
          2913.37,
          7251.69,
          500.0,
          622.79,
          2320.3,
          2551.83,
          1472.52,
          2696.42,
          296.36,
          31874.68,
          425.56,
          139.01,
          136.82,
          287.19,
          2705.15,
          312.5,
          567.26,
          1047.34,
          6188.37,
          2087.94,
          2188.28,
          2581.6,
          3438.62,
          1988.32,
          331.45,
          1062.22,
          0.0,
          9017.22,
          1024.44,
          674.69,
          230.9,
          1903.95,
          316.33,
          2848.56,
          10927.45,
          277.27,
          4398.69,
          9710.6,
          2022.52,
          989.15,
          905.1,
          467.26,
          3079.53,
          11162.2,
          3869.62,
          724.92,
          1237.38,
          1521.42,
          1788.8,
          12598.46,
          15940.2,
          115.45,
          4008.56,
          2998.32,
          140.9,
          544.24,
          372.0,
          311.35,
          4138.16,
          808.41,
          254.52,
          1110.45,
          970.03,
          2469.52,
          18730.55,
          540.07,
          738.15,
          1331.42,
          608.48,
          158.16,
          796.05,
          4591.47,
          814.57,
          889.84,
          0.0,
          2060.6,
          597.27,
          1502.16,
          1159.59,
          2565.22,
          2632.49,
          6129.28,
          3025.33,
          52.72,
          2897.94,
          140.9,
          5855.14,
          2881.58,
          2215.7,
          3063.26,
          152.68,
          2332.26,
          1103.18,
          2684.82,
          444.92,
          10.83,
          7899.87,
          4975.89,
          820.35,
          336.17,
          538.71,
          826.8,
          0.0,
          444.95,
          156.36,
          2464.83,
          1274.95,
          270.0,
          1275.6,
          828.24,
          0.0,
          1733.98,
          148.18,
          547.79,
          236.73,
          272.72,
          1154.73,
          326.67,
          1481.27,
          6288.33,
          105.45,
          6045.6,
          2827.59,
          14470.04,
          1769.99,
          1597.63,
          403.77,
          1064.53,
          1581.66,
          52.72,
          2752.57,
          1382.13,
          937.94,
          922.83,
          1862.98,
          2547.23,
          704.04,
          552.15,
          3218.94,
          3862.41,
          628.56,
          391.98,
          3675.56,
          0.0,
          704.99,
          456.58,
          3021.71,
          269.09,
          4699.64,
          1173.59,
          6530.36,
          316.35,
          115.45,
          301.36,
          4399.77,
          0.0,
          1172.71,
          1738.24,
          2914.47,
          751.16,
          371.44,
          381.81,
          2578.74,
          4052.43,
          451.8,
          311.36,
          838.67,
          3845.65,
          983.61,
          217.8,
          1521.12,
          924.98,
          1916.65,
          10224.03,
          2309.45,
          2046.05,
          7509.18,
          2413.79,
          249.53,
          2251.73,
          447.53,
          1204.36,
          381.48,
          1423.63,
          0.0,
          756.66,
          161.35,
          282.72,
          148.18,
          267.95,
          1668.14,
          2700.55,
          173.33,
          4103.81,
          11325.7,
          836.24,
          2631.55,
          1043.93,
          4315.97,
          4035.08,
          734.84,
          2277.64,
          0.0,
          0.0,
          1299.23,
          178.4,
          2230.21,
          154.08,
          2044.34,
          897.62,
          875.06,
          637.19,
          2716.27,
          52.72,
          3559.6,
          16.36,
          367.27,
          168.18,
          568.17,
          5053.3,
          1597.86,
          4001.76,
          792.64,
          158.16,
          5826.51,
          1073.45,
          12159.55,
          2233.66,
          596.02,
          713.86,
          7496.23,
          2460.03,
          2039.9,
          2354.68,
          642.98,
          3531.22,
          1464.68,
          1216.47,
          868.9,
          2598.17,
          575.12,
          3205.81,
          572.95,
          316.35,
          2439.69,
          572.38,
          7022.22,
          12063.61,
          3279.72,
          5756.87,
          2486.1,
          917.78,
          1370.9,
          1120.64,
          1370.9,
          2958.13,
          344.76,
          288.18,
          633.47,
          163.17,
          1471.5,
          9634.55,
          4301.29,
          5701.28,
          2399.53,
          3175.9,
          59080.18,
          2713.47,
          0.0,
          105.44,
          105.45,
          1339.7,
          145.0,
          3495.76,
          316.35,
          56756.8,
          157.27,
          1353.11,
          829.16,
          10336.07,
          5952.31,
          738.14,
          256.36,
          11616.64,
          781.54,
          5157.81,
          0.0,
          140.9,
          210.9,
          105.45,
          1129.56,
          2038.98,
          631.58,
          3538.08,
          281.8,
          1579.76,
          328.51,
          1887.15,
          724.69,
          1692.71,
          3608.72,
          550.5,
          4787.79,
          1132.86,
          3133.69,
          90.0,
          525.9,
          1365.24,
          4383.0,
          1433.59,
          3301.65,
          5806.64,
          171.2,
          623.63,
          696.6,
          2085.21,
          1986.07,
          1238.39,
          1080.06,
          115.45,
          289.28,
          1768.44,
          8873.26,
          5429.63,
          105.44,
          338.4,
          321.81,
          184.54,
          4679.84,
          3491.73,
          1184.01,
          646.24,
          1335.98,
          537.8,
          18653.5,
          329.13,
          1467.48,
          447.0,
          2975.05,
          961.8,
          2097.79,
          2937.2,
          320.72,
          1678.09,
          2873.76,
          7609.66,
          158.17,
          170.07,
          198.4,
          1383.39,
          1243.54,
          223.62,
          520.89,
          706.43,
          136.74,
          1967.8,
          619.2,
          316.35,
          658.56,
          3593.83,
          1070.67,
          675.37,
          329.13,
          263.1,
          537.04,
          140.9,
          1345.3,
          687.84,
          0.0,
          1948.05,
          1666.27,
          2696.48,
          4043.67,
          4003.19,
          1717.38,
          115.45,
          5473.73,
          3937.77,
          1159.65,
          4241.8,
          4393.51,
          276.27,
          3090.18,
          0.0,
          593.4,
          1093.62,
          1578.55,
          2258.08,
          2123.67,
          335.95,
          13752.1,
          6522.42,
          7576.87,
          2142.72,
          8242.36,
          0.0,
          295.37,
          1711.69,
          1549.54,
          3070.15,
          296.36,
          52.72,
          441.81,
          134.54,
          836.24,
          2300.64,
          6154.2,
          106.96,
          140.9,
          507.25,
          1019.79,
          115.45,
          4969.92,
          1112.04,
          115.45,
          599.88,
          0.0,
          826.58,
          3435.71,
          1629.94,
          1522.64,
          9257.2,
          2500.97,
          13842.4,
          642.34,
          2480.1,
          3941.74,
          1524.84,
          447.72,
          1241.21,
          5704.88,
          465.9,
          13743.19,
          3208.17,
          827.33,
          695.64,
          1844.72,
          844.96,
          140.9,
          4631.24,
          115.45,
          1455.95,
          1123.39,
          437.71,
          3695.73,
          6450.14,
          2240.79,
          358.27,
          609.77,
          738.15,
          797.8,
          243.63,
          884.53,
          335.98,
          2815.36,
          148.18,
          848.54,
          657.95,
          5853.28,
          528.4,
          2479.77,
          919.35,
          1987.52,
          878.02,
          3248.9,
          21257.1,
          631.91,
          815.37,
          553.93,
          1648.43,
          509.08,
          1083.92,
          911.24,
          2371.72,
          562.12,
          4271.58,
          1534.38,
          628.48,
          4591.36,
          1132.54,
          2400.63,
          2596.5,
          1085.9,
          1543.2,
          0.0,
          6335.0,
          12574.75,
          566.51,
          553.78,
          354.54,
          136.36,
          1883.63,
          0.0,
          1252.65,
          572.69,
          94.54,
          1683.93,
          3664.25,
          3191.6,
          175.44,
          895.14,
          248.02,
          0.0,
          3019.96,
          6165.61,
          3957.0,
          168.63,
          140.9,
          369.07,
          1079.99,
          1931.44,
          743.63,
          331.36,
          2082.87,
          115.45,
          5430.21,
          3547.63,
          158.16,
          2466.54,
          -0.02,
          1515.3,
          4128.37,
          430.0,
          130.9,
          3759.64,
          4984.43,
          764.09,
          3249.45,
          127.26,
          1192.94,
          109.09,
          5001.94,
          987.52,
          115.45,
          336.94,
          1022.3,
          1048.17,
          2259.88,
          2542.97,
          1074.79
         ],
         "yaxis": "y",
         "type": "bar"
        },
        {
         "alignmentgroup": "True",
         "hovertemplate": "channel=%{x}<br>ca_tot=%{y}<extra></extra>",
         "legendgroup": "WEB",
         "marker": {
          "color": "#ab63fa",
          "pattern": {
           "shape": ""
          }
         },
         "name": "WEB",
         "offsetgroup": "WEB",
         "orientation": "v",
         "showlegend": true,
         "textposition": "auto",
         "x": [
          "WEB",
          "WEB",
          "WEB",
          "WEB",
          "WEB",
          "WEB",
          "WEB",
          "WEB",
          "WEB",
          "WEB",
          "WEB",
          "WEB",
          "WEB",
          "WEB",
          "WEB",
          "WEB",
          "WEB",
          "WEB",
          "WEB",
          "WEB",
          "WEB",
          "WEB",
          "WEB",
          "WEB",
          "WEB",
          "WEB",
          "WEB",
          "WEB",
          "WEB",
          "WEB",
          "WEB",
          "WEB",
          "WEB",
          "WEB",
          "WEB",
          "WEB",
          "WEB",
          "WEB",
          "WEB",
          "WEB",
          "WEB",
          "WEB",
          "WEB",
          "WEB",
          "WEB",
          "WEB",
          "WEB",
          "WEB",
          "WEB",
          "WEB",
          "WEB",
          "WEB",
          "WEB",
          "WEB",
          "WEB",
          "WEB",
          "WEB",
          "WEB",
          "WEB",
          "WEB",
          "WEB",
          "WEB",
          "WEB",
          "WEB",
          "WEB",
          "WEB",
          "WEB",
          "WEB",
          "WEB",
          "WEB",
          "WEB",
          "WEB",
          "WEB",
          "WEB",
          "WEB",
          "WEB",
          "WEB",
          "WEB",
          "WEB",
          "WEB",
          "WEB",
          "WEB",
          "WEB",
          "WEB",
          "WEB",
          "WEB",
          "WEB",
          "WEB",
          "WEB",
          "WEB",
          "WEB",
          "WEB",
          "WEB",
          "WEB",
          "WEB",
          "WEB",
          "WEB",
          "WEB",
          "WEB",
          "WEB",
          "WEB",
          "WEB",
          "WEB",
          "WEB",
          "WEB",
          "WEB",
          "WEB",
          "WEB",
          "WEB",
          "WEB",
          "WEB",
          "WEB",
          "WEB",
          "WEB",
          "WEB",
          "WEB",
          "WEB",
          "WEB",
          "WEB",
          "WEB",
          "WEB",
          "WEB",
          "WEB",
          "WEB",
          "WEB",
          "WEB",
          "WEB",
          "WEB",
          "WEB",
          "WEB",
          "WEB",
          "WEB",
          "WEB",
          "WEB",
          "WEB",
          "WEB",
          "WEB",
          "WEB",
          "WEB",
          "WEB",
          "WEB",
          "WEB",
          "WEB",
          "WEB",
          "WEB",
          "WEB",
          "WEB",
          "WEB",
          "WEB",
          "WEB",
          "WEB",
          "WEB",
          "WEB",
          "WEB",
          "WEB",
          "WEB",
          "WEB",
          "WEB",
          "WEB",
          "WEB",
          "WEB",
          "WEB",
          "WEB",
          "WEB",
          "WEB",
          "WEB",
          "WEB",
          "WEB",
          "WEB",
          "WEB",
          "WEB",
          "WEB",
          "WEB",
          "WEB",
          "WEB",
          "WEB",
          "WEB",
          "WEB",
          "WEB"
         ],
         "xaxis": "x",
         "y": [
          644.92,
          468.21,
          475.91,
          322.72,
          796.51,
          52.72,
          239.1,
          6725.49,
          869.95,
          895.45,
          1014.77,
          407.81,
          1040.22,
          720.63,
          1857.64,
          856.96,
          5933.05,
          1948.82,
          443.36,
          290.61,
          449.99,
          1576.57,
          2085.19,
          922.72,
          3182.62,
          635.07,
          919.16,
          448.86,
          1063.18,
          188.64,
          1170.9,
          1092.49,
          1729.32,
          354.59,
          548.77,
          79.58,
          337.27,
          4447.83,
          267.79,
          1079.76,
          2874.51,
          847.2,
          694.72,
          459.92,
          804.34,
          1913.2,
          517.8,
          0.0,
          1541.07,
          875.33,
          320.53,
          792.57,
          3350.72,
          406.43,
          2279.8,
          780.0,
          1890.89,
          119.13,
          1623.81,
          466.06,
          561.96,
          281.25,
          1005.79,
          811.5,
          341.51,
          720.98,
          738.77,
          1117.27,
          1293.32,
          415.44,
          688.94,
          723.1,
          2102.5,
          697.18,
          466.28,
          624.31,
          981.66,
          1499.93,
          721.51,
          563.1,
          774.06,
          555.87,
          639.23,
          567.78,
          2598.13,
          366.33,
          2520.44,
          291.55,
          568.93,
          1196.5,
          521.36,
          1130.6,
          1205.37,
          2781.19,
          3965.2,
          647.77,
          992.75,
          1289.54,
          1048.7,
          0.0,
          688.93,
          333.18,
          410.37,
          2285.19,
          1293.17,
          671.47,
          1477.99,
          1229.84,
          326.66,
          1152.06,
          1019.69,
          243.64,
          8180.64,
          900.26,
          850.22,
          626.2,
          1665.43,
          210.91,
          1514.35,
          1259.92,
          724.69,
          763.62,
          305.76,
          287.68,
          1928.58,
          334.54,
          1469.3,
          2318.89,
          247.27,
          1075.17,
          1137.35,
          982.33,
          1298.78,
          459.09,
          429.73,
          908.7,
          699.99,
          732.49,
          1835.54,
          1460.75,
          0.0,
          1412.04,
          0.0,
          879.99,
          656.85,
          708.21,
          688.93,
          1830.1,
          119.13,
          468.18,
          333.64,
          296.66,
          582.34,
          343.63,
          1065.22,
          789.72,
          726.59,
          1014.23,
          2844.94,
          262.12,
          436.5,
          2311.63,
          0.0,
          2259.36,
          888.25,
          593.55,
          655.07,
          2127.55,
          503.69,
          988.55,
          1309.39,
          1213.99,
          443.03,
          669.72,
          1638.08,
          516.74,
          1418.87,
          184.55,
          753.71
         ],
         "yaxis": "y",
         "type": "bar"
        },
        {
         "alignmentgroup": "True",
         "hovertemplate": "channel=%{x}<br>ca_tot=%{y}<extra></extra>",
         "legendgroup": "LT",
         "marker": {
          "color": "#FFA15A",
          "pattern": {
           "shape": ""
          }
         },
         "name": "LT",
         "offsetgroup": "LT",
         "orientation": "v",
         "showlegend": true,
         "textposition": "auto",
         "x": [
          "LT",
          "LT",
          "LT",
          "LT",
          "LT",
          "LT",
          "LT",
          "LT",
          "LT",
          "LT",
          "LT",
          "LT",
          "LT"
         ],
         "xaxis": "x",
         "y": [
          149.46,
          167.42,
          179.26,
          3472.68,
          138.18,
          227.14,
          159.84,
          147.72,
          138.18,
          143.63,
          187.83,
          138.18,
          138.18
         ],
         "yaxis": "y",
         "type": "bar"
        },
        {
         "alignmentgroup": "True",
         "hovertemplate": "channel=%{x}<br>ca_tot=%{y}<extra></extra>",
         "legendgroup": "WI",
         "marker": {
          "color": "#19d3f3",
          "pattern": {
           "shape": ""
          }
         },
         "name": "WI",
         "offsetgroup": "WI",
         "orientation": "v",
         "showlegend": true,
         "textposition": "auto",
         "x": [
          "WI",
          "WI",
          "WI",
          "WI",
          "WI",
          "WI",
          "WI",
          "WI",
          "WI",
          "WI",
          "WI",
          "WI",
          "WI",
          "WI",
          "WI",
          "WI"
         ],
         "xaxis": "x",
         "y": [
          2062.4,
          2266.16,
          804.09,
          939.68,
          5294.17,
          188.18,
          8059.82,
          0.0,
          0.0,
          485.75,
          272.72,
          508.18,
          1201.88,
          0.0,
          756.59,
          115.45
         ],
         "yaxis": "y",
         "type": "bar"
        },
        {
         "alignmentgroup": "True",
         "hovertemplate": "channel=%{x}<br>ca_tot=%{y}<extra></extra>",
         "legendgroup": "SAL",
         "marker": {
          "color": "#FF6692",
          "pattern": {
           "shape": ""
          }
         },
         "name": "SAL",
         "offsetgroup": "SAL",
         "orientation": "v",
         "showlegend": true,
         "textposition": "auto",
         "x": [
          "SAL",
          "SAL",
          "SAL",
          "SAL"
         ],
         "xaxis": "x",
         "y": [
          325.64,
          625.44,
          262.72,
          156.36
         ],
         "yaxis": "y",
         "type": "bar"
        },
        {
         "alignmentgroup": "True",
         "hovertemplate": "channel=%{x}<br>ca_tot=%{y}<extra></extra>",
         "legendgroup": "EMW",
         "marker": {
          "color": "#B6E880",
          "pattern": {
           "shape": ""
          }
         },
         "name": "EMW",
         "offsetgroup": "EMW",
         "orientation": "v",
         "showlegend": true,
         "textposition": "auto",
         "x": [
          "EMW"
         ],
         "xaxis": "x",
         "y": [
          1727.79
         ],
         "yaxis": "y",
         "type": "bar"
        },
        {
         "alignmentgroup": "True",
         "hovertemplate": "channel=%{x}<br>ca_tot=%{y}<extra></extra>",
         "legendgroup": "CRS",
         "marker": {
          "color": "#FF97FF",
          "pattern": {
           "shape": ""
          }
         },
         "name": "CRS",
         "offsetgroup": "CRS",
         "orientation": "v",
         "showlegend": true,
         "textposition": "auto",
         "x": [
          "CRS"
         ],
         "xaxis": "x",
         "y": [
          2456.5
         ],
         "yaxis": "y",
         "type": "bar"
        }
       ],
       "layout": {
        "template": {
         "data": {
          "histogram2dcontour": [
           {
            "type": "histogram2dcontour",
            "colorbar": {
             "outlinewidth": 0,
             "ticks": ""
            },
            "colorscale": [
             [
              0.0,
              "#0d0887"
             ],
             [
              0.1111111111111111,
              "#46039f"
             ],
             [
              0.2222222222222222,
              "#7201a8"
             ],
             [
              0.3333333333333333,
              "#9c179e"
             ],
             [
              0.4444444444444444,
              "#bd3786"
             ],
             [
              0.5555555555555556,
              "#d8576b"
             ],
             [
              0.6666666666666666,
              "#ed7953"
             ],
             [
              0.7777777777777778,
              "#fb9f3a"
             ],
             [
              0.8888888888888888,
              "#fdca26"
             ],
             [
              1.0,
              "#f0f921"
             ]
            ]
           }
          ],
          "choropleth": [
           {
            "type": "choropleth",
            "colorbar": {
             "outlinewidth": 0,
             "ticks": ""
            }
           }
          ],
          "histogram2d": [
           {
            "type": "histogram2d",
            "colorbar": {
             "outlinewidth": 0,
             "ticks": ""
            },
            "colorscale": [
             [
              0.0,
              "#0d0887"
             ],
             [
              0.1111111111111111,
              "#46039f"
             ],
             [
              0.2222222222222222,
              "#7201a8"
             ],
             [
              0.3333333333333333,
              "#9c179e"
             ],
             [
              0.4444444444444444,
              "#bd3786"
             ],
             [
              0.5555555555555556,
              "#d8576b"
             ],
             [
              0.6666666666666666,
              "#ed7953"
             ],
             [
              0.7777777777777778,
              "#fb9f3a"
             ],
             [
              0.8888888888888888,
              "#fdca26"
             ],
             [
              1.0,
              "#f0f921"
             ]
            ]
           }
          ],
          "heatmap": [
           {
            "type": "heatmap",
            "colorbar": {
             "outlinewidth": 0,
             "ticks": ""
            },
            "colorscale": [
             [
              0.0,
              "#0d0887"
             ],
             [
              0.1111111111111111,
              "#46039f"
             ],
             [
              0.2222222222222222,
              "#7201a8"
             ],
             [
              0.3333333333333333,
              "#9c179e"
             ],
             [
              0.4444444444444444,
              "#bd3786"
             ],
             [
              0.5555555555555556,
              "#d8576b"
             ],
             [
              0.6666666666666666,
              "#ed7953"
             ],
             [
              0.7777777777777778,
              "#fb9f3a"
             ],
             [
              0.8888888888888888,
              "#fdca26"
             ],
             [
              1.0,
              "#f0f921"
             ]
            ]
           }
          ],
          "heatmapgl": [
           {
            "type": "heatmapgl",
            "colorbar": {
             "outlinewidth": 0,
             "ticks": ""
            },
            "colorscale": [
             [
              0.0,
              "#0d0887"
             ],
             [
              0.1111111111111111,
              "#46039f"
             ],
             [
              0.2222222222222222,
              "#7201a8"
             ],
             [
              0.3333333333333333,
              "#9c179e"
             ],
             [
              0.4444444444444444,
              "#bd3786"
             ],
             [
              0.5555555555555556,
              "#d8576b"
             ],
             [
              0.6666666666666666,
              "#ed7953"
             ],
             [
              0.7777777777777778,
              "#fb9f3a"
             ],
             [
              0.8888888888888888,
              "#fdca26"
             ],
             [
              1.0,
              "#f0f921"
             ]
            ]
           }
          ],
          "contourcarpet": [
           {
            "type": "contourcarpet",
            "colorbar": {
             "outlinewidth": 0,
             "ticks": ""
            }
           }
          ],
          "contour": [
           {
            "type": "contour",
            "colorbar": {
             "outlinewidth": 0,
             "ticks": ""
            },
            "colorscale": [
             [
              0.0,
              "#0d0887"
             ],
             [
              0.1111111111111111,
              "#46039f"
             ],
             [
              0.2222222222222222,
              "#7201a8"
             ],
             [
              0.3333333333333333,
              "#9c179e"
             ],
             [
              0.4444444444444444,
              "#bd3786"
             ],
             [
              0.5555555555555556,
              "#d8576b"
             ],
             [
              0.6666666666666666,
              "#ed7953"
             ],
             [
              0.7777777777777778,
              "#fb9f3a"
             ],
             [
              0.8888888888888888,
              "#fdca26"
             ],
             [
              1.0,
              "#f0f921"
             ]
            ]
           }
          ],
          "surface": [
           {
            "type": "surface",
            "colorbar": {
             "outlinewidth": 0,
             "ticks": ""
            },
            "colorscale": [
             [
              0.0,
              "#0d0887"
             ],
             [
              0.1111111111111111,
              "#46039f"
             ],
             [
              0.2222222222222222,
              "#7201a8"
             ],
             [
              0.3333333333333333,
              "#9c179e"
             ],
             [
              0.4444444444444444,
              "#bd3786"
             ],
             [
              0.5555555555555556,
              "#d8576b"
             ],
             [
              0.6666666666666666,
              "#ed7953"
             ],
             [
              0.7777777777777778,
              "#fb9f3a"
             ],
             [
              0.8888888888888888,
              "#fdca26"
             ],
             [
              1.0,
              "#f0f921"
             ]
            ]
           }
          ],
          "mesh3d": [
           {
            "type": "mesh3d",
            "colorbar": {
             "outlinewidth": 0,
             "ticks": ""
            }
           }
          ],
          "scatter": [
           {
            "fillpattern": {
             "fillmode": "overlay",
             "size": 10,
             "solidity": 0.2
            },
            "type": "scatter"
           }
          ],
          "parcoords": [
           {
            "type": "parcoords",
            "line": {
             "colorbar": {
              "outlinewidth": 0,
              "ticks": ""
             }
            }
           }
          ],
          "scatterpolargl": [
           {
            "type": "scatterpolargl",
            "marker": {
             "colorbar": {
              "outlinewidth": 0,
              "ticks": ""
             }
            }
           }
          ],
          "bar": [
           {
            "error_x": {
             "color": "#2a3f5f"
            },
            "error_y": {
             "color": "#2a3f5f"
            },
            "marker": {
             "line": {
              "color": "#E5ECF6",
              "width": 0.5
             },
             "pattern": {
              "fillmode": "overlay",
              "size": 10,
              "solidity": 0.2
             }
            },
            "type": "bar"
           }
          ],
          "scattergeo": [
           {
            "type": "scattergeo",
            "marker": {
             "colorbar": {
              "outlinewidth": 0,
              "ticks": ""
             }
            }
           }
          ],
          "scatterpolar": [
           {
            "type": "scatterpolar",
            "marker": {
             "colorbar": {
              "outlinewidth": 0,
              "ticks": ""
             }
            }
           }
          ],
          "histogram": [
           {
            "marker": {
             "pattern": {
              "fillmode": "overlay",
              "size": 10,
              "solidity": 0.2
             }
            },
            "type": "histogram"
           }
          ],
          "scattergl": [
           {
            "type": "scattergl",
            "marker": {
             "colorbar": {
              "outlinewidth": 0,
              "ticks": ""
             }
            }
           }
          ],
          "scatter3d": [
           {
            "type": "scatter3d",
            "line": {
             "colorbar": {
              "outlinewidth": 0,
              "ticks": ""
             }
            },
            "marker": {
             "colorbar": {
              "outlinewidth": 0,
              "ticks": ""
             }
            }
           }
          ],
          "scattermapbox": [
           {
            "type": "scattermapbox",
            "marker": {
             "colorbar": {
              "outlinewidth": 0,
              "ticks": ""
             }
            }
           }
          ],
          "scatterternary": [
           {
            "type": "scatterternary",
            "marker": {
             "colorbar": {
              "outlinewidth": 0,
              "ticks": ""
             }
            }
           }
          ],
          "scattercarpet": [
           {
            "type": "scattercarpet",
            "marker": {
             "colorbar": {
              "outlinewidth": 0,
              "ticks": ""
             }
            }
           }
          ],
          "carpet": [
           {
            "aaxis": {
             "endlinecolor": "#2a3f5f",
             "gridcolor": "white",
             "linecolor": "white",
             "minorgridcolor": "white",
             "startlinecolor": "#2a3f5f"
            },
            "baxis": {
             "endlinecolor": "#2a3f5f",
             "gridcolor": "white",
             "linecolor": "white",
             "minorgridcolor": "white",
             "startlinecolor": "#2a3f5f"
            },
            "type": "carpet"
           }
          ],
          "table": [
           {
            "cells": {
             "fill": {
              "color": "#EBF0F8"
             },
             "line": {
              "color": "white"
             }
            },
            "header": {
             "fill": {
              "color": "#C8D4E3"
             },
             "line": {
              "color": "white"
             }
            },
            "type": "table"
           }
          ],
          "barpolar": [
           {
            "marker": {
             "line": {
              "color": "#E5ECF6",
              "width": 0.5
             },
             "pattern": {
              "fillmode": "overlay",
              "size": 10,
              "solidity": 0.2
             }
            },
            "type": "barpolar"
           }
          ],
          "pie": [
           {
            "automargin": true,
            "type": "pie"
           }
          ]
         },
         "layout": {
          "autotypenumbers": "strict",
          "colorway": [
           "#636efa",
           "#EF553B",
           "#00cc96",
           "#ab63fa",
           "#FFA15A",
           "#19d3f3",
           "#FF6692",
           "#B6E880",
           "#FF97FF",
           "#FECB52"
          ],
          "font": {
           "color": "#2a3f5f"
          },
          "hovermode": "closest",
          "hoverlabel": {
           "align": "left"
          },
          "paper_bgcolor": "white",
          "plot_bgcolor": "#E5ECF6",
          "polar": {
           "bgcolor": "#E5ECF6",
           "angularaxis": {
            "gridcolor": "white",
            "linecolor": "white",
            "ticks": ""
           },
           "radialaxis": {
            "gridcolor": "white",
            "linecolor": "white",
            "ticks": ""
           }
          },
          "ternary": {
           "bgcolor": "#E5ECF6",
           "aaxis": {
            "gridcolor": "white",
            "linecolor": "white",
            "ticks": ""
           },
           "baxis": {
            "gridcolor": "white",
            "linecolor": "white",
            "ticks": ""
           },
           "caxis": {
            "gridcolor": "white",
            "linecolor": "white",
            "ticks": ""
           }
          },
          "coloraxis": {
           "colorbar": {
            "outlinewidth": 0,
            "ticks": ""
           }
          },
          "colorscale": {
           "sequential": [
            [
             0.0,
             "#0d0887"
            ],
            [
             0.1111111111111111,
             "#46039f"
            ],
            [
             0.2222222222222222,
             "#7201a8"
            ],
            [
             0.3333333333333333,
             "#9c179e"
            ],
            [
             0.4444444444444444,
             "#bd3786"
            ],
            [
             0.5555555555555556,
             "#d8576b"
            ],
            [
             0.6666666666666666,
             "#ed7953"
            ],
            [
             0.7777777777777778,
             "#fb9f3a"
            ],
            [
             0.8888888888888888,
             "#fdca26"
            ],
            [
             1.0,
             "#f0f921"
            ]
           ],
           "sequentialminus": [
            [
             0.0,
             "#0d0887"
            ],
            [
             0.1111111111111111,
             "#46039f"
            ],
            [
             0.2222222222222222,
             "#7201a8"
            ],
            [
             0.3333333333333333,
             "#9c179e"
            ],
            [
             0.4444444444444444,
             "#bd3786"
            ],
            [
             0.5555555555555556,
             "#d8576b"
            ],
            [
             0.6666666666666666,
             "#ed7953"
            ],
            [
             0.7777777777777778,
             "#fb9f3a"
            ],
            [
             0.8888888888888888,
             "#fdca26"
            ],
            [
             1.0,
             "#f0f921"
            ]
           ],
           "diverging": [
            [
             0,
             "#8e0152"
            ],
            [
             0.1,
             "#c51b7d"
            ],
            [
             0.2,
             "#de77ae"
            ],
            [
             0.3,
             "#f1b6da"
            ],
            [
             0.4,
             "#fde0ef"
            ],
            [
             0.5,
             "#f7f7f7"
            ],
            [
             0.6,
             "#e6f5d0"
            ],
            [
             0.7,
             "#b8e186"
            ],
            [
             0.8,
             "#7fbc41"
            ],
            [
             0.9,
             "#4d9221"
            ],
            [
             1,
             "#276419"
            ]
           ]
          },
          "xaxis": {
           "gridcolor": "white",
           "linecolor": "white",
           "ticks": "",
           "title": {
            "standoff": 15
           },
           "zerolinecolor": "white",
           "automargin": true,
           "zerolinewidth": 2
          },
          "yaxis": {
           "gridcolor": "white",
           "linecolor": "white",
           "ticks": "",
           "title": {
            "standoff": 15
           },
           "zerolinecolor": "white",
           "automargin": true,
           "zerolinewidth": 2
          },
          "scene": {
           "xaxis": {
            "backgroundcolor": "#E5ECF6",
            "gridcolor": "white",
            "linecolor": "white",
            "showbackground": true,
            "ticks": "",
            "zerolinecolor": "white",
            "gridwidth": 2
           },
           "yaxis": {
            "backgroundcolor": "#E5ECF6",
            "gridcolor": "white",
            "linecolor": "white",
            "showbackground": true,
            "ticks": "",
            "zerolinecolor": "white",
            "gridwidth": 2
           },
           "zaxis": {
            "backgroundcolor": "#E5ECF6",
            "gridcolor": "white",
            "linecolor": "white",
            "showbackground": true,
            "ticks": "",
            "zerolinecolor": "white",
            "gridwidth": 2
           }
          },
          "shapedefaults": {
           "line": {
            "color": "#2a3f5f"
           }
          },
          "annotationdefaults": {
           "arrowcolor": "#2a3f5f",
           "arrowhead": 0,
           "arrowwidth": 1
          },
          "geo": {
           "bgcolor": "white",
           "landcolor": "#E5ECF6",
           "subunitcolor": "white",
           "showland": true,
           "showlakes": true,
           "lakecolor": "white"
          },
          "title": {
           "x": 0.05
          },
          "mapbox": {
           "style": "light"
          }
         }
        },
        "xaxis": {
         "anchor": "y",
         "domain": [
          0.0,
          1.0
         ],
         "title": {
          "text": "channel"
         },
         "categoryorder": "array",
         "categoryarray": [
          "IN",
          "EML",
          "TEL",
          "WEB",
          "LT",
          "WI",
          "SAL",
          "EMW",
          "CRS"
         ]
        },
        "yaxis": {
         "anchor": "x",
         "domain": [
          0.0,
          1.0
         ],
         "title": {
          "text": "ca_tot"
         }
        },
        "legend": {
         "title": {
          "text": "channel"
         },
         "tracegroupgap": 0
        },
        "margin": {
         "t": 60
        },
        "barmode": "relative",
        "width": 500,
        "bargap": 0.01
       },
       "config": {
        "plotlyServerURL": "https://plot.ly"
       }
      },
      "text/html": "<div>                            <div id=\"d678860e-dc4c-451a-a688-839209049056\" class=\"plotly-graph-div\" style=\"height:525px; width:500px;\"></div>            <script type=\"text/javascript\">                require([\"plotly\"], function(Plotly) {                    window.PLOTLYENV=window.PLOTLYENV || {};                                    if (document.getElementById(\"d678860e-dc4c-451a-a688-839209049056\")) {                    Plotly.newPlot(                        \"d678860e-dc4c-451a-a688-839209049056\",                        [{\"alignmentgroup\":\"True\",\"hovertemplate\":\"channel=%{x}\\u003cbr\\u003eca_tot=%{y}\\u003cextra\\u003e\\u003c\\u002fextra\\u003e\",\"legendgroup\":\"IN\",\"marker\":{\"color\":\"#636efa\",\"pattern\":{\"shape\":\"\"}},\"name\":\"IN\",\"offsetgroup\":\"IN\",\"orientation\":\"v\",\"showlegend\":true,\"textposition\":\"auto\",\"x\":[\"IN\",\"IN\",\"IN\",\"IN\",\"IN\",\"IN\",\"IN\",\"IN\",\"IN\",\"IN\",\"IN\",\"IN\",\"IN\",\"IN\",\"IN\",\"IN\",\"IN\",\"IN\",\"IN\",\"IN\",\"IN\",\"IN\",\"IN\",\"IN\",\"IN\",\"IN\",\"IN\",\"IN\",\"IN\",\"IN\",\"IN\"],\"xaxis\":\"x\",\"y\":[620.89,432.71,140.9,923.61,8.63,0.0,426.66,404.91,1345.79,2700.12,2327.49,540.97,2071.06,178.18,441.93,0.0,0.0,363.62,132.27,819.61,2199.56,267.42,0.0,709.97,910.77,524.54,405.14,0.0,698.55,429.26,1849.66],\"yaxis\":\"y\",\"type\":\"bar\"},{\"alignmentgroup\":\"True\",\"hovertemplate\":\"channel=%{x}\\u003cbr\\u003eca_tot=%{y}\\u003cextra\\u003e\\u003c\\u002fextra\\u003e\",\"legendgroup\":\"EML\",\"marker\":{\"color\":\"#EF553B\",\"pattern\":{\"shape\":\"\"}},\"name\":\"EML\",\"offsetgroup\":\"EML\",\"orientation\":\"v\",\"showlegend\":true,\"textposition\":\"auto\",\"x\":[\"EML\",\"EML\",\"EML\",\"EML\",\"EML\",\"EML\",\"EML\",\"EML\",\"EML\",\"EML\",\"EML\",\"EML\",\"EML\",\"EML\",\"EML\",\"EML\",\"EML\",\"EML\",\"EML\",\"EML\",\"EML\",\"EML\",\"EML\",\"EML\",\"EML\",\"EML\",\"EML\",\"EML\",\"EML\",\"EML\",\"EML\",\"EML\",\"EML\",\"EML\",\"EML\",\"EML\",\"EML\",\"EML\",\"EML\",\"EML\",\"EML\",\"EML\",\"EML\",\"EML\",\"EML\",\"EML\",\"EML\",\"EML\",\"EML\",\"EML\",\"EML\",\"EML\",\"EML\",\"EML\",\"EML\",\"EML\",\"EML\",\"EML\",\"EML\",\"EML\",\"EML\",\"EML\",\"EML\",\"EML\",\"EML\",\"EML\",\"EML\",\"EML\",\"EML\",\"EML\",\"EML\",\"EML\",\"EML\",\"EML\",\"EML\",\"EML\",\"EML\",\"EML\",\"EML\",\"EML\",\"EML\",\"EML\",\"EML\",\"EML\",\"EML\",\"EML\",\"EML\",\"EML\",\"EML\",\"EML\",\"EML\",\"EML\",\"EML\",\"EML\",\"EML\",\"EML\",\"EML\",\"EML\",\"EML\",\"EML\",\"EML\",\"EML\",\"EML\",\"EML\",\"EML\",\"EML\",\"EML\",\"EML\",\"EML\",\"EML\",\"EML\",\"EML\",\"EML\",\"EML\",\"EML\",\"EML\",\"EML\",\"EML\",\"EML\",\"EML\",\"EML\",\"EML\",\"EML\",\"EML\",\"EML\",\"EML\",\"EML\",\"EML\",\"EML\",\"EML\",\"EML\",\"EML\",\"EML\",\"EML\",\"EML\",\"EML\",\"EML\",\"EML\",\"EML\",\"EML\",\"EML\",\"EML\",\"EML\",\"EML\",\"EML\",\"EML\",\"EML\",\"EML\",\"EML\",\"EML\",\"EML\",\"EML\",\"EML\",\"EML\",\"EML\",\"EML\",\"EML\",\"EML\",\"EML\",\"EML\",\"EML\",\"EML\",\"EML\",\"EML\",\"EML\",\"EML\",\"EML\",\"EML\",\"EML\",\"EML\",\"EML\",\"EML\",\"EML\",\"EML\",\"EML\",\"EML\",\"EML\",\"EML\",\"EML\",\"EML\",\"EML\",\"EML\",\"EML\",\"EML\",\"EML\",\"EML\",\"EML\",\"EML\",\"EML\",\"EML\",\"EML\",\"EML\",\"EML\",\"EML\",\"EML\",\"EML\",\"EML\",\"EML\",\"EML\",\"EML\",\"EML\",\"EML\",\"EML\",\"EML\",\"EML\",\"EML\",\"EML\",\"EML\",\"EML\",\"EML\",\"EML\",\"EML\",\"EML\",\"EML\",\"EML\",\"EML\",\"EML\",\"EML\",\"EML\",\"EML\",\"EML\",\"EML\",\"EML\",\"EML\",\"EML\",\"EML\",\"EML\",\"EML\",\"EML\",\"EML\",\"EML\",\"EML\",\"EML\",\"EML\",\"EML\",\"EML\",\"EML\",\"EML\",\"EML\",\"EML\",\"EML\",\"EML\",\"EML\",\"EML\",\"EML\",\"EML\"],\"xaxis\":\"x\",\"y\":[589.53,4128.17,0.0,1109.08,0.0,572.7,586.35,1267.9,572.7,451.52,420.45,346.35,1083.61,584.3,610.43,1458.97,1994.18,692.7,253.93,6431.6,460.71,11034.49,878.86,539.54,1228.16,304.54,5499.37,1122.98,0.0,0.0,477.27,441.81,212.65,1972.71,17045.06,287.19,5988.27,688.66,230.9,495.45,121.28,444.99,968.16,262.57,350.37,552.93,2113.17,140.9,156.36,643.63,1617.11,227.27,664.98,1010.74,320.22,115.45,849.34,998.78,441.81,609.08,354.54,2170.66,444.99,2590.46,597.45,477.27,240.61,63.63,364.54,916.35,399.0,354.54,0.0,159.09,138.18,354.54,354.54,0.0,4929.41,1241.34,259.54,4487.71,2055.85,312.72,324.77,609.08,354.54,4735.86,418.82,605.43,681.2,201.81,1982.88,708.77,5008.11,5985.76,0.0,1004.53,276.36,498.76,5191.0,469.92,163.63,661.36,12581.49,10903.46,528.98,283.17,999.99,682.87,1004.53,975.89,403.62,4496.1,0.0,3835.52,331.2,2035.32,1098.94,1623.79,230.9,477.27,1082.56,579.08,21377.54,477.27,828.08,381.8,616.36,1843.71,1508.16,105.45,477.27,581.34,3538.07,52.72,565.92,2671.59,625.43,1006.96,312.72,904.53,0.0,554.54,227.27,1004.53,432.04,1109.08,1110.44,115.45,362.87,441.81,304.54,322.72,667.41,1710.03,381.81,367.41,622.93,2326.62,0.0,304.54,2475.62,525.65,258.17,331.96,105.45,269.76,115.45,564.37,559.2,757.69,227.27,318.62,515.45,0.0,105.45,533.62,1552.19,5084.6,4431.42,1109.08,477.27,165.44,441.81,1546.76,362.12,344.13,494.54,645.75,354.54,673.77,127.27,1172.14,2159.05,159.77,2149.76,4355.67,477.27,728.87,609.07,4035.6,458.63,354.54,6276.88,554.54,5278.43,2703.46,795.45,605.43,667.41,453.62,985.31,354.54,402.64,148.18,2709.55,5499.29,6123.93,1109.08,4279.69,369.72,23310.77,721.65,403.62,170.53,1182.47,381.2,140.9,0.0,7580.5,2072.09,318.18,1319.08,1303.64,130.89,1777.19,159.09,115.45,971.32,227.27,630.89,143.73,801.36,318.82,362.87],\"yaxis\":\"y\",\"type\":\"bar\"},{\"alignmentgroup\":\"True\",\"hovertemplate\":\"channel=%{x}\\u003cbr\\u003eca_tot=%{y}\\u003cextra\\u003e\\u003c\\u002fextra\\u003e\",\"legendgroup\":\"TEL\",\"marker\":{\"color\":\"#00cc96\",\"pattern\":{\"shape\":\"\"}},\"name\":\"TEL\",\"offsetgroup\":\"TEL\",\"orientation\":\"v\",\"showlegend\":true,\"textposition\":\"auto\",\"x\":[\"TEL\",\"TEL\",\"TEL\",\"TEL\",\"TEL\",\"TEL\",\"TEL\",\"TEL\",\"TEL\",\"TEL\",\"TEL\",\"TEL\",\"TEL\",\"TEL\",\"TEL\",\"TEL\",\"TEL\",\"TEL\",\"TEL\",\"TEL\",\"TEL\",\"TEL\",\"TEL\",\"TEL\",\"TEL\",\"TEL\",\"TEL\",\"TEL\",\"TEL\",\"TEL\",\"TEL\",\"TEL\",\"TEL\",\"TEL\",\"TEL\",\"TEL\",\"TEL\",\"TEL\",\"TEL\",\"TEL\",\"TEL\",\"TEL\",\"TEL\",\"TEL\",\"TEL\",\"TEL\",\"TEL\",\"TEL\",\"TEL\",\"TEL\",\"TEL\",\"TEL\",\"TEL\",\"TEL\",\"TEL\",\"TEL\",\"TEL\",\"TEL\",\"TEL\",\"TEL\",\"TEL\",\"TEL\",\"TEL\",\"TEL\",\"TEL\",\"TEL\",\"TEL\",\"TEL\",\"TEL\",\"TEL\",\"TEL\",\"TEL\",\"TEL\",\"TEL\",\"TEL\",\"TEL\",\"TEL\",\"TEL\",\"TEL\",\"TEL\",\"TEL\",\"TEL\",\"TEL\",\"TEL\",\"TEL\",\"TEL\",\"TEL\",\"TEL\",\"TEL\",\"TEL\",\"TEL\",\"TEL\",\"TEL\",\"TEL\",\"TEL\",\"TEL\",\"TEL\",\"TEL\",\"TEL\",\"TEL\",\"TEL\",\"TEL\",\"TEL\",\"TEL\",\"TEL\",\"TEL\",\"TEL\",\"TEL\",\"TEL\",\"TEL\",\"TEL\",\"TEL\",\"TEL\",\"TEL\",\"TEL\",\"TEL\",\"TEL\",\"TEL\",\"TEL\",\"TEL\",\"TEL\",\"TEL\",\"TEL\",\"TEL\",\"TEL\",\"TEL\",\"TEL\",\"TEL\",\"TEL\",\"TEL\",\"TEL\",\"TEL\",\"TEL\",\"TEL\",\"TEL\",\"TEL\",\"TEL\",\"TEL\",\"TEL\",\"TEL\",\"TEL\",\"TEL\",\"TEL\",\"TEL\",\"TEL\",\"TEL\",\"TEL\",\"TEL\",\"TEL\",\"TEL\",\"TEL\",\"TEL\",\"TEL\",\"TEL\",\"TEL\",\"TEL\",\"TEL\",\"TEL\",\"TEL\",\"TEL\",\"TEL\",\"TEL\",\"TEL\",\"TEL\",\"TEL\",\"TEL\",\"TEL\",\"TEL\",\"TEL\",\"TEL\",\"TEL\",\"TEL\",\"TEL\",\"TEL\",\"TEL\",\"TEL\",\"TEL\",\"TEL\",\"TEL\",\"TEL\",\"TEL\",\"TEL\",\"TEL\",\"TEL\",\"TEL\",\"TEL\",\"TEL\",\"TEL\",\"TEL\",\"TEL\",\"TEL\",\"TEL\",\"TEL\",\"TEL\",\"TEL\",\"TEL\",\"TEL\",\"TEL\",\"TEL\",\"TEL\",\"TEL\",\"TEL\",\"TEL\",\"TEL\",\"TEL\",\"TEL\",\"TEL\",\"TEL\",\"TEL\",\"TEL\",\"TEL\",\"TEL\",\"TEL\",\"TEL\",\"TEL\",\"TEL\",\"TEL\",\"TEL\",\"TEL\",\"TEL\",\"TEL\",\"TEL\",\"TEL\",\"TEL\",\"TEL\",\"TEL\",\"TEL\",\"TEL\",\"TEL\",\"TEL\",\"TEL\",\"TEL\",\"TEL\",\"TEL\",\"TEL\",\"TEL\",\"TEL\",\"TEL\",\"TEL\",\"TEL\",\"TEL\",\"TEL\",\"TEL\",\"TEL\",\"TEL\",\"TEL\",\"TEL\",\"TEL\",\"TEL\",\"TEL\",\"TEL\",\"TEL\",\"TEL\",\"TEL\",\"TEL\",\"TEL\",\"TEL\",\"TEL\",\"TEL\",\"TEL\",\"TEL\",\"TEL\",\"TEL\",\"TEL\",\"TEL\",\"TEL\",\"TEL\",\"TEL\",\"TEL\",\"TEL\",\"TEL\",\"TEL\",\"TEL\",\"TEL\",\"TEL\",\"TEL\",\"TEL\",\"TEL\",\"TEL\",\"TEL\",\"TEL\",\"TEL\",\"TEL\",\"TEL\",\"TEL\",\"TEL\",\"TEL\",\"TEL\",\"TEL\",\"TEL\",\"TEL\",\"TEL\",\"TEL\",\"TEL\",\"TEL\",\"TEL\",\"TEL\",\"TEL\",\"TEL\",\"TEL\",\"TEL\",\"TEL\",\"TEL\",\"TEL\",\"TEL\",\"TEL\",\"TEL\",\"TEL\",\"TEL\",\"TEL\",\"TEL\",\"TEL\",\"TEL\",\"TEL\",\"TEL\",\"TEL\",\"TEL\",\"TEL\",\"TEL\",\"TEL\",\"TEL\",\"TEL\",\"TEL\",\"TEL\",\"TEL\",\"TEL\",\"TEL\",\"TEL\",\"TEL\",\"TEL\",\"TEL\",\"TEL\",\"TEL\",\"TEL\",\"TEL\",\"TEL\",\"TEL\",\"TEL\",\"TEL\",\"TEL\",\"TEL\",\"TEL\",\"TEL\",\"TEL\",\"TEL\",\"TEL\",\"TEL\",\"TEL\",\"TEL\",\"TEL\",\"TEL\",\"TEL\",\"TEL\",\"TEL\",\"TEL\",\"TEL\",\"TEL\",\"TEL\",\"TEL\",\"TEL\",\"TEL\",\"TEL\",\"TEL\",\"TEL\",\"TEL\",\"TEL\",\"TEL\",\"TEL\",\"TEL\",\"TEL\",\"TEL\",\"TEL\",\"TEL\",\"TEL\",\"TEL\",\"TEL\",\"TEL\",\"TEL\",\"TEL\",\"TEL\",\"TEL\",\"TEL\",\"TEL\",\"TEL\",\"TEL\",\"TEL\",\"TEL\",\"TEL\",\"TEL\",\"TEL\",\"TEL\",\"TEL\",\"TEL\",\"TEL\",\"TEL\",\"TEL\",\"TEL\",\"TEL\",\"TEL\",\"TEL\",\"TEL\",\"TEL\",\"TEL\",\"TEL\",\"TEL\",\"TEL\",\"TEL\",\"TEL\",\"TEL\",\"TEL\",\"TEL\",\"TEL\",\"TEL\",\"TEL\",\"TEL\",\"TEL\",\"TEL\",\"TEL\",\"TEL\",\"TEL\",\"TEL\",\"TEL\",\"TEL\",\"TEL\",\"TEL\",\"TEL\",\"TEL\",\"TEL\",\"TEL\",\"TEL\",\"TEL\",\"TEL\",\"TEL\",\"TEL\",\"TEL\",\"TEL\",\"TEL\",\"TEL\",\"TEL\",\"TEL\",\"TEL\",\"TEL\",\"TEL\",\"TEL\",\"TEL\",\"TEL\",\"TEL\",\"TEL\",\"TEL\",\"TEL\",\"TEL\",\"TEL\",\"TEL\",\"TEL\",\"TEL\",\"TEL\",\"TEL\",\"TEL\",\"TEL\",\"TEL\",\"TEL\",\"TEL\",\"TEL\",\"TEL\",\"TEL\",\"TEL\",\"TEL\",\"TEL\",\"TEL\",\"TEL\",\"TEL\",\"TEL\",\"TEL\",\"TEL\",\"TEL\",\"TEL\",\"TEL\",\"TEL\",\"TEL\",\"TEL\",\"TEL\",\"TEL\",\"TEL\",\"TEL\",\"TEL\",\"TEL\",\"TEL\",\"TEL\",\"TEL\",\"TEL\",\"TEL\",\"TEL\",\"TEL\",\"TEL\",\"TEL\",\"TEL\",\"TEL\",\"TEL\",\"TEL\",\"TEL\",\"TEL\",\"TEL\",\"TEL\",\"TEL\",\"TEL\",\"TEL\",\"TEL\",\"TEL\",\"TEL\",\"TEL\",\"TEL\",\"TEL\",\"TEL\",\"TEL\",\"TEL\",\"TEL\",\"TEL\",\"TEL\",\"TEL\",\"TEL\",\"TEL\",\"TEL\",\"TEL\",\"TEL\",\"TEL\",\"TEL\",\"TEL\",\"TEL\",\"TEL\",\"TEL\",\"TEL\",\"TEL\",\"TEL\",\"TEL\",\"TEL\",\"TEL\",\"TEL\",\"TEL\",\"TEL\",\"TEL\",\"TEL\"],\"xaxis\":\"x\",\"y\":[977.45,2913.37,7251.69,500.0,622.79,2320.3,2551.83,1472.52,2696.42,296.36,31874.68,425.56,139.01,136.82,287.19,2705.15,312.5,567.26,1047.34,6188.37,2087.94,2188.28,2581.6,3438.62,1988.32,331.45,1062.22,0.0,9017.22,1024.44,674.69,230.9,1903.95,316.33,2848.56,10927.45,277.27,4398.69,9710.6,2022.52,989.15,905.1,467.26,3079.53,11162.2,3869.62,724.92,1237.38,1521.42,1788.8,12598.46,15940.2,115.45,4008.56,2998.32,140.9,544.24,372.0,311.35,4138.16,808.41,254.52,1110.45,970.03,2469.52,18730.55,540.07,738.15,1331.42,608.48,158.16,796.05,4591.47,814.57,889.84,0.0,2060.6,597.27,1502.16,1159.59,2565.22,2632.49,6129.28,3025.33,52.72,2897.94,140.9,5855.14,2881.58,2215.7,3063.26,152.68,2332.26,1103.18,2684.82,444.92,10.83,7899.87,4975.89,820.35,336.17,538.71,826.8,0.0,444.95,156.36,2464.83,1274.95,270.0,1275.6,828.24,0.0,1733.98,148.18,547.79,236.73,272.72,1154.73,326.67,1481.27,6288.33,105.45,6045.6,2827.59,14470.04,1769.99,1597.63,403.77,1064.53,1581.66,52.72,2752.57,1382.13,937.94,922.83,1862.98,2547.23,704.04,552.15,3218.94,3862.41,628.56,391.98,3675.56,0.0,704.99,456.58,3021.71,269.09,4699.64,1173.59,6530.36,316.35,115.45,301.36,4399.77,0.0,1172.71,1738.24,2914.47,751.16,371.44,381.81,2578.74,4052.43,451.8,311.36,838.67,3845.65,983.61,217.8,1521.12,924.98,1916.65,10224.03,2309.45,2046.05,7509.18,2413.79,249.53,2251.73,447.53,1204.36,381.48,1423.63,0.0,756.66,161.35,282.72,148.18,267.95,1668.14,2700.55,173.33,4103.81,11325.7,836.24,2631.55,1043.93,4315.97,4035.08,734.84,2277.64,0.0,0.0,1299.23,178.4,2230.21,154.08,2044.34,897.62,875.06,637.19,2716.27,52.72,3559.6,16.36,367.27,168.18,568.17,5053.3,1597.86,4001.76,792.64,158.16,5826.51,1073.45,12159.55,2233.66,596.02,713.86,7496.23,2460.03,2039.9,2354.68,642.98,3531.22,1464.68,1216.47,868.9,2598.17,575.12,3205.81,572.95,316.35,2439.69,572.38,7022.22,12063.61,3279.72,5756.87,2486.1,917.78,1370.9,1120.64,1370.9,2958.13,344.76,288.18,633.47,163.17,1471.5,9634.55,4301.29,5701.28,2399.53,3175.9,59080.18,2713.47,0.0,105.44,105.45,1339.7,145.0,3495.76,316.35,56756.8,157.27,1353.11,829.16,10336.07,5952.31,738.14,256.36,11616.64,781.54,5157.81,0.0,140.9,210.9,105.45,1129.56,2038.98,631.58,3538.08,281.8,1579.76,328.51,1887.15,724.69,1692.71,3608.72,550.5,4787.79,1132.86,3133.69,90.0,525.9,1365.24,4383.0,1433.59,3301.65,5806.64,171.2,623.63,696.6,2085.21,1986.07,1238.39,1080.06,115.45,289.28,1768.44,8873.26,5429.63,105.44,338.4,321.81,184.54,4679.84,3491.73,1184.01,646.24,1335.98,537.8,18653.5,329.13,1467.48,447.0,2975.05,961.8,2097.79,2937.2,320.72,1678.09,2873.76,7609.66,158.17,170.07,198.4,1383.39,1243.54,223.62,520.89,706.43,136.74,1967.8,619.2,316.35,658.56,3593.83,1070.67,675.37,329.13,263.1,537.04,140.9,1345.3,687.84,0.0,1948.05,1666.27,2696.48,4043.67,4003.19,1717.38,115.45,5473.73,3937.77,1159.65,4241.8,4393.51,276.27,3090.18,0.0,593.4,1093.62,1578.55,2258.08,2123.67,335.95,13752.1,6522.42,7576.87,2142.72,8242.36,0.0,295.37,1711.69,1549.54,3070.15,296.36,52.72,441.81,134.54,836.24,2300.64,6154.2,106.96,140.9,507.25,1019.79,115.45,4969.92,1112.04,115.45,599.88,0.0,826.58,3435.71,1629.94,1522.64,9257.2,2500.97,13842.4,642.34,2480.1,3941.74,1524.84,447.72,1241.21,5704.88,465.9,13743.19,3208.17,827.33,695.64,1844.72,844.96,140.9,4631.24,115.45,1455.95,1123.39,437.71,3695.73,6450.14,2240.79,358.27,609.77,738.15,797.8,243.63,884.53,335.98,2815.36,148.18,848.54,657.95,5853.28,528.4,2479.77,919.35,1987.52,878.02,3248.9,21257.1,631.91,815.37,553.93,1648.43,509.08,1083.92,911.24,2371.72,562.12,4271.58,1534.38,628.48,4591.36,1132.54,2400.63,2596.5,1085.9,1543.2,0.0,6335.0,12574.75,566.51,553.78,354.54,136.36,1883.63,0.0,1252.65,572.69,94.54,1683.93,3664.25,3191.6,175.44,895.14,248.02,0.0,3019.96,6165.61,3957.0,168.63,140.9,369.07,1079.99,1931.44,743.63,331.36,2082.87,115.45,5430.21,3547.63,158.16,2466.54,-0.02,1515.3,4128.37,430.0,130.9,3759.64,4984.43,764.09,3249.45,127.26,1192.94,109.09,5001.94,987.52,115.45,336.94,1022.3,1048.17,2259.88,2542.97,1074.79],\"yaxis\":\"y\",\"type\":\"bar\"},{\"alignmentgroup\":\"True\",\"hovertemplate\":\"channel=%{x}\\u003cbr\\u003eca_tot=%{y}\\u003cextra\\u003e\\u003c\\u002fextra\\u003e\",\"legendgroup\":\"WEB\",\"marker\":{\"color\":\"#ab63fa\",\"pattern\":{\"shape\":\"\"}},\"name\":\"WEB\",\"offsetgroup\":\"WEB\",\"orientation\":\"v\",\"showlegend\":true,\"textposition\":\"auto\",\"x\":[\"WEB\",\"WEB\",\"WEB\",\"WEB\",\"WEB\",\"WEB\",\"WEB\",\"WEB\",\"WEB\",\"WEB\",\"WEB\",\"WEB\",\"WEB\",\"WEB\",\"WEB\",\"WEB\",\"WEB\",\"WEB\",\"WEB\",\"WEB\",\"WEB\",\"WEB\",\"WEB\",\"WEB\",\"WEB\",\"WEB\",\"WEB\",\"WEB\",\"WEB\",\"WEB\",\"WEB\",\"WEB\",\"WEB\",\"WEB\",\"WEB\",\"WEB\",\"WEB\",\"WEB\",\"WEB\",\"WEB\",\"WEB\",\"WEB\",\"WEB\",\"WEB\",\"WEB\",\"WEB\",\"WEB\",\"WEB\",\"WEB\",\"WEB\",\"WEB\",\"WEB\",\"WEB\",\"WEB\",\"WEB\",\"WEB\",\"WEB\",\"WEB\",\"WEB\",\"WEB\",\"WEB\",\"WEB\",\"WEB\",\"WEB\",\"WEB\",\"WEB\",\"WEB\",\"WEB\",\"WEB\",\"WEB\",\"WEB\",\"WEB\",\"WEB\",\"WEB\",\"WEB\",\"WEB\",\"WEB\",\"WEB\",\"WEB\",\"WEB\",\"WEB\",\"WEB\",\"WEB\",\"WEB\",\"WEB\",\"WEB\",\"WEB\",\"WEB\",\"WEB\",\"WEB\",\"WEB\",\"WEB\",\"WEB\",\"WEB\",\"WEB\",\"WEB\",\"WEB\",\"WEB\",\"WEB\",\"WEB\",\"WEB\",\"WEB\",\"WEB\",\"WEB\",\"WEB\",\"WEB\",\"WEB\",\"WEB\",\"WEB\",\"WEB\",\"WEB\",\"WEB\",\"WEB\",\"WEB\",\"WEB\",\"WEB\",\"WEB\",\"WEB\",\"WEB\",\"WEB\",\"WEB\",\"WEB\",\"WEB\",\"WEB\",\"WEB\",\"WEB\",\"WEB\",\"WEB\",\"WEB\",\"WEB\",\"WEB\",\"WEB\",\"WEB\",\"WEB\",\"WEB\",\"WEB\",\"WEB\",\"WEB\",\"WEB\",\"WEB\",\"WEB\",\"WEB\",\"WEB\",\"WEB\",\"WEB\",\"WEB\",\"WEB\",\"WEB\",\"WEB\",\"WEB\",\"WEB\",\"WEB\",\"WEB\",\"WEB\",\"WEB\",\"WEB\",\"WEB\",\"WEB\",\"WEB\",\"WEB\",\"WEB\",\"WEB\",\"WEB\",\"WEB\",\"WEB\",\"WEB\",\"WEB\",\"WEB\",\"WEB\",\"WEB\",\"WEB\",\"WEB\",\"WEB\",\"WEB\",\"WEB\",\"WEB\",\"WEB\",\"WEB\",\"WEB\"],\"xaxis\":\"x\",\"y\":[644.92,468.21,475.91,322.72,796.51,52.72,239.1,6725.49,869.95,895.45,1014.77,407.81,1040.22,720.63,1857.64,856.96,5933.05,1948.82,443.36,290.61,449.99,1576.57,2085.19,922.72,3182.62,635.07,919.16,448.86,1063.18,188.64,1170.9,1092.49,1729.32,354.59,548.77,79.58,337.27,4447.83,267.79,1079.76,2874.51,847.2,694.72,459.92,804.34,1913.2,517.8,0.0,1541.07,875.33,320.53,792.57,3350.72,406.43,2279.8,780.0,1890.89,119.13,1623.81,466.06,561.96,281.25,1005.79,811.5,341.51,720.98,738.77,1117.27,1293.32,415.44,688.94,723.1,2102.5,697.18,466.28,624.31,981.66,1499.93,721.51,563.1,774.06,555.87,639.23,567.78,2598.13,366.33,2520.44,291.55,568.93,1196.5,521.36,1130.6,1205.37,2781.19,3965.2,647.77,992.75,1289.54,1048.7,0.0,688.93,333.18,410.37,2285.19,1293.17,671.47,1477.99,1229.84,326.66,1152.06,1019.69,243.64,8180.64,900.26,850.22,626.2,1665.43,210.91,1514.35,1259.92,724.69,763.62,305.76,287.68,1928.58,334.54,1469.3,2318.89,247.27,1075.17,1137.35,982.33,1298.78,459.09,429.73,908.7,699.99,732.49,1835.54,1460.75,0.0,1412.04,0.0,879.99,656.85,708.21,688.93,1830.1,119.13,468.18,333.64,296.66,582.34,343.63,1065.22,789.72,726.59,1014.23,2844.94,262.12,436.5,2311.63,0.0,2259.36,888.25,593.55,655.07,2127.55,503.69,988.55,1309.39,1213.99,443.03,669.72,1638.08,516.74,1418.87,184.55,753.71],\"yaxis\":\"y\",\"type\":\"bar\"},{\"alignmentgroup\":\"True\",\"hovertemplate\":\"channel=%{x}\\u003cbr\\u003eca_tot=%{y}\\u003cextra\\u003e\\u003c\\u002fextra\\u003e\",\"legendgroup\":\"LT\",\"marker\":{\"color\":\"#FFA15A\",\"pattern\":{\"shape\":\"\"}},\"name\":\"LT\",\"offsetgroup\":\"LT\",\"orientation\":\"v\",\"showlegend\":true,\"textposition\":\"auto\",\"x\":[\"LT\",\"LT\",\"LT\",\"LT\",\"LT\",\"LT\",\"LT\",\"LT\",\"LT\",\"LT\",\"LT\",\"LT\",\"LT\"],\"xaxis\":\"x\",\"y\":[149.46,167.42,179.26,3472.68,138.18,227.14,159.84,147.72,138.18,143.63,187.83,138.18,138.18],\"yaxis\":\"y\",\"type\":\"bar\"},{\"alignmentgroup\":\"True\",\"hovertemplate\":\"channel=%{x}\\u003cbr\\u003eca_tot=%{y}\\u003cextra\\u003e\\u003c\\u002fextra\\u003e\",\"legendgroup\":\"WI\",\"marker\":{\"color\":\"#19d3f3\",\"pattern\":{\"shape\":\"\"}},\"name\":\"WI\",\"offsetgroup\":\"WI\",\"orientation\":\"v\",\"showlegend\":true,\"textposition\":\"auto\",\"x\":[\"WI\",\"WI\",\"WI\",\"WI\",\"WI\",\"WI\",\"WI\",\"WI\",\"WI\",\"WI\",\"WI\",\"WI\",\"WI\",\"WI\",\"WI\",\"WI\"],\"xaxis\":\"x\",\"y\":[2062.4,2266.16,804.09,939.68,5294.17,188.18,8059.82,0.0,0.0,485.75,272.72,508.18,1201.88,0.0,756.59,115.45],\"yaxis\":\"y\",\"type\":\"bar\"},{\"alignmentgroup\":\"True\",\"hovertemplate\":\"channel=%{x}\\u003cbr\\u003eca_tot=%{y}\\u003cextra\\u003e\\u003c\\u002fextra\\u003e\",\"legendgroup\":\"SAL\",\"marker\":{\"color\":\"#FF6692\",\"pattern\":{\"shape\":\"\"}},\"name\":\"SAL\",\"offsetgroup\":\"SAL\",\"orientation\":\"v\",\"showlegend\":true,\"textposition\":\"auto\",\"x\":[\"SAL\",\"SAL\",\"SAL\",\"SAL\"],\"xaxis\":\"x\",\"y\":[325.64,625.44,262.72,156.36],\"yaxis\":\"y\",\"type\":\"bar\"},{\"alignmentgroup\":\"True\",\"hovertemplate\":\"channel=%{x}\\u003cbr\\u003eca_tot=%{y}\\u003cextra\\u003e\\u003c\\u002fextra\\u003e\",\"legendgroup\":\"EMW\",\"marker\":{\"color\":\"#B6E880\",\"pattern\":{\"shape\":\"\"}},\"name\":\"EMW\",\"offsetgroup\":\"EMW\",\"orientation\":\"v\",\"showlegend\":true,\"textposition\":\"auto\",\"x\":[\"EMW\"],\"xaxis\":\"x\",\"y\":[1727.79],\"yaxis\":\"y\",\"type\":\"bar\"},{\"alignmentgroup\":\"True\",\"hovertemplate\":\"channel=%{x}\\u003cbr\\u003eca_tot=%{y}\\u003cextra\\u003e\\u003c\\u002fextra\\u003e\",\"legendgroup\":\"CRS\",\"marker\":{\"color\":\"#FF97FF\",\"pattern\":{\"shape\":\"\"}},\"name\":\"CRS\",\"offsetgroup\":\"CRS\",\"orientation\":\"v\",\"showlegend\":true,\"textposition\":\"auto\",\"x\":[\"CRS\"],\"xaxis\":\"x\",\"y\":[2456.5],\"yaxis\":\"y\",\"type\":\"bar\"}],                        {\"template\":{\"data\":{\"histogram2dcontour\":[{\"type\":\"histogram2dcontour\",\"colorbar\":{\"outlinewidth\":0,\"ticks\":\"\"},\"colorscale\":[[0.0,\"#0d0887\"],[0.1111111111111111,\"#46039f\"],[0.2222222222222222,\"#7201a8\"],[0.3333333333333333,\"#9c179e\"],[0.4444444444444444,\"#bd3786\"],[0.5555555555555556,\"#d8576b\"],[0.6666666666666666,\"#ed7953\"],[0.7777777777777778,\"#fb9f3a\"],[0.8888888888888888,\"#fdca26\"],[1.0,\"#f0f921\"]]}],\"choropleth\":[{\"type\":\"choropleth\",\"colorbar\":{\"outlinewidth\":0,\"ticks\":\"\"}}],\"histogram2d\":[{\"type\":\"histogram2d\",\"colorbar\":{\"outlinewidth\":0,\"ticks\":\"\"},\"colorscale\":[[0.0,\"#0d0887\"],[0.1111111111111111,\"#46039f\"],[0.2222222222222222,\"#7201a8\"],[0.3333333333333333,\"#9c179e\"],[0.4444444444444444,\"#bd3786\"],[0.5555555555555556,\"#d8576b\"],[0.6666666666666666,\"#ed7953\"],[0.7777777777777778,\"#fb9f3a\"],[0.8888888888888888,\"#fdca26\"],[1.0,\"#f0f921\"]]}],\"heatmap\":[{\"type\":\"heatmap\",\"colorbar\":{\"outlinewidth\":0,\"ticks\":\"\"},\"colorscale\":[[0.0,\"#0d0887\"],[0.1111111111111111,\"#46039f\"],[0.2222222222222222,\"#7201a8\"],[0.3333333333333333,\"#9c179e\"],[0.4444444444444444,\"#bd3786\"],[0.5555555555555556,\"#d8576b\"],[0.6666666666666666,\"#ed7953\"],[0.7777777777777778,\"#fb9f3a\"],[0.8888888888888888,\"#fdca26\"],[1.0,\"#f0f921\"]]}],\"heatmapgl\":[{\"type\":\"heatmapgl\",\"colorbar\":{\"outlinewidth\":0,\"ticks\":\"\"},\"colorscale\":[[0.0,\"#0d0887\"],[0.1111111111111111,\"#46039f\"],[0.2222222222222222,\"#7201a8\"],[0.3333333333333333,\"#9c179e\"],[0.4444444444444444,\"#bd3786\"],[0.5555555555555556,\"#d8576b\"],[0.6666666666666666,\"#ed7953\"],[0.7777777777777778,\"#fb9f3a\"],[0.8888888888888888,\"#fdca26\"],[1.0,\"#f0f921\"]]}],\"contourcarpet\":[{\"type\":\"contourcarpet\",\"colorbar\":{\"outlinewidth\":0,\"ticks\":\"\"}}],\"contour\":[{\"type\":\"contour\",\"colorbar\":{\"outlinewidth\":0,\"ticks\":\"\"},\"colorscale\":[[0.0,\"#0d0887\"],[0.1111111111111111,\"#46039f\"],[0.2222222222222222,\"#7201a8\"],[0.3333333333333333,\"#9c179e\"],[0.4444444444444444,\"#bd3786\"],[0.5555555555555556,\"#d8576b\"],[0.6666666666666666,\"#ed7953\"],[0.7777777777777778,\"#fb9f3a\"],[0.8888888888888888,\"#fdca26\"],[1.0,\"#f0f921\"]]}],\"surface\":[{\"type\":\"surface\",\"colorbar\":{\"outlinewidth\":0,\"ticks\":\"\"},\"colorscale\":[[0.0,\"#0d0887\"],[0.1111111111111111,\"#46039f\"],[0.2222222222222222,\"#7201a8\"],[0.3333333333333333,\"#9c179e\"],[0.4444444444444444,\"#bd3786\"],[0.5555555555555556,\"#d8576b\"],[0.6666666666666666,\"#ed7953\"],[0.7777777777777778,\"#fb9f3a\"],[0.8888888888888888,\"#fdca26\"],[1.0,\"#f0f921\"]]}],\"mesh3d\":[{\"type\":\"mesh3d\",\"colorbar\":{\"outlinewidth\":0,\"ticks\":\"\"}}],\"scatter\":[{\"fillpattern\":{\"fillmode\":\"overlay\",\"size\":10,\"solidity\":0.2},\"type\":\"scatter\"}],\"parcoords\":[{\"type\":\"parcoords\",\"line\":{\"colorbar\":{\"outlinewidth\":0,\"ticks\":\"\"}}}],\"scatterpolargl\":[{\"type\":\"scatterpolargl\",\"marker\":{\"colorbar\":{\"outlinewidth\":0,\"ticks\":\"\"}}}],\"bar\":[{\"error_x\":{\"color\":\"#2a3f5f\"},\"error_y\":{\"color\":\"#2a3f5f\"},\"marker\":{\"line\":{\"color\":\"#E5ECF6\",\"width\":0.5},\"pattern\":{\"fillmode\":\"overlay\",\"size\":10,\"solidity\":0.2}},\"type\":\"bar\"}],\"scattergeo\":[{\"type\":\"scattergeo\",\"marker\":{\"colorbar\":{\"outlinewidth\":0,\"ticks\":\"\"}}}],\"scatterpolar\":[{\"type\":\"scatterpolar\",\"marker\":{\"colorbar\":{\"outlinewidth\":0,\"ticks\":\"\"}}}],\"histogram\":[{\"marker\":{\"pattern\":{\"fillmode\":\"overlay\",\"size\":10,\"solidity\":0.2}},\"type\":\"histogram\"}],\"scattergl\":[{\"type\":\"scattergl\",\"marker\":{\"colorbar\":{\"outlinewidth\":0,\"ticks\":\"\"}}}],\"scatter3d\":[{\"type\":\"scatter3d\",\"line\":{\"colorbar\":{\"outlinewidth\":0,\"ticks\":\"\"}},\"marker\":{\"colorbar\":{\"outlinewidth\":0,\"ticks\":\"\"}}}],\"scattermapbox\":[{\"type\":\"scattermapbox\",\"marker\":{\"colorbar\":{\"outlinewidth\":0,\"ticks\":\"\"}}}],\"scatterternary\":[{\"type\":\"scatterternary\",\"marker\":{\"colorbar\":{\"outlinewidth\":0,\"ticks\":\"\"}}}],\"scattercarpet\":[{\"type\":\"scattercarpet\",\"marker\":{\"colorbar\":{\"outlinewidth\":0,\"ticks\":\"\"}}}],\"carpet\":[{\"aaxis\":{\"endlinecolor\":\"#2a3f5f\",\"gridcolor\":\"white\",\"linecolor\":\"white\",\"minorgridcolor\":\"white\",\"startlinecolor\":\"#2a3f5f\"},\"baxis\":{\"endlinecolor\":\"#2a3f5f\",\"gridcolor\":\"white\",\"linecolor\":\"white\",\"minorgridcolor\":\"white\",\"startlinecolor\":\"#2a3f5f\"},\"type\":\"carpet\"}],\"table\":[{\"cells\":{\"fill\":{\"color\":\"#EBF0F8\"},\"line\":{\"color\":\"white\"}},\"header\":{\"fill\":{\"color\":\"#C8D4E3\"},\"line\":{\"color\":\"white\"}},\"type\":\"table\"}],\"barpolar\":[{\"marker\":{\"line\":{\"color\":\"#E5ECF6\",\"width\":0.5},\"pattern\":{\"fillmode\":\"overlay\",\"size\":10,\"solidity\":0.2}},\"type\":\"barpolar\"}],\"pie\":[{\"automargin\":true,\"type\":\"pie\"}]},\"layout\":{\"autotypenumbers\":\"strict\",\"colorway\":[\"#636efa\",\"#EF553B\",\"#00cc96\",\"#ab63fa\",\"#FFA15A\",\"#19d3f3\",\"#FF6692\",\"#B6E880\",\"#FF97FF\",\"#FECB52\"],\"font\":{\"color\":\"#2a3f5f\"},\"hovermode\":\"closest\",\"hoverlabel\":{\"align\":\"left\"},\"paper_bgcolor\":\"white\",\"plot_bgcolor\":\"#E5ECF6\",\"polar\":{\"bgcolor\":\"#E5ECF6\",\"angularaxis\":{\"gridcolor\":\"white\",\"linecolor\":\"white\",\"ticks\":\"\"},\"radialaxis\":{\"gridcolor\":\"white\",\"linecolor\":\"white\",\"ticks\":\"\"}},\"ternary\":{\"bgcolor\":\"#E5ECF6\",\"aaxis\":{\"gridcolor\":\"white\",\"linecolor\":\"white\",\"ticks\":\"\"},\"baxis\":{\"gridcolor\":\"white\",\"linecolor\":\"white\",\"ticks\":\"\"},\"caxis\":{\"gridcolor\":\"white\",\"linecolor\":\"white\",\"ticks\":\"\"}},\"coloraxis\":{\"colorbar\":{\"outlinewidth\":0,\"ticks\":\"\"}},\"colorscale\":{\"sequential\":[[0.0,\"#0d0887\"],[0.1111111111111111,\"#46039f\"],[0.2222222222222222,\"#7201a8\"],[0.3333333333333333,\"#9c179e\"],[0.4444444444444444,\"#bd3786\"],[0.5555555555555556,\"#d8576b\"],[0.6666666666666666,\"#ed7953\"],[0.7777777777777778,\"#fb9f3a\"],[0.8888888888888888,\"#fdca26\"],[1.0,\"#f0f921\"]],\"sequentialminus\":[[0.0,\"#0d0887\"],[0.1111111111111111,\"#46039f\"],[0.2222222222222222,\"#7201a8\"],[0.3333333333333333,\"#9c179e\"],[0.4444444444444444,\"#bd3786\"],[0.5555555555555556,\"#d8576b\"],[0.6666666666666666,\"#ed7953\"],[0.7777777777777778,\"#fb9f3a\"],[0.8888888888888888,\"#fdca26\"],[1.0,\"#f0f921\"]],\"diverging\":[[0,\"#8e0152\"],[0.1,\"#c51b7d\"],[0.2,\"#de77ae\"],[0.3,\"#f1b6da\"],[0.4,\"#fde0ef\"],[0.5,\"#f7f7f7\"],[0.6,\"#e6f5d0\"],[0.7,\"#b8e186\"],[0.8,\"#7fbc41\"],[0.9,\"#4d9221\"],[1,\"#276419\"]]},\"xaxis\":{\"gridcolor\":\"white\",\"linecolor\":\"white\",\"ticks\":\"\",\"title\":{\"standoff\":15},\"zerolinecolor\":\"white\",\"automargin\":true,\"zerolinewidth\":2},\"yaxis\":{\"gridcolor\":\"white\",\"linecolor\":\"white\",\"ticks\":\"\",\"title\":{\"standoff\":15},\"zerolinecolor\":\"white\",\"automargin\":true,\"zerolinewidth\":2},\"scene\":{\"xaxis\":{\"backgroundcolor\":\"#E5ECF6\",\"gridcolor\":\"white\",\"linecolor\":\"white\",\"showbackground\":true,\"ticks\":\"\",\"zerolinecolor\":\"white\",\"gridwidth\":2},\"yaxis\":{\"backgroundcolor\":\"#E5ECF6\",\"gridcolor\":\"white\",\"linecolor\":\"white\",\"showbackground\":true,\"ticks\":\"\",\"zerolinecolor\":\"white\",\"gridwidth\":2},\"zaxis\":{\"backgroundcolor\":\"#E5ECF6\",\"gridcolor\":\"white\",\"linecolor\":\"white\",\"showbackground\":true,\"ticks\":\"\",\"zerolinecolor\":\"white\",\"gridwidth\":2}},\"shapedefaults\":{\"line\":{\"color\":\"#2a3f5f\"}},\"annotationdefaults\":{\"arrowcolor\":\"#2a3f5f\",\"arrowhead\":0,\"arrowwidth\":1},\"geo\":{\"bgcolor\":\"white\",\"landcolor\":\"#E5ECF6\",\"subunitcolor\":\"white\",\"showland\":true,\"showlakes\":true,\"lakecolor\":\"white\"},\"title\":{\"x\":0.05},\"mapbox\":{\"style\":\"light\"}}},\"xaxis\":{\"anchor\":\"y\",\"domain\":[0.0,1.0],\"title\":{\"text\":\"channel\"},\"categoryorder\":\"array\",\"categoryarray\":[\"IN\",\"EML\",\"TEL\",\"WEB\",\"LT\",\"WI\",\"SAL\",\"EMW\",\"CRS\"]},\"yaxis\":{\"anchor\":\"x\",\"domain\":[0.0,1.0],\"title\":{\"text\":\"ca_tot\"}},\"legend\":{\"title\":{\"text\":\"channel\"},\"tracegroupgap\":0},\"margin\":{\"t\":60},\"barmode\":\"relative\",\"width\":500,\"bargap\":0.01},                        {\"responsive\": true}                    ).then(function(){\n                            \nvar gd = document.getElementById('d678860e-dc4c-451a-a688-839209049056');\nvar x = new MutationObserver(function (mutations, observer) {{\n        var display = window.getComputedStyle(gd).display;\n        if (!display || display === 'none') {{\n            console.log([gd, 'removed!']);\n            Plotly.purge(gd);\n            observer.disconnect();\n        }}\n}});\n\n// Listen for the removal of the full notebook cells\nvar notebookContainer = gd.closest('#notebook-container');\nif (notebookContainer) {{\n    x.observe(notebookContainer, {childList: true});\n}}\n\n// Listen for the clearing of the current output cell\nvar outputEl = gd.closest('.output');\nif (outputEl) {{\n    x.observe(outputEl, {childList: true});\n}}\n\n                        })                };                });            </script>        </div>"
     },
     "metadata": {},
     "output_type": "display_data"
    }
   ],
   "source": [
    "import plotly.express as px\n",
    "\n",
    "fig = px.bar(data, x= 'channel', y= 'ca_tot', color='channel', width=500)\n",
    "fig.update_layout(bargap=0.01)\n",
    "fig.show()\n"
   ],
   "metadata": {
    "collapsed": false
   }
  },
  {
   "cell_type": "code",
   "execution_count": 26,
   "outputs": [
    {
     "data": {
      "application/vnd.plotly.v1+json": {
       "data": [
        {
         "domain": {
          "x": [
           0.0,
           1.0
          ],
          "y": [
           0.0,
           1.0
          ]
         },
         "hovertemplate": "channel=%{label}<extra></extra>",
         "labels": [
          "IN",
          "EML",
          "TEL",
          "WEB",
          "WEB",
          "EML",
          "LT",
          "TEL",
          "WI",
          "WEB",
          "TEL",
          "TEL",
          "TEL",
          "TEL",
          "TEL",
          "WEB",
          "TEL",
          "TEL",
          "EML",
          "TEL",
          "WEB",
          "WI",
          "EML",
          "TEL",
          "TEL",
          "TEL",
          "WEB",
          "TEL",
          "TEL",
          "WEB",
          "TEL",
          "EML",
          "TEL",
          "TEL",
          "TEL",
          "TEL",
          "EML",
          "SAL",
          "TEL",
          "WEB",
          "WEB",
          "TEL",
          "WEB",
          "WEB",
          "TEL",
          "EML",
          "TEL",
          "TEL",
          "WEB",
          "TEL",
          "WEB",
          "TEL",
          "EML",
          "IN",
          "EML",
          "TEL",
          "TEL",
          "EML",
          "LT",
          "WI",
          "TEL",
          "EML",
          "TEL",
          "EML",
          "TEL",
          "EML",
          "TEL",
          "TEL",
          "TEL",
          "TEL",
          "TEL",
          "TEL",
          "TEL",
          "TEL",
          "TEL",
          "TEL",
          "TEL",
          "TEL",
          "EML",
          "TEL",
          "WEB",
          "EML",
          "TEL",
          "EML",
          "TEL",
          "TEL",
          "TEL",
          "TEL",
          "TEL",
          "TEL",
          "EML",
          "TEL",
          "EML",
          "TEL",
          "EML",
          "WEB",
          "WEB",
          "EML",
          "TEL",
          "TEL",
          "TEL",
          "IN",
          "WI",
          "TEL",
          "TEL",
          "TEL",
          "EML",
          "WI",
          "WI",
          "EML",
          "TEL",
          "WI",
          "EML",
          "IN",
          "EML",
          "TEL",
          "EML",
          "TEL",
          "TEL",
          "TEL",
          "WEB",
          "EML",
          "EML",
          "TEL",
          "WEB",
          "TEL",
          "EML",
          "TEL",
          "TEL",
          "TEL",
          "EML",
          "TEL",
          "TEL",
          "TEL",
          "TEL",
          "TEL",
          "EML",
          "SAL",
          "WEB",
          "EML",
          "TEL",
          "TEL",
          "TEL",
          "IN",
          "TEL",
          "TEL",
          "TEL",
          "EML",
          "EML",
          "TEL",
          "EML",
          "TEL",
          "TEL",
          "TEL",
          "TEL",
          "TEL",
          "WEB",
          "TEL",
          "TEL",
          "EML",
          "WEB",
          "EML",
          "WEB",
          "WEB",
          "TEL",
          "WEB",
          "EML",
          "WEB",
          "WEB",
          "TEL",
          "WEB",
          "TEL",
          "TEL",
          "TEL",
          "TEL",
          "WEB",
          "EML",
          "TEL",
          "TEL",
          "EML",
          "EML",
          "TEL",
          "EML",
          "EML",
          "WEB",
          "EML",
          "WEB",
          "EML",
          "TEL",
          "WEB",
          "WEB",
          "EML",
          "EML",
          "TEL",
          "TEL",
          "TEL",
          "WI",
          "TEL",
          "TEL",
          "TEL",
          "EML",
          "TEL",
          "EML",
          "WEB",
          "EML",
          "TEL",
          "TEL",
          "TEL",
          "EML",
          "TEL",
          "TEL",
          "EML",
          "WEB",
          "TEL",
          "TEL",
          "TEL",
          "EML",
          "TEL",
          "TEL",
          "TEL",
          "TEL",
          "WEB",
          "WEB",
          "TEL",
          "TEL",
          "TEL",
          "EML",
          "TEL",
          "TEL",
          "TEL",
          "TEL",
          "WEB",
          "EML",
          "EML",
          "EML",
          "EML",
          "TEL",
          "TEL",
          "TEL",
          "EML",
          "EML",
          "TEL",
          "TEL",
          "EML",
          "IN",
          "WEB",
          "WEB",
          "TEL",
          "WEB",
          "TEL",
          "TEL",
          "WEB",
          "TEL",
          "TEL",
          "EML",
          "TEL",
          "WEB",
          "TEL",
          "WEB",
          "EML",
          "TEL",
          "TEL",
          "EML",
          "TEL",
          "EML",
          "TEL",
          "EML",
          "EML",
          "TEL",
          "WEB",
          "SAL",
          "TEL",
          "EML",
          "TEL",
          "TEL",
          "WEB",
          "EML",
          "TEL",
          "EML",
          "TEL",
          "TEL",
          "TEL",
          "TEL",
          "TEL",
          "TEL",
          "TEL",
          "TEL",
          "IN",
          "TEL",
          "TEL",
          "LT",
          "EML",
          "EML",
          "TEL",
          "TEL",
          "EML",
          "TEL",
          "TEL",
          "EMW",
          "TEL",
          "EML",
          "EML",
          "WEB",
          "EML",
          "IN",
          "TEL",
          "TEL",
          "TEL",
          "EML",
          "TEL",
          "TEL",
          "EML",
          "EML",
          "WEB",
          "TEL",
          "TEL",
          "WEB",
          "EML",
          "TEL",
          "WEB",
          "TEL",
          "TEL",
          "EML",
          "TEL",
          "TEL",
          "TEL",
          "TEL",
          "TEL",
          "TEL",
          "WEB",
          "TEL",
          "TEL",
          "WEB",
          "EML",
          "IN",
          "WEB",
          "TEL",
          "IN",
          "EML",
          "EML",
          "EML",
          "WEB",
          "TEL",
          "TEL",
          "TEL",
          "WEB",
          "TEL",
          "WEB",
          "EML",
          "WEB",
          "TEL",
          "WEB",
          "WEB",
          "WEB",
          "TEL",
          "EML",
          "EML",
          "WEB",
          "EML",
          "TEL",
          "WEB",
          "WEB",
          "EML",
          "TEL",
          "TEL",
          "WEB",
          "TEL",
          "EML",
          "EML",
          "EML",
          "TEL",
          "TEL",
          "TEL",
          "TEL",
          "LT",
          "TEL",
          "TEL",
          "EML",
          "LT",
          "WEB",
          "WEB",
          "EML",
          "TEL",
          "TEL",
          "WEB",
          "TEL",
          "WEB",
          "WEB",
          "TEL",
          "WEB",
          "WEB",
          "EML",
          "TEL",
          "TEL",
          "EML",
          "TEL",
          "WEB",
          "TEL",
          "WEB",
          "EML",
          "TEL",
          "TEL",
          "TEL",
          "TEL",
          "EML",
          "EML",
          "TEL",
          "TEL",
          "TEL",
          "EML",
          "EML",
          "TEL",
          "TEL",
          "TEL",
          "TEL",
          "TEL",
          "TEL",
          "TEL",
          "TEL",
          "TEL",
          "TEL",
          "EML",
          "EML",
          "TEL",
          "EML",
          "TEL",
          "TEL",
          "TEL",
          "TEL",
          "WEB",
          "TEL",
          "TEL",
          "TEL",
          "TEL",
          "TEL",
          "WEB",
          "TEL",
          "TEL",
          "TEL",
          "TEL",
          "EML",
          "EML",
          "TEL",
          "EML",
          "WEB",
          "LT",
          "TEL",
          "TEL",
          "WEB",
          "TEL",
          "TEL",
          "WEB",
          "TEL",
          "EML",
          "EML",
          "EML",
          "EML",
          "TEL",
          "TEL",
          "TEL",
          "TEL",
          "TEL",
          "EML",
          "TEL",
          "WEB",
          "WEB",
          "TEL",
          "TEL",
          "TEL",
          "TEL",
          "TEL",
          "TEL",
          "TEL",
          "EML",
          "TEL",
          "TEL",
          "TEL",
          "EML",
          "EML",
          "EML",
          "EML",
          "TEL",
          "EML",
          "EML",
          "TEL",
          "TEL",
          "TEL",
          "IN",
          "TEL",
          "WEB",
          "EML",
          "TEL",
          "TEL",
          "TEL",
          "TEL",
          "WEB",
          "TEL",
          "TEL",
          "TEL",
          "WEB",
          "TEL",
          "TEL",
          "WEB",
          "EML",
          "TEL",
          "EML",
          "WEB",
          "TEL",
          "EML",
          "TEL",
          "TEL",
          "TEL",
          "EML",
          "TEL",
          "EML",
          "EML",
          "TEL",
          "WEB",
          "TEL",
          "EML",
          "WEB",
          "WEB",
          "TEL",
          "TEL",
          "IN",
          "EML",
          "EML",
          "TEL",
          "WEB",
          "WEB",
          "WEB",
          "WEB",
          "EML",
          "TEL",
          "TEL",
          "TEL",
          "TEL",
          "EML",
          "WEB",
          "IN",
          "LT",
          "TEL",
          "TEL",
          "TEL",
          "EML",
          "TEL",
          "TEL",
          "WEB",
          "TEL",
          "TEL",
          "WEB",
          "WEB",
          "EML",
          "WEB",
          "TEL",
          "WEB",
          "TEL",
          "EML",
          "TEL",
          "TEL",
          "EML",
          "TEL",
          "TEL",
          "TEL",
          "CRS",
          "WEB",
          "TEL",
          "TEL",
          "TEL",
          "EML",
          "TEL",
          "TEL",
          "EML",
          "EML",
          "TEL",
          "EML",
          "TEL",
          "WEB",
          "TEL",
          "EML",
          "EML",
          "TEL",
          "WI",
          "WEB",
          "WI",
          "TEL",
          "WEB",
          "TEL",
          "TEL",
          "TEL",
          "TEL",
          "TEL",
          "WI",
          "TEL",
          "EML",
          "TEL",
          "TEL",
          "TEL",
          "TEL",
          "TEL",
          "EML",
          "IN",
          "TEL",
          "TEL",
          "SAL",
          "TEL",
          "TEL",
          "WEB",
          "IN",
          "EML",
          "WI",
          "TEL",
          "EML",
          "TEL",
          "TEL",
          "TEL",
          "EML",
          "EML",
          "EML",
          "EML",
          "EML",
          "EML",
          "TEL",
          "WEB",
          "TEL",
          "WEB",
          "TEL",
          "TEL",
          "EML",
          "TEL",
          "TEL",
          "WEB",
          "EML",
          "WEB",
          "TEL",
          "TEL",
          "TEL",
          "EML",
          "TEL",
          "TEL",
          "TEL",
          "EML",
          "WEB",
          "EML",
          "TEL",
          "TEL",
          "EML",
          "TEL",
          "TEL",
          "TEL",
          "TEL",
          "WEB",
          "TEL",
          "TEL",
          "WEB",
          "WEB",
          "TEL",
          "TEL",
          "IN",
          "TEL",
          "IN",
          "TEL",
          "WEB",
          "TEL",
          "TEL",
          "TEL",
          "WEB",
          "EML",
          "EML",
          "IN",
          "TEL",
          "TEL",
          "TEL",
          "TEL",
          "TEL",
          "WI",
          "EML",
          "EML",
          "TEL",
          "WEB",
          "TEL",
          "EML",
          "TEL",
          "WEB",
          "TEL",
          "TEL",
          "TEL",
          "LT",
          "TEL",
          "TEL",
          "TEL",
          "EML",
          "EML",
          "EML",
          "TEL",
          "TEL",
          "TEL",
          "IN",
          "EML",
          "EML",
          "TEL",
          "TEL",
          "WEB",
          "TEL",
          "WEB",
          "WEB",
          "TEL",
          "TEL",
          "WEB",
          "TEL",
          "TEL",
          "WEB",
          "TEL",
          "EML",
          "LT",
          "TEL",
          "WEB",
          "TEL",
          "TEL",
          "LT",
          "TEL",
          "EML",
          "TEL",
          "TEL",
          "EML",
          "TEL",
          "EML",
          "TEL",
          "TEL",
          "WEB",
          "TEL",
          "TEL",
          "EML",
          "TEL",
          "IN",
          "TEL",
          "TEL",
          "TEL",
          "TEL",
          "IN",
          "TEL",
          "WEB",
          "TEL",
          "TEL",
          "WEB",
          "IN",
          "WEB",
          "TEL",
          "WEB",
          "WEB",
          "TEL",
          "WEB",
          "TEL",
          "TEL",
          "EML",
          "EML",
          "TEL",
          "EML",
          "TEL",
          "LT",
          "EML",
          "EML",
          "EML",
          "TEL",
          "TEL",
          "TEL",
          "WEB",
          "TEL",
          "EML",
          "TEL",
          "WEB",
          "WEB",
          "TEL",
          "TEL",
          "EML",
          "TEL",
          "WEB",
          "TEL",
          "EML",
          "WEB",
          "TEL",
          "TEL",
          "WEB",
          "TEL",
          "EML",
          "TEL",
          "WEB",
          "TEL",
          "TEL",
          "IN",
          "EML",
          "EML",
          "TEL",
          "EML",
          "EML",
          "WEB",
          "TEL",
          "TEL",
          "TEL",
          "EML",
          "TEL",
          "EML",
          "WEB",
          "WEB",
          "WEB",
          "EML",
          "WEB",
          "TEL",
          "TEL",
          "WEB",
          "TEL",
          "TEL",
          "TEL",
          "EML",
          "WEB",
          "WEB",
          "TEL",
          "LT",
          "TEL",
          "TEL",
          "EML",
          "TEL",
          "EML",
          "TEL",
          "TEL",
          "TEL",
          "WEB",
          "TEL",
          "EML",
          "TEL",
          "TEL",
          "WEB",
          "EML",
          "EML",
          "TEL",
          "TEL",
          "WEB",
          "IN",
          "EML",
          "TEL",
          "WEB",
          "TEL",
          "TEL",
          "TEL",
          "EML",
          "TEL",
          "TEL",
          "TEL",
          "TEL",
          "TEL",
          "TEL",
          "WEB",
          "EML",
          "EML",
          "WEB",
          "TEL",
          "TEL",
          "EML",
          "TEL",
          "TEL",
          "WEB",
          "WEB",
          "WEB",
          "EML",
          "TEL",
          "TEL",
          "TEL",
          "EML",
          "TEL",
          "TEL",
          "EML",
          "EML",
          "TEL",
          "EML",
          "EML",
          "EML",
          "WEB",
          "WEB",
          "WEB",
          "TEL",
          "TEL",
          "WEB",
          "TEL",
          "TEL",
          "EML",
          "IN",
          "EML",
          "TEL",
          "TEL",
          "TEL",
          "TEL",
          "EML",
          "TEL",
          "TEL",
          "TEL",
          "TEL",
          "IN",
          "WEB",
          "TEL",
          "LT",
          "TEL",
          "TEL",
          "TEL",
          "TEL",
          "IN",
          "TEL",
          "EML",
          "TEL",
          "EML",
          "WI",
          "TEL",
          "TEL",
          "TEL",
          "TEL",
          "TEL",
          "TEL",
          "WEB",
          "EML",
          "WEB",
          "EML",
          "WEB",
          "EML",
          "TEL",
          "TEL",
          "WEB",
          "IN",
          "TEL",
          "WI",
          "TEL",
          "TEL",
          "TEL",
          "TEL",
          "TEL",
          "TEL",
          "EML",
          "EML",
          "EML",
          "EML",
          "EML",
          "TEL",
          "TEL",
          "TEL",
          "TEL",
          "EML",
          "WEB",
          "IN",
          "TEL",
          "TEL",
          "IN",
          "TEL",
          "WEB",
          "TEL",
          "EML",
          "EML",
          "EML",
          "TEL",
          "WEB",
          "TEL",
          "WEB",
          "EML",
          "TEL",
          "TEL",
          "TEL",
          "TEL",
          "EML",
          "WEB",
          "EML",
          "WEB",
          "WEB",
          "TEL",
          "TEL",
          "EML",
          "EML",
          "TEL",
          "TEL",
          "EML",
          "TEL",
          "TEL",
          "EML",
          "WEB",
          "EML",
          "EML",
          "EML",
          "TEL",
          "TEL",
          "TEL",
          "TEL",
          "TEL",
          "WEB",
          "TEL",
          "TEL",
          "EML",
          "EML",
          "WEB",
          "TEL",
          "WEB",
          "EML",
          "TEL",
          "TEL",
          "TEL",
          "WEB",
          "WEB",
          "TEL",
          "TEL",
          "TEL",
          "TEL",
          "WEB",
          "WEB",
          "TEL",
          "EML",
          "EML",
          "TEL",
          "TEL",
          "IN",
          "TEL",
          "WEB",
          "WI",
          "WEB",
          "EML",
          "WEB",
          "EML",
          "EML",
          "TEL",
          "EML",
          "TEL",
          "TEL",
          "EML",
          "TEL",
          "TEL",
          "EML",
          "WEB",
          "EML"
         ],
         "legendgroup": "",
         "name": "",
         "showlegend": true,
         "type": "pie"
        }
       ],
       "layout": {
        "template": {
         "data": {
          "histogram2dcontour": [
           {
            "type": "histogram2dcontour",
            "colorbar": {
             "outlinewidth": 0,
             "ticks": ""
            },
            "colorscale": [
             [
              0.0,
              "#0d0887"
             ],
             [
              0.1111111111111111,
              "#46039f"
             ],
             [
              0.2222222222222222,
              "#7201a8"
             ],
             [
              0.3333333333333333,
              "#9c179e"
             ],
             [
              0.4444444444444444,
              "#bd3786"
             ],
             [
              0.5555555555555556,
              "#d8576b"
             ],
             [
              0.6666666666666666,
              "#ed7953"
             ],
             [
              0.7777777777777778,
              "#fb9f3a"
             ],
             [
              0.8888888888888888,
              "#fdca26"
             ],
             [
              1.0,
              "#f0f921"
             ]
            ]
           }
          ],
          "choropleth": [
           {
            "type": "choropleth",
            "colorbar": {
             "outlinewidth": 0,
             "ticks": ""
            }
           }
          ],
          "histogram2d": [
           {
            "type": "histogram2d",
            "colorbar": {
             "outlinewidth": 0,
             "ticks": ""
            },
            "colorscale": [
             [
              0.0,
              "#0d0887"
             ],
             [
              0.1111111111111111,
              "#46039f"
             ],
             [
              0.2222222222222222,
              "#7201a8"
             ],
             [
              0.3333333333333333,
              "#9c179e"
             ],
             [
              0.4444444444444444,
              "#bd3786"
             ],
             [
              0.5555555555555556,
              "#d8576b"
             ],
             [
              0.6666666666666666,
              "#ed7953"
             ],
             [
              0.7777777777777778,
              "#fb9f3a"
             ],
             [
              0.8888888888888888,
              "#fdca26"
             ],
             [
              1.0,
              "#f0f921"
             ]
            ]
           }
          ],
          "heatmap": [
           {
            "type": "heatmap",
            "colorbar": {
             "outlinewidth": 0,
             "ticks": ""
            },
            "colorscale": [
             [
              0.0,
              "#0d0887"
             ],
             [
              0.1111111111111111,
              "#46039f"
             ],
             [
              0.2222222222222222,
              "#7201a8"
             ],
             [
              0.3333333333333333,
              "#9c179e"
             ],
             [
              0.4444444444444444,
              "#bd3786"
             ],
             [
              0.5555555555555556,
              "#d8576b"
             ],
             [
              0.6666666666666666,
              "#ed7953"
             ],
             [
              0.7777777777777778,
              "#fb9f3a"
             ],
             [
              0.8888888888888888,
              "#fdca26"
             ],
             [
              1.0,
              "#f0f921"
             ]
            ]
           }
          ],
          "heatmapgl": [
           {
            "type": "heatmapgl",
            "colorbar": {
             "outlinewidth": 0,
             "ticks": ""
            },
            "colorscale": [
             [
              0.0,
              "#0d0887"
             ],
             [
              0.1111111111111111,
              "#46039f"
             ],
             [
              0.2222222222222222,
              "#7201a8"
             ],
             [
              0.3333333333333333,
              "#9c179e"
             ],
             [
              0.4444444444444444,
              "#bd3786"
             ],
             [
              0.5555555555555556,
              "#d8576b"
             ],
             [
              0.6666666666666666,
              "#ed7953"
             ],
             [
              0.7777777777777778,
              "#fb9f3a"
             ],
             [
              0.8888888888888888,
              "#fdca26"
             ],
             [
              1.0,
              "#f0f921"
             ]
            ]
           }
          ],
          "contourcarpet": [
           {
            "type": "contourcarpet",
            "colorbar": {
             "outlinewidth": 0,
             "ticks": ""
            }
           }
          ],
          "contour": [
           {
            "type": "contour",
            "colorbar": {
             "outlinewidth": 0,
             "ticks": ""
            },
            "colorscale": [
             [
              0.0,
              "#0d0887"
             ],
             [
              0.1111111111111111,
              "#46039f"
             ],
             [
              0.2222222222222222,
              "#7201a8"
             ],
             [
              0.3333333333333333,
              "#9c179e"
             ],
             [
              0.4444444444444444,
              "#bd3786"
             ],
             [
              0.5555555555555556,
              "#d8576b"
             ],
             [
              0.6666666666666666,
              "#ed7953"
             ],
             [
              0.7777777777777778,
              "#fb9f3a"
             ],
             [
              0.8888888888888888,
              "#fdca26"
             ],
             [
              1.0,
              "#f0f921"
             ]
            ]
           }
          ],
          "surface": [
           {
            "type": "surface",
            "colorbar": {
             "outlinewidth": 0,
             "ticks": ""
            },
            "colorscale": [
             [
              0.0,
              "#0d0887"
             ],
             [
              0.1111111111111111,
              "#46039f"
             ],
             [
              0.2222222222222222,
              "#7201a8"
             ],
             [
              0.3333333333333333,
              "#9c179e"
             ],
             [
              0.4444444444444444,
              "#bd3786"
             ],
             [
              0.5555555555555556,
              "#d8576b"
             ],
             [
              0.6666666666666666,
              "#ed7953"
             ],
             [
              0.7777777777777778,
              "#fb9f3a"
             ],
             [
              0.8888888888888888,
              "#fdca26"
             ],
             [
              1.0,
              "#f0f921"
             ]
            ]
           }
          ],
          "mesh3d": [
           {
            "type": "mesh3d",
            "colorbar": {
             "outlinewidth": 0,
             "ticks": ""
            }
           }
          ],
          "scatter": [
           {
            "fillpattern": {
             "fillmode": "overlay",
             "size": 10,
             "solidity": 0.2
            },
            "type": "scatter"
           }
          ],
          "parcoords": [
           {
            "type": "parcoords",
            "line": {
             "colorbar": {
              "outlinewidth": 0,
              "ticks": ""
             }
            }
           }
          ],
          "scatterpolargl": [
           {
            "type": "scatterpolargl",
            "marker": {
             "colorbar": {
              "outlinewidth": 0,
              "ticks": ""
             }
            }
           }
          ],
          "bar": [
           {
            "error_x": {
             "color": "#2a3f5f"
            },
            "error_y": {
             "color": "#2a3f5f"
            },
            "marker": {
             "line": {
              "color": "#E5ECF6",
              "width": 0.5
             },
             "pattern": {
              "fillmode": "overlay",
              "size": 10,
              "solidity": 0.2
             }
            },
            "type": "bar"
           }
          ],
          "scattergeo": [
           {
            "type": "scattergeo",
            "marker": {
             "colorbar": {
              "outlinewidth": 0,
              "ticks": ""
             }
            }
           }
          ],
          "scatterpolar": [
           {
            "type": "scatterpolar",
            "marker": {
             "colorbar": {
              "outlinewidth": 0,
              "ticks": ""
             }
            }
           }
          ],
          "histogram": [
           {
            "marker": {
             "pattern": {
              "fillmode": "overlay",
              "size": 10,
              "solidity": 0.2
             }
            },
            "type": "histogram"
           }
          ],
          "scattergl": [
           {
            "type": "scattergl",
            "marker": {
             "colorbar": {
              "outlinewidth": 0,
              "ticks": ""
             }
            }
           }
          ],
          "scatter3d": [
           {
            "type": "scatter3d",
            "line": {
             "colorbar": {
              "outlinewidth": 0,
              "ticks": ""
             }
            },
            "marker": {
             "colorbar": {
              "outlinewidth": 0,
              "ticks": ""
             }
            }
           }
          ],
          "scattermapbox": [
           {
            "type": "scattermapbox",
            "marker": {
             "colorbar": {
              "outlinewidth": 0,
              "ticks": ""
             }
            }
           }
          ],
          "scatterternary": [
           {
            "type": "scatterternary",
            "marker": {
             "colorbar": {
              "outlinewidth": 0,
              "ticks": ""
             }
            }
           }
          ],
          "scattercarpet": [
           {
            "type": "scattercarpet",
            "marker": {
             "colorbar": {
              "outlinewidth": 0,
              "ticks": ""
             }
            }
           }
          ],
          "carpet": [
           {
            "aaxis": {
             "endlinecolor": "#2a3f5f",
             "gridcolor": "white",
             "linecolor": "white",
             "minorgridcolor": "white",
             "startlinecolor": "#2a3f5f"
            },
            "baxis": {
             "endlinecolor": "#2a3f5f",
             "gridcolor": "white",
             "linecolor": "white",
             "minorgridcolor": "white",
             "startlinecolor": "#2a3f5f"
            },
            "type": "carpet"
           }
          ],
          "table": [
           {
            "cells": {
             "fill": {
              "color": "#EBF0F8"
             },
             "line": {
              "color": "white"
             }
            },
            "header": {
             "fill": {
              "color": "#C8D4E3"
             },
             "line": {
              "color": "white"
             }
            },
            "type": "table"
           }
          ],
          "barpolar": [
           {
            "marker": {
             "line": {
              "color": "#E5ECF6",
              "width": 0.5
             },
             "pattern": {
              "fillmode": "overlay",
              "size": 10,
              "solidity": 0.2
             }
            },
            "type": "barpolar"
           }
          ],
          "pie": [
           {
            "automargin": true,
            "type": "pie"
           }
          ]
         },
         "layout": {
          "autotypenumbers": "strict",
          "colorway": [
           "#636efa",
           "#EF553B",
           "#00cc96",
           "#ab63fa",
           "#FFA15A",
           "#19d3f3",
           "#FF6692",
           "#B6E880",
           "#FF97FF",
           "#FECB52"
          ],
          "font": {
           "color": "#2a3f5f"
          },
          "hovermode": "closest",
          "hoverlabel": {
           "align": "left"
          },
          "paper_bgcolor": "white",
          "plot_bgcolor": "#E5ECF6",
          "polar": {
           "bgcolor": "#E5ECF6",
           "angularaxis": {
            "gridcolor": "white",
            "linecolor": "white",
            "ticks": ""
           },
           "radialaxis": {
            "gridcolor": "white",
            "linecolor": "white",
            "ticks": ""
           }
          },
          "ternary": {
           "bgcolor": "#E5ECF6",
           "aaxis": {
            "gridcolor": "white",
            "linecolor": "white",
            "ticks": ""
           },
           "baxis": {
            "gridcolor": "white",
            "linecolor": "white",
            "ticks": ""
           },
           "caxis": {
            "gridcolor": "white",
            "linecolor": "white",
            "ticks": ""
           }
          },
          "coloraxis": {
           "colorbar": {
            "outlinewidth": 0,
            "ticks": ""
           }
          },
          "colorscale": {
           "sequential": [
            [
             0.0,
             "#0d0887"
            ],
            [
             0.1111111111111111,
             "#46039f"
            ],
            [
             0.2222222222222222,
             "#7201a8"
            ],
            [
             0.3333333333333333,
             "#9c179e"
            ],
            [
             0.4444444444444444,
             "#bd3786"
            ],
            [
             0.5555555555555556,
             "#d8576b"
            ],
            [
             0.6666666666666666,
             "#ed7953"
            ],
            [
             0.7777777777777778,
             "#fb9f3a"
            ],
            [
             0.8888888888888888,
             "#fdca26"
            ],
            [
             1.0,
             "#f0f921"
            ]
           ],
           "sequentialminus": [
            [
             0.0,
             "#0d0887"
            ],
            [
             0.1111111111111111,
             "#46039f"
            ],
            [
             0.2222222222222222,
             "#7201a8"
            ],
            [
             0.3333333333333333,
             "#9c179e"
            ],
            [
             0.4444444444444444,
             "#bd3786"
            ],
            [
             0.5555555555555556,
             "#d8576b"
            ],
            [
             0.6666666666666666,
             "#ed7953"
            ],
            [
             0.7777777777777778,
             "#fb9f3a"
            ],
            [
             0.8888888888888888,
             "#fdca26"
            ],
            [
             1.0,
             "#f0f921"
            ]
           ],
           "diverging": [
            [
             0,
             "#8e0152"
            ],
            [
             0.1,
             "#c51b7d"
            ],
            [
             0.2,
             "#de77ae"
            ],
            [
             0.3,
             "#f1b6da"
            ],
            [
             0.4,
             "#fde0ef"
            ],
            [
             0.5,
             "#f7f7f7"
            ],
            [
             0.6,
             "#e6f5d0"
            ],
            [
             0.7,
             "#b8e186"
            ],
            [
             0.8,
             "#7fbc41"
            ],
            [
             0.9,
             "#4d9221"
            ],
            [
             1,
             "#276419"
            ]
           ]
          },
          "xaxis": {
           "gridcolor": "white",
           "linecolor": "white",
           "ticks": "",
           "title": {
            "standoff": 15
           },
           "zerolinecolor": "white",
           "automargin": true,
           "zerolinewidth": 2
          },
          "yaxis": {
           "gridcolor": "white",
           "linecolor": "white",
           "ticks": "",
           "title": {
            "standoff": 15
           },
           "zerolinecolor": "white",
           "automargin": true,
           "zerolinewidth": 2
          },
          "scene": {
           "xaxis": {
            "backgroundcolor": "#E5ECF6",
            "gridcolor": "white",
            "linecolor": "white",
            "showbackground": true,
            "ticks": "",
            "zerolinecolor": "white",
            "gridwidth": 2
           },
           "yaxis": {
            "backgroundcolor": "#E5ECF6",
            "gridcolor": "white",
            "linecolor": "white",
            "showbackground": true,
            "ticks": "",
            "zerolinecolor": "white",
            "gridwidth": 2
           },
           "zaxis": {
            "backgroundcolor": "#E5ECF6",
            "gridcolor": "white",
            "linecolor": "white",
            "showbackground": true,
            "ticks": "",
            "zerolinecolor": "white",
            "gridwidth": 2
           }
          },
          "shapedefaults": {
           "line": {
            "color": "#2a3f5f"
           }
          },
          "annotationdefaults": {
           "arrowcolor": "#2a3f5f",
           "arrowhead": 0,
           "arrowwidth": 1
          },
          "geo": {
           "bgcolor": "white",
           "landcolor": "#E5ECF6",
           "subunitcolor": "white",
           "showland": true,
           "showlakes": true,
           "lakecolor": "white"
          },
          "title": {
           "x": 0.05
          },
          "mapbox": {
           "style": "light"
          }
         }
        },
        "legend": {
         "tracegroupgap": 0
        },
        "margin": {
         "t": 60
        }
       },
       "config": {
        "plotlyServerURL": "https://plot.ly"
       }
      },
      "text/html": "<div>                            <div id=\"53f9dd2d-12a1-4f34-a667-b40f5aa0bb50\" class=\"plotly-graph-div\" style=\"height:525px; width:100%;\"></div>            <script type=\"text/javascript\">                require([\"plotly\"], function(Plotly) {                    window.PLOTLYENV=window.PLOTLYENV || {};                                    if (document.getElementById(\"53f9dd2d-12a1-4f34-a667-b40f5aa0bb50\")) {                    Plotly.newPlot(                        \"53f9dd2d-12a1-4f34-a667-b40f5aa0bb50\",                        [{\"domain\":{\"x\":[0.0,1.0],\"y\":[0.0,1.0]},\"hovertemplate\":\"channel=%{label}\\u003cextra\\u003e\\u003c\\u002fextra\\u003e\",\"labels\":[\"IN\",\"EML\",\"TEL\",\"WEB\",\"WEB\",\"EML\",\"LT\",\"TEL\",\"WI\",\"WEB\",\"TEL\",\"TEL\",\"TEL\",\"TEL\",\"TEL\",\"WEB\",\"TEL\",\"TEL\",\"EML\",\"TEL\",\"WEB\",\"WI\",\"EML\",\"TEL\",\"TEL\",\"TEL\",\"WEB\",\"TEL\",\"TEL\",\"WEB\",\"TEL\",\"EML\",\"TEL\",\"TEL\",\"TEL\",\"TEL\",\"EML\",\"SAL\",\"TEL\",\"WEB\",\"WEB\",\"TEL\",\"WEB\",\"WEB\",\"TEL\",\"EML\",\"TEL\",\"TEL\",\"WEB\",\"TEL\",\"WEB\",\"TEL\",\"EML\",\"IN\",\"EML\",\"TEL\",\"TEL\",\"EML\",\"LT\",\"WI\",\"TEL\",\"EML\",\"TEL\",\"EML\",\"TEL\",\"EML\",\"TEL\",\"TEL\",\"TEL\",\"TEL\",\"TEL\",\"TEL\",\"TEL\",\"TEL\",\"TEL\",\"TEL\",\"TEL\",\"TEL\",\"EML\",\"TEL\",\"WEB\",\"EML\",\"TEL\",\"EML\",\"TEL\",\"TEL\",\"TEL\",\"TEL\",\"TEL\",\"TEL\",\"EML\",\"TEL\",\"EML\",\"TEL\",\"EML\",\"WEB\",\"WEB\",\"EML\",\"TEL\",\"TEL\",\"TEL\",\"IN\",\"WI\",\"TEL\",\"TEL\",\"TEL\",\"EML\",\"WI\",\"WI\",\"EML\",\"TEL\",\"WI\",\"EML\",\"IN\",\"EML\",\"TEL\",\"EML\",\"TEL\",\"TEL\",\"TEL\",\"WEB\",\"EML\",\"EML\",\"TEL\",\"WEB\",\"TEL\",\"EML\",\"TEL\",\"TEL\",\"TEL\",\"EML\",\"TEL\",\"TEL\",\"TEL\",\"TEL\",\"TEL\",\"EML\",\"SAL\",\"WEB\",\"EML\",\"TEL\",\"TEL\",\"TEL\",\"IN\",\"TEL\",\"TEL\",\"TEL\",\"EML\",\"EML\",\"TEL\",\"EML\",\"TEL\",\"TEL\",\"TEL\",\"TEL\",\"TEL\",\"WEB\",\"TEL\",\"TEL\",\"EML\",\"WEB\",\"EML\",\"WEB\",\"WEB\",\"TEL\",\"WEB\",\"EML\",\"WEB\",\"WEB\",\"TEL\",\"WEB\",\"TEL\",\"TEL\",\"TEL\",\"TEL\",\"WEB\",\"EML\",\"TEL\",\"TEL\",\"EML\",\"EML\",\"TEL\",\"EML\",\"EML\",\"WEB\",\"EML\",\"WEB\",\"EML\",\"TEL\",\"WEB\",\"WEB\",\"EML\",\"EML\",\"TEL\",\"TEL\",\"TEL\",\"WI\",\"TEL\",\"TEL\",\"TEL\",\"EML\",\"TEL\",\"EML\",\"WEB\",\"EML\",\"TEL\",\"TEL\",\"TEL\",\"EML\",\"TEL\",\"TEL\",\"EML\",\"WEB\",\"TEL\",\"TEL\",\"TEL\",\"EML\",\"TEL\",\"TEL\",\"TEL\",\"TEL\",\"WEB\",\"WEB\",\"TEL\",\"TEL\",\"TEL\",\"EML\",\"TEL\",\"TEL\",\"TEL\",\"TEL\",\"WEB\",\"EML\",\"EML\",\"EML\",\"EML\",\"TEL\",\"TEL\",\"TEL\",\"EML\",\"EML\",\"TEL\",\"TEL\",\"EML\",\"IN\",\"WEB\",\"WEB\",\"TEL\",\"WEB\",\"TEL\",\"TEL\",\"WEB\",\"TEL\",\"TEL\",\"EML\",\"TEL\",\"WEB\",\"TEL\",\"WEB\",\"EML\",\"TEL\",\"TEL\",\"EML\",\"TEL\",\"EML\",\"TEL\",\"EML\",\"EML\",\"TEL\",\"WEB\",\"SAL\",\"TEL\",\"EML\",\"TEL\",\"TEL\",\"WEB\",\"EML\",\"TEL\",\"EML\",\"TEL\",\"TEL\",\"TEL\",\"TEL\",\"TEL\",\"TEL\",\"TEL\",\"TEL\",\"IN\",\"TEL\",\"TEL\",\"LT\",\"EML\",\"EML\",\"TEL\",\"TEL\",\"EML\",\"TEL\",\"TEL\",\"EMW\",\"TEL\",\"EML\",\"EML\",\"WEB\",\"EML\",\"IN\",\"TEL\",\"TEL\",\"TEL\",\"EML\",\"TEL\",\"TEL\",\"EML\",\"EML\",\"WEB\",\"TEL\",\"TEL\",\"WEB\",\"EML\",\"TEL\",\"WEB\",\"TEL\",\"TEL\",\"EML\",\"TEL\",\"TEL\",\"TEL\",\"TEL\",\"TEL\",\"TEL\",\"WEB\",\"TEL\",\"TEL\",\"WEB\",\"EML\",\"IN\",\"WEB\",\"TEL\",\"IN\",\"EML\",\"EML\",\"EML\",\"WEB\",\"TEL\",\"TEL\",\"TEL\",\"WEB\",\"TEL\",\"WEB\",\"EML\",\"WEB\",\"TEL\",\"WEB\",\"WEB\",\"WEB\",\"TEL\",\"EML\",\"EML\",\"WEB\",\"EML\",\"TEL\",\"WEB\",\"WEB\",\"EML\",\"TEL\",\"TEL\",\"WEB\",\"TEL\",\"EML\",\"EML\",\"EML\",\"TEL\",\"TEL\",\"TEL\",\"TEL\",\"LT\",\"TEL\",\"TEL\",\"EML\",\"LT\",\"WEB\",\"WEB\",\"EML\",\"TEL\",\"TEL\",\"WEB\",\"TEL\",\"WEB\",\"WEB\",\"TEL\",\"WEB\",\"WEB\",\"EML\",\"TEL\",\"TEL\",\"EML\",\"TEL\",\"WEB\",\"TEL\",\"WEB\",\"EML\",\"TEL\",\"TEL\",\"TEL\",\"TEL\",\"EML\",\"EML\",\"TEL\",\"TEL\",\"TEL\",\"EML\",\"EML\",\"TEL\",\"TEL\",\"TEL\",\"TEL\",\"TEL\",\"TEL\",\"TEL\",\"TEL\",\"TEL\",\"TEL\",\"EML\",\"EML\",\"TEL\",\"EML\",\"TEL\",\"TEL\",\"TEL\",\"TEL\",\"WEB\",\"TEL\",\"TEL\",\"TEL\",\"TEL\",\"TEL\",\"WEB\",\"TEL\",\"TEL\",\"TEL\",\"TEL\",\"EML\",\"EML\",\"TEL\",\"EML\",\"WEB\",\"LT\",\"TEL\",\"TEL\",\"WEB\",\"TEL\",\"TEL\",\"WEB\",\"TEL\",\"EML\",\"EML\",\"EML\",\"EML\",\"TEL\",\"TEL\",\"TEL\",\"TEL\",\"TEL\",\"EML\",\"TEL\",\"WEB\",\"WEB\",\"TEL\",\"TEL\",\"TEL\",\"TEL\",\"TEL\",\"TEL\",\"TEL\",\"EML\",\"TEL\",\"TEL\",\"TEL\",\"EML\",\"EML\",\"EML\",\"EML\",\"TEL\",\"EML\",\"EML\",\"TEL\",\"TEL\",\"TEL\",\"IN\",\"TEL\",\"WEB\",\"EML\",\"TEL\",\"TEL\",\"TEL\",\"TEL\",\"WEB\",\"TEL\",\"TEL\",\"TEL\",\"WEB\",\"TEL\",\"TEL\",\"WEB\",\"EML\",\"TEL\",\"EML\",\"WEB\",\"TEL\",\"EML\",\"TEL\",\"TEL\",\"TEL\",\"EML\",\"TEL\",\"EML\",\"EML\",\"TEL\",\"WEB\",\"TEL\",\"EML\",\"WEB\",\"WEB\",\"TEL\",\"TEL\",\"IN\",\"EML\",\"EML\",\"TEL\",\"WEB\",\"WEB\",\"WEB\",\"WEB\",\"EML\",\"TEL\",\"TEL\",\"TEL\",\"TEL\",\"EML\",\"WEB\",\"IN\",\"LT\",\"TEL\",\"TEL\",\"TEL\",\"EML\",\"TEL\",\"TEL\",\"WEB\",\"TEL\",\"TEL\",\"WEB\",\"WEB\",\"EML\",\"WEB\",\"TEL\",\"WEB\",\"TEL\",\"EML\",\"TEL\",\"TEL\",\"EML\",\"TEL\",\"TEL\",\"TEL\",\"CRS\",\"WEB\",\"TEL\",\"TEL\",\"TEL\",\"EML\",\"TEL\",\"TEL\",\"EML\",\"EML\",\"TEL\",\"EML\",\"TEL\",\"WEB\",\"TEL\",\"EML\",\"EML\",\"TEL\",\"WI\",\"WEB\",\"WI\",\"TEL\",\"WEB\",\"TEL\",\"TEL\",\"TEL\",\"TEL\",\"TEL\",\"WI\",\"TEL\",\"EML\",\"TEL\",\"TEL\",\"TEL\",\"TEL\",\"TEL\",\"EML\",\"IN\",\"TEL\",\"TEL\",\"SAL\",\"TEL\",\"TEL\",\"WEB\",\"IN\",\"EML\",\"WI\",\"TEL\",\"EML\",\"TEL\",\"TEL\",\"TEL\",\"EML\",\"EML\",\"EML\",\"EML\",\"EML\",\"EML\",\"TEL\",\"WEB\",\"TEL\",\"WEB\",\"TEL\",\"TEL\",\"EML\",\"TEL\",\"TEL\",\"WEB\",\"EML\",\"WEB\",\"TEL\",\"TEL\",\"TEL\",\"EML\",\"TEL\",\"TEL\",\"TEL\",\"EML\",\"WEB\",\"EML\",\"TEL\",\"TEL\",\"EML\",\"TEL\",\"TEL\",\"TEL\",\"TEL\",\"WEB\",\"TEL\",\"TEL\",\"WEB\",\"WEB\",\"TEL\",\"TEL\",\"IN\",\"TEL\",\"IN\",\"TEL\",\"WEB\",\"TEL\",\"TEL\",\"TEL\",\"WEB\",\"EML\",\"EML\",\"IN\",\"TEL\",\"TEL\",\"TEL\",\"TEL\",\"TEL\",\"WI\",\"EML\",\"EML\",\"TEL\",\"WEB\",\"TEL\",\"EML\",\"TEL\",\"WEB\",\"TEL\",\"TEL\",\"TEL\",\"LT\",\"TEL\",\"TEL\",\"TEL\",\"EML\",\"EML\",\"EML\",\"TEL\",\"TEL\",\"TEL\",\"IN\",\"EML\",\"EML\",\"TEL\",\"TEL\",\"WEB\",\"TEL\",\"WEB\",\"WEB\",\"TEL\",\"TEL\",\"WEB\",\"TEL\",\"TEL\",\"WEB\",\"TEL\",\"EML\",\"LT\",\"TEL\",\"WEB\",\"TEL\",\"TEL\",\"LT\",\"TEL\",\"EML\",\"TEL\",\"TEL\",\"EML\",\"TEL\",\"EML\",\"TEL\",\"TEL\",\"WEB\",\"TEL\",\"TEL\",\"EML\",\"TEL\",\"IN\",\"TEL\",\"TEL\",\"TEL\",\"TEL\",\"IN\",\"TEL\",\"WEB\",\"TEL\",\"TEL\",\"WEB\",\"IN\",\"WEB\",\"TEL\",\"WEB\",\"WEB\",\"TEL\",\"WEB\",\"TEL\",\"TEL\",\"EML\",\"EML\",\"TEL\",\"EML\",\"TEL\",\"LT\",\"EML\",\"EML\",\"EML\",\"TEL\",\"TEL\",\"TEL\",\"WEB\",\"TEL\",\"EML\",\"TEL\",\"WEB\",\"WEB\",\"TEL\",\"TEL\",\"EML\",\"TEL\",\"WEB\",\"TEL\",\"EML\",\"WEB\",\"TEL\",\"TEL\",\"WEB\",\"TEL\",\"EML\",\"TEL\",\"WEB\",\"TEL\",\"TEL\",\"IN\",\"EML\",\"EML\",\"TEL\",\"EML\",\"EML\",\"WEB\",\"TEL\",\"TEL\",\"TEL\",\"EML\",\"TEL\",\"EML\",\"WEB\",\"WEB\",\"WEB\",\"EML\",\"WEB\",\"TEL\",\"TEL\",\"WEB\",\"TEL\",\"TEL\",\"TEL\",\"EML\",\"WEB\",\"WEB\",\"TEL\",\"LT\",\"TEL\",\"TEL\",\"EML\",\"TEL\",\"EML\",\"TEL\",\"TEL\",\"TEL\",\"WEB\",\"TEL\",\"EML\",\"TEL\",\"TEL\",\"WEB\",\"EML\",\"EML\",\"TEL\",\"TEL\",\"WEB\",\"IN\",\"EML\",\"TEL\",\"WEB\",\"TEL\",\"TEL\",\"TEL\",\"EML\",\"TEL\",\"TEL\",\"TEL\",\"TEL\",\"TEL\",\"TEL\",\"WEB\",\"EML\",\"EML\",\"WEB\",\"TEL\",\"TEL\",\"EML\",\"TEL\",\"TEL\",\"WEB\",\"WEB\",\"WEB\",\"EML\",\"TEL\",\"TEL\",\"TEL\",\"EML\",\"TEL\",\"TEL\",\"EML\",\"EML\",\"TEL\",\"EML\",\"EML\",\"EML\",\"WEB\",\"WEB\",\"WEB\",\"TEL\",\"TEL\",\"WEB\",\"TEL\",\"TEL\",\"EML\",\"IN\",\"EML\",\"TEL\",\"TEL\",\"TEL\",\"TEL\",\"EML\",\"TEL\",\"TEL\",\"TEL\",\"TEL\",\"IN\",\"WEB\",\"TEL\",\"LT\",\"TEL\",\"TEL\",\"TEL\",\"TEL\",\"IN\",\"TEL\",\"EML\",\"TEL\",\"EML\",\"WI\",\"TEL\",\"TEL\",\"TEL\",\"TEL\",\"TEL\",\"TEL\",\"WEB\",\"EML\",\"WEB\",\"EML\",\"WEB\",\"EML\",\"TEL\",\"TEL\",\"WEB\",\"IN\",\"TEL\",\"WI\",\"TEL\",\"TEL\",\"TEL\",\"TEL\",\"TEL\",\"TEL\",\"EML\",\"EML\",\"EML\",\"EML\",\"EML\",\"TEL\",\"TEL\",\"TEL\",\"TEL\",\"EML\",\"WEB\",\"IN\",\"TEL\",\"TEL\",\"IN\",\"TEL\",\"WEB\",\"TEL\",\"EML\",\"EML\",\"EML\",\"TEL\",\"WEB\",\"TEL\",\"WEB\",\"EML\",\"TEL\",\"TEL\",\"TEL\",\"TEL\",\"EML\",\"WEB\",\"EML\",\"WEB\",\"WEB\",\"TEL\",\"TEL\",\"EML\",\"EML\",\"TEL\",\"TEL\",\"EML\",\"TEL\",\"TEL\",\"EML\",\"WEB\",\"EML\",\"EML\",\"EML\",\"TEL\",\"TEL\",\"TEL\",\"TEL\",\"TEL\",\"WEB\",\"TEL\",\"TEL\",\"EML\",\"EML\",\"WEB\",\"TEL\",\"WEB\",\"EML\",\"TEL\",\"TEL\",\"TEL\",\"WEB\",\"WEB\",\"TEL\",\"TEL\",\"TEL\",\"TEL\",\"WEB\",\"WEB\",\"TEL\",\"EML\",\"EML\",\"TEL\",\"TEL\",\"IN\",\"TEL\",\"WEB\",\"WI\",\"WEB\",\"EML\",\"WEB\",\"EML\",\"EML\",\"TEL\",\"EML\",\"TEL\",\"TEL\",\"EML\",\"TEL\",\"TEL\",\"EML\",\"WEB\",\"EML\"],\"legendgroup\":\"\",\"name\":\"\",\"showlegend\":true,\"type\":\"pie\"}],                        {\"template\":{\"data\":{\"histogram2dcontour\":[{\"type\":\"histogram2dcontour\",\"colorbar\":{\"outlinewidth\":0,\"ticks\":\"\"},\"colorscale\":[[0.0,\"#0d0887\"],[0.1111111111111111,\"#46039f\"],[0.2222222222222222,\"#7201a8\"],[0.3333333333333333,\"#9c179e\"],[0.4444444444444444,\"#bd3786\"],[0.5555555555555556,\"#d8576b\"],[0.6666666666666666,\"#ed7953\"],[0.7777777777777778,\"#fb9f3a\"],[0.8888888888888888,\"#fdca26\"],[1.0,\"#f0f921\"]]}],\"choropleth\":[{\"type\":\"choropleth\",\"colorbar\":{\"outlinewidth\":0,\"ticks\":\"\"}}],\"histogram2d\":[{\"type\":\"histogram2d\",\"colorbar\":{\"outlinewidth\":0,\"ticks\":\"\"},\"colorscale\":[[0.0,\"#0d0887\"],[0.1111111111111111,\"#46039f\"],[0.2222222222222222,\"#7201a8\"],[0.3333333333333333,\"#9c179e\"],[0.4444444444444444,\"#bd3786\"],[0.5555555555555556,\"#d8576b\"],[0.6666666666666666,\"#ed7953\"],[0.7777777777777778,\"#fb9f3a\"],[0.8888888888888888,\"#fdca26\"],[1.0,\"#f0f921\"]]}],\"heatmap\":[{\"type\":\"heatmap\",\"colorbar\":{\"outlinewidth\":0,\"ticks\":\"\"},\"colorscale\":[[0.0,\"#0d0887\"],[0.1111111111111111,\"#46039f\"],[0.2222222222222222,\"#7201a8\"],[0.3333333333333333,\"#9c179e\"],[0.4444444444444444,\"#bd3786\"],[0.5555555555555556,\"#d8576b\"],[0.6666666666666666,\"#ed7953\"],[0.7777777777777778,\"#fb9f3a\"],[0.8888888888888888,\"#fdca26\"],[1.0,\"#f0f921\"]]}],\"heatmapgl\":[{\"type\":\"heatmapgl\",\"colorbar\":{\"outlinewidth\":0,\"ticks\":\"\"},\"colorscale\":[[0.0,\"#0d0887\"],[0.1111111111111111,\"#46039f\"],[0.2222222222222222,\"#7201a8\"],[0.3333333333333333,\"#9c179e\"],[0.4444444444444444,\"#bd3786\"],[0.5555555555555556,\"#d8576b\"],[0.6666666666666666,\"#ed7953\"],[0.7777777777777778,\"#fb9f3a\"],[0.8888888888888888,\"#fdca26\"],[1.0,\"#f0f921\"]]}],\"contourcarpet\":[{\"type\":\"contourcarpet\",\"colorbar\":{\"outlinewidth\":0,\"ticks\":\"\"}}],\"contour\":[{\"type\":\"contour\",\"colorbar\":{\"outlinewidth\":0,\"ticks\":\"\"},\"colorscale\":[[0.0,\"#0d0887\"],[0.1111111111111111,\"#46039f\"],[0.2222222222222222,\"#7201a8\"],[0.3333333333333333,\"#9c179e\"],[0.4444444444444444,\"#bd3786\"],[0.5555555555555556,\"#d8576b\"],[0.6666666666666666,\"#ed7953\"],[0.7777777777777778,\"#fb9f3a\"],[0.8888888888888888,\"#fdca26\"],[1.0,\"#f0f921\"]]}],\"surface\":[{\"type\":\"surface\",\"colorbar\":{\"outlinewidth\":0,\"ticks\":\"\"},\"colorscale\":[[0.0,\"#0d0887\"],[0.1111111111111111,\"#46039f\"],[0.2222222222222222,\"#7201a8\"],[0.3333333333333333,\"#9c179e\"],[0.4444444444444444,\"#bd3786\"],[0.5555555555555556,\"#d8576b\"],[0.6666666666666666,\"#ed7953\"],[0.7777777777777778,\"#fb9f3a\"],[0.8888888888888888,\"#fdca26\"],[1.0,\"#f0f921\"]]}],\"mesh3d\":[{\"type\":\"mesh3d\",\"colorbar\":{\"outlinewidth\":0,\"ticks\":\"\"}}],\"scatter\":[{\"fillpattern\":{\"fillmode\":\"overlay\",\"size\":10,\"solidity\":0.2},\"type\":\"scatter\"}],\"parcoords\":[{\"type\":\"parcoords\",\"line\":{\"colorbar\":{\"outlinewidth\":0,\"ticks\":\"\"}}}],\"scatterpolargl\":[{\"type\":\"scatterpolargl\",\"marker\":{\"colorbar\":{\"outlinewidth\":0,\"ticks\":\"\"}}}],\"bar\":[{\"error_x\":{\"color\":\"#2a3f5f\"},\"error_y\":{\"color\":\"#2a3f5f\"},\"marker\":{\"line\":{\"color\":\"#E5ECF6\",\"width\":0.5},\"pattern\":{\"fillmode\":\"overlay\",\"size\":10,\"solidity\":0.2}},\"type\":\"bar\"}],\"scattergeo\":[{\"type\":\"scattergeo\",\"marker\":{\"colorbar\":{\"outlinewidth\":0,\"ticks\":\"\"}}}],\"scatterpolar\":[{\"type\":\"scatterpolar\",\"marker\":{\"colorbar\":{\"outlinewidth\":0,\"ticks\":\"\"}}}],\"histogram\":[{\"marker\":{\"pattern\":{\"fillmode\":\"overlay\",\"size\":10,\"solidity\":0.2}},\"type\":\"histogram\"}],\"scattergl\":[{\"type\":\"scattergl\",\"marker\":{\"colorbar\":{\"outlinewidth\":0,\"ticks\":\"\"}}}],\"scatter3d\":[{\"type\":\"scatter3d\",\"line\":{\"colorbar\":{\"outlinewidth\":0,\"ticks\":\"\"}},\"marker\":{\"colorbar\":{\"outlinewidth\":0,\"ticks\":\"\"}}}],\"scattermapbox\":[{\"type\":\"scattermapbox\",\"marker\":{\"colorbar\":{\"outlinewidth\":0,\"ticks\":\"\"}}}],\"scatterternary\":[{\"type\":\"scatterternary\",\"marker\":{\"colorbar\":{\"outlinewidth\":0,\"ticks\":\"\"}}}],\"scattercarpet\":[{\"type\":\"scattercarpet\",\"marker\":{\"colorbar\":{\"outlinewidth\":0,\"ticks\":\"\"}}}],\"carpet\":[{\"aaxis\":{\"endlinecolor\":\"#2a3f5f\",\"gridcolor\":\"white\",\"linecolor\":\"white\",\"minorgridcolor\":\"white\",\"startlinecolor\":\"#2a3f5f\"},\"baxis\":{\"endlinecolor\":\"#2a3f5f\",\"gridcolor\":\"white\",\"linecolor\":\"white\",\"minorgridcolor\":\"white\",\"startlinecolor\":\"#2a3f5f\"},\"type\":\"carpet\"}],\"table\":[{\"cells\":{\"fill\":{\"color\":\"#EBF0F8\"},\"line\":{\"color\":\"white\"}},\"header\":{\"fill\":{\"color\":\"#C8D4E3\"},\"line\":{\"color\":\"white\"}},\"type\":\"table\"}],\"barpolar\":[{\"marker\":{\"line\":{\"color\":\"#E5ECF6\",\"width\":0.5},\"pattern\":{\"fillmode\":\"overlay\",\"size\":10,\"solidity\":0.2}},\"type\":\"barpolar\"}],\"pie\":[{\"automargin\":true,\"type\":\"pie\"}]},\"layout\":{\"autotypenumbers\":\"strict\",\"colorway\":[\"#636efa\",\"#EF553B\",\"#00cc96\",\"#ab63fa\",\"#FFA15A\",\"#19d3f3\",\"#FF6692\",\"#B6E880\",\"#FF97FF\",\"#FECB52\"],\"font\":{\"color\":\"#2a3f5f\"},\"hovermode\":\"closest\",\"hoverlabel\":{\"align\":\"left\"},\"paper_bgcolor\":\"white\",\"plot_bgcolor\":\"#E5ECF6\",\"polar\":{\"bgcolor\":\"#E5ECF6\",\"angularaxis\":{\"gridcolor\":\"white\",\"linecolor\":\"white\",\"ticks\":\"\"},\"radialaxis\":{\"gridcolor\":\"white\",\"linecolor\":\"white\",\"ticks\":\"\"}},\"ternary\":{\"bgcolor\":\"#E5ECF6\",\"aaxis\":{\"gridcolor\":\"white\",\"linecolor\":\"white\",\"ticks\":\"\"},\"baxis\":{\"gridcolor\":\"white\",\"linecolor\":\"white\",\"ticks\":\"\"},\"caxis\":{\"gridcolor\":\"white\",\"linecolor\":\"white\",\"ticks\":\"\"}},\"coloraxis\":{\"colorbar\":{\"outlinewidth\":0,\"ticks\":\"\"}},\"colorscale\":{\"sequential\":[[0.0,\"#0d0887\"],[0.1111111111111111,\"#46039f\"],[0.2222222222222222,\"#7201a8\"],[0.3333333333333333,\"#9c179e\"],[0.4444444444444444,\"#bd3786\"],[0.5555555555555556,\"#d8576b\"],[0.6666666666666666,\"#ed7953\"],[0.7777777777777778,\"#fb9f3a\"],[0.8888888888888888,\"#fdca26\"],[1.0,\"#f0f921\"]],\"sequentialminus\":[[0.0,\"#0d0887\"],[0.1111111111111111,\"#46039f\"],[0.2222222222222222,\"#7201a8\"],[0.3333333333333333,\"#9c179e\"],[0.4444444444444444,\"#bd3786\"],[0.5555555555555556,\"#d8576b\"],[0.6666666666666666,\"#ed7953\"],[0.7777777777777778,\"#fb9f3a\"],[0.8888888888888888,\"#fdca26\"],[1.0,\"#f0f921\"]],\"diverging\":[[0,\"#8e0152\"],[0.1,\"#c51b7d\"],[0.2,\"#de77ae\"],[0.3,\"#f1b6da\"],[0.4,\"#fde0ef\"],[0.5,\"#f7f7f7\"],[0.6,\"#e6f5d0\"],[0.7,\"#b8e186\"],[0.8,\"#7fbc41\"],[0.9,\"#4d9221\"],[1,\"#276419\"]]},\"xaxis\":{\"gridcolor\":\"white\",\"linecolor\":\"white\",\"ticks\":\"\",\"title\":{\"standoff\":15},\"zerolinecolor\":\"white\",\"automargin\":true,\"zerolinewidth\":2},\"yaxis\":{\"gridcolor\":\"white\",\"linecolor\":\"white\",\"ticks\":\"\",\"title\":{\"standoff\":15},\"zerolinecolor\":\"white\",\"automargin\":true,\"zerolinewidth\":2},\"scene\":{\"xaxis\":{\"backgroundcolor\":\"#E5ECF6\",\"gridcolor\":\"white\",\"linecolor\":\"white\",\"showbackground\":true,\"ticks\":\"\",\"zerolinecolor\":\"white\",\"gridwidth\":2},\"yaxis\":{\"backgroundcolor\":\"#E5ECF6\",\"gridcolor\":\"white\",\"linecolor\":\"white\",\"showbackground\":true,\"ticks\":\"\",\"zerolinecolor\":\"white\",\"gridwidth\":2},\"zaxis\":{\"backgroundcolor\":\"#E5ECF6\",\"gridcolor\":\"white\",\"linecolor\":\"white\",\"showbackground\":true,\"ticks\":\"\",\"zerolinecolor\":\"white\",\"gridwidth\":2}},\"shapedefaults\":{\"line\":{\"color\":\"#2a3f5f\"}},\"annotationdefaults\":{\"arrowcolor\":\"#2a3f5f\",\"arrowhead\":0,\"arrowwidth\":1},\"geo\":{\"bgcolor\":\"white\",\"landcolor\":\"#E5ECF6\",\"subunitcolor\":\"white\",\"showland\":true,\"showlakes\":true,\"lakecolor\":\"white\"},\"title\":{\"x\":0.05},\"mapbox\":{\"style\":\"light\"}}},\"legend\":{\"tracegroupgap\":0},\"margin\":{\"t\":60}},                        {\"responsive\": true}                    ).then(function(){\n                            \nvar gd = document.getElementById('53f9dd2d-12a1-4f34-a667-b40f5aa0bb50');\nvar x = new MutationObserver(function (mutations, observer) {{\n        var display = window.getComputedStyle(gd).display;\n        if (!display || display === 'none') {{\n            console.log([gd, 'removed!']);\n            Plotly.purge(gd);\n            observer.disconnect();\n        }}\n}});\n\n// Listen for the removal of the full notebook cells\nvar notebookContainer = gd.closest('#notebook-container');\nif (notebookContainer) {{\n    x.observe(notebookContainer, {childList: true});\n}}\n\n// Listen for the clearing of the current output cell\nvar outputEl = gd.closest('.output');\nif (outputEl) {{\n    x.observe(outputEl, {childList: true});\n}}\n\n                        })                };                });            </script>        </div>"
     },
     "metadata": {},
     "output_type": "display_data"
    }
   ],
   "source": [
    "fig = px.pie(data, names= 'channel')\n",
    "fig.show()"
   ],
   "metadata": {
    "collapsed": false
   }
  },
  {
   "cell_type": "code",
   "execution_count": 37,
   "outputs": [
    {
     "data": {
      "text/plain": "59080.18"
     },
     "execution_count": 37,
     "metadata": {},
     "output_type": "execute_result"
    }
   ],
   "source": [
    "max(data['ca_tot'])"
   ],
   "metadata": {
    "collapsed": false
   }
  },
  {
   "cell_type": "code",
   "execution_count": 45,
   "outputs": [
    {
     "data": {
      "text/plain": "     duree channel room_class  ca_tot ca_category\n222      3      IN          R  620.89  [0, 10000)\n223      2     EML          E  589.53  [0, 10000)\n224      2     TEL          E  977.45  [0, 10000)\n225      1     WEB          E  644.92  [0, 10000)\n226      1     WEB          E  468.21  [0, 10000)\n..     ...     ...        ...     ...         ...\n417      1     TEL          E  538.71  [0, 10000)\n418      2      WI          E    0.00  [0, 10000)\n419      2     TEL          E  826.80  [0, 10000)\n420      5     TEL          E    0.00  [0, 10000)\n421      1     TEL          E  444.95  [0, 10000)\n\n[200 rows x 5 columns]",
      "text/html": "<div>\n<style scoped>\n    .dataframe tbody tr th:only-of-type {\n        vertical-align: middle;\n    }\n\n    .dataframe tbody tr th {\n        vertical-align: top;\n    }\n\n    .dataframe thead th {\n        text-align: right;\n    }\n</style>\n<table border=\"1\" class=\"dataframe\">\n  <thead>\n    <tr style=\"text-align: right;\">\n      <th></th>\n      <th>duree</th>\n      <th>channel</th>\n      <th>room_class</th>\n      <th>ca_tot</th>\n      <th>ca_category</th>\n    </tr>\n  </thead>\n  <tbody>\n    <tr>\n      <th>222</th>\n      <td>3</td>\n      <td>IN</td>\n      <td>R</td>\n      <td>620.89</td>\n      <td>[0, 10000)</td>\n    </tr>\n    <tr>\n      <th>223</th>\n      <td>2</td>\n      <td>EML</td>\n      <td>E</td>\n      <td>589.53</td>\n      <td>[0, 10000)</td>\n    </tr>\n    <tr>\n      <th>224</th>\n      <td>2</td>\n      <td>TEL</td>\n      <td>E</td>\n      <td>977.45</td>\n      <td>[0, 10000)</td>\n    </tr>\n    <tr>\n      <th>225</th>\n      <td>1</td>\n      <td>WEB</td>\n      <td>E</td>\n      <td>644.92</td>\n      <td>[0, 10000)</td>\n    </tr>\n    <tr>\n      <th>226</th>\n      <td>1</td>\n      <td>WEB</td>\n      <td>E</td>\n      <td>468.21</td>\n      <td>[0, 10000)</td>\n    </tr>\n    <tr>\n      <th>...</th>\n      <td>...</td>\n      <td>...</td>\n      <td>...</td>\n      <td>...</td>\n      <td>...</td>\n    </tr>\n    <tr>\n      <th>417</th>\n      <td>1</td>\n      <td>TEL</td>\n      <td>E</td>\n      <td>538.71</td>\n      <td>[0, 10000)</td>\n    </tr>\n    <tr>\n      <th>418</th>\n      <td>2</td>\n      <td>WI</td>\n      <td>E</td>\n      <td>0.00</td>\n      <td>[0, 10000)</td>\n    </tr>\n    <tr>\n      <th>419</th>\n      <td>2</td>\n      <td>TEL</td>\n      <td>E</td>\n      <td>826.80</td>\n      <td>[0, 10000)</td>\n    </tr>\n    <tr>\n      <th>420</th>\n      <td>5</td>\n      <td>TEL</td>\n      <td>E</td>\n      <td>0.00</td>\n      <td>[0, 10000)</td>\n    </tr>\n    <tr>\n      <th>421</th>\n      <td>1</td>\n      <td>TEL</td>\n      <td>E</td>\n      <td>444.95</td>\n      <td>[0, 10000)</td>\n    </tr>\n  </tbody>\n</table>\n<p>200 rows × 5 columns</p>\n</div>"
     },
     "execution_count": 45,
     "metadata": {},
     "output_type": "execute_result"
    }
   ],
   "source": [
    "# Création des intervalles\n",
    "bins = [0, 10000, 30000, 60000]# range(0, int(max(data['ca_tot'])) + 10, 10) # Ajustez ces intervalles selon vos besoins\n",
    "data['ca_category'] = p.cut(data['ca_tot'], bins, right=False).astype(str)\n",
    "data.head(200)"
   ],
   "metadata": {
    "collapsed": false
   }
  },
  {
   "cell_type": "code",
   "execution_count": 46,
   "outputs": [
    {
     "data": {
      "application/vnd.plotly.v1+json": {
       "data": [
        {
         "domain": {
          "x": [
           0.0,
           1.0
          ],
          "y": [
           0.0,
           1.0
          ]
         },
         "hovertemplate": "ca_category=%{label}<extra></extra>",
         "labels": [
          "[0, 10000)",
          "[0, 10000)",
          "[0, 10000)",
          "[0, 10000)",
          "[0, 10000)",
          "[0, 10000)",
          "[0, 10000)",
          "[0, 10000)",
          "[0, 10000)",
          "[0, 10000)",
          "[0, 10000)",
          "[0, 10000)",
          "[0, 10000)",
          "[0, 10000)",
          "[0, 10000)",
          "[0, 10000)",
          "[0, 10000)",
          "[0, 10000)",
          "[0, 10000)",
          "[0, 10000)",
          "[0, 10000)",
          "[0, 10000)",
          "[0, 10000)",
          "[30000, 60000)",
          "[0, 10000)",
          "[0, 10000)",
          "[0, 10000)",
          "[0, 10000)",
          "[0, 10000)",
          "[0, 10000)",
          "[0, 10000)",
          "[0, 10000)",
          "[0, 10000)",
          "[0, 10000)",
          "[0, 10000)",
          "[0, 10000)",
          "[0, 10000)",
          "[0, 10000)",
          "[0, 10000)",
          "[0, 10000)",
          "[0, 10000)",
          "[0, 10000)",
          "[0, 10000)",
          "[0, 10000)",
          "[0, 10000)",
          "[0, 10000)",
          "[0, 10000)",
          "[0, 10000)",
          "[0, 10000)",
          "[0, 10000)",
          "[0, 10000)",
          "[0, 10000)",
          "[0, 10000)",
          "[0, 10000)",
          "[0, 10000)",
          "[0, 10000)",
          "[0, 10000)",
          "[0, 10000)",
          "[0, 10000)",
          "[0, 10000)",
          "[0, 10000)",
          "[0, 10000)",
          "[0, 10000)",
          "[0, 10000)",
          "[0, 10000)",
          "[0, 10000)",
          "[0, 10000)",
          "[0, 10000)",
          "[0, 10000)",
          "[10000, 30000)",
          "[0, 10000)",
          "[0, 10000)",
          "[0, 10000)",
          "[0, 10000)",
          "[0, 10000)",
          "[0, 10000)",
          "[0, 10000)",
          "[0, 10000)",
          "[0, 10000)",
          "[10000, 30000)",
          "[0, 10000)",
          "[0, 10000)",
          "[0, 10000)",
          "[0, 10000)",
          "[0, 10000)",
          "[0, 10000)",
          "[0, 10000)",
          "[0, 10000)",
          "[10000, 30000)",
          "[10000, 30000)",
          "[0, 10000)",
          "[0, 10000)",
          "[0, 10000)",
          "[0, 10000)",
          "[0, 10000)",
          "[0, 10000)",
          "[0, 10000)",
          "[0, 10000)",
          "[0, 10000)",
          "[0, 10000)",
          "[0, 10000)",
          "[0, 10000)",
          "[0, 10000)",
          "[0, 10000)",
          "[0, 10000)",
          "[0, 10000)",
          "[0, 10000)",
          "[0, 10000)",
          "[0, 10000)",
          "[10000, 30000)",
          "[0, 10000)",
          "[0, 10000)",
          "[0, 10000)",
          "[0, 10000)",
          "[0, 10000)",
          "[0, 10000)",
          "[0, 10000)",
          "[0, 10000)",
          "[0, 10000)",
          "[0, 10000)",
          "[0, 10000)",
          "[0, 10000)",
          "[0, 10000)",
          "[10000, 30000)",
          "[0, 10000)",
          "[0, 10000)",
          "[0, 10000)",
          "[0, 10000)",
          "[0, 10000)",
          "[0, 10000)",
          "[0, 10000)",
          "[0, 10000)",
          "[0, 10000)",
          "[0, 10000)",
          "[0, 10000)",
          "[0, 10000)",
          "[0, 10000)",
          "[0, 10000)",
          "[0, 10000)",
          "[0, 10000)",
          "[0, 10000)",
          "[0, 10000)",
          "[0, 10000)",
          "[0, 10000)",
          "[0, 10000)",
          "[0, 10000)",
          "[0, 10000)",
          "[0, 10000)",
          "[0, 10000)",
          "[0, 10000)",
          "[0, 10000)",
          "[0, 10000)",
          "[0, 10000)",
          "[0, 10000)",
          "[0, 10000)",
          "[0, 10000)",
          "[0, 10000)",
          "[0, 10000)",
          "[0, 10000)",
          "[10000, 30000)",
          "[0, 10000)",
          "[0, 10000)",
          "[0, 10000)",
          "[0, 10000)",
          "[0, 10000)",
          "[0, 10000)",
          "[0, 10000)",
          "[0, 10000)",
          "[0, 10000)",
          "[0, 10000)",
          "[0, 10000)",
          "[0, 10000)",
          "[0, 10000)",
          "[0, 10000)",
          "[0, 10000)",
          "[0, 10000)",
          "[0, 10000)",
          "[0, 10000)",
          "[0, 10000)",
          "[0, 10000)",
          "[0, 10000)",
          "[0, 10000)",
          "[0, 10000)",
          "[0, 10000)",
          "[0, 10000)",
          "[0, 10000)",
          "[0, 10000)",
          "[0, 10000)",
          "[0, 10000)",
          "[0, 10000)",
          "[0, 10000)",
          "[0, 10000)",
          "[0, 10000)",
          "[0, 10000)",
          "[0, 10000)",
          "[0, 10000)",
          "[0, 10000)",
          "[0, 10000)",
          "[0, 10000)",
          "[0, 10000)",
          "[0, 10000)",
          "[0, 10000)",
          "[0, 10000)",
          "[0, 10000)",
          "[0, 10000)",
          "[0, 10000)",
          "[0, 10000)",
          "[0, 10000)",
          "[0, 10000)",
          "[0, 10000)",
          "[0, 10000)",
          "[0, 10000)",
          "[0, 10000)",
          "[0, 10000)",
          "[0, 10000)",
          "[0, 10000)",
          "[0, 10000)",
          "[0, 10000)",
          "[0, 10000)",
          "[0, 10000)",
          "[0, 10000)",
          "[0, 10000)",
          "[0, 10000)",
          "[0, 10000)",
          "[0, 10000)",
          "[0, 10000)",
          "[0, 10000)",
          "[0, 10000)",
          "[0, 10000)",
          "[0, 10000)",
          "[10000, 30000)",
          "[0, 10000)",
          "[0, 10000)",
          "[0, 10000)",
          "[0, 10000)",
          "[0, 10000)",
          "[0, 10000)",
          "[0, 10000)",
          "[0, 10000)",
          "[0, 10000)",
          "[0, 10000)",
          "[0, 10000)",
          "[0, 10000)",
          "[0, 10000)",
          "[0, 10000)",
          "[0, 10000)",
          "[0, 10000)",
          "[0, 10000)",
          "[0, 10000)",
          "[0, 10000)",
          "[0, 10000)",
          "[0, 10000)",
          "[0, 10000)",
          "[0, 10000)",
          "[0, 10000)",
          "[0, 10000)",
          "[0, 10000)",
          "[0, 10000)",
          "[0, 10000)",
          "[0, 10000)",
          "[0, 10000)",
          "[0, 10000)",
          "[0, 10000)",
          "[0, 10000)",
          "[0, 10000)",
          "[0, 10000)",
          "[0, 10000)",
          "[0, 10000)",
          "[0, 10000)",
          "[0, 10000)",
          "[0, 10000)",
          "[0, 10000)",
          "[0, 10000)",
          "[0, 10000)",
          "[0, 10000)",
          "[0, 10000)",
          "[0, 10000)",
          "[0, 10000)",
          "[0, 10000)",
          "[0, 10000)",
          "[0, 10000)",
          "[0, 10000)",
          "[0, 10000)",
          "[0, 10000)",
          "[0, 10000)",
          "[0, 10000)",
          "[0, 10000)",
          "[0, 10000)",
          "[0, 10000)",
          "[0, 10000)",
          "[0, 10000)",
          "[0, 10000)",
          "[0, 10000)",
          "[0, 10000)",
          "[0, 10000)",
          "[0, 10000)",
          "[0, 10000)",
          "[0, 10000)",
          "[0, 10000)",
          "[0, 10000)",
          "[0, 10000)",
          "[0, 10000)",
          "[0, 10000)",
          "[0, 10000)",
          "[0, 10000)",
          "[0, 10000)",
          "[0, 10000)",
          "[0, 10000)",
          "[0, 10000)",
          "[0, 10000)",
          "[0, 10000)",
          "[0, 10000)",
          "[0, 10000)",
          "[0, 10000)",
          "[0, 10000)",
          "[0, 10000)",
          "[0, 10000)",
          "[0, 10000)",
          "[0, 10000)",
          "[0, 10000)",
          "[0, 10000)",
          "[0, 10000)",
          "[0, 10000)",
          "[0, 10000)",
          "[0, 10000)",
          "[0, 10000)",
          "[10000, 30000)",
          "[0, 10000)",
          "[0, 10000)",
          "[0, 10000)",
          "[0, 10000)",
          "[0, 10000)",
          "[0, 10000)",
          "[0, 10000)",
          "[0, 10000)",
          "[0, 10000)",
          "[0, 10000)",
          "[0, 10000)",
          "[0, 10000)",
          "[0, 10000)",
          "[0, 10000)",
          "[0, 10000)",
          "[0, 10000)",
          "[0, 10000)",
          "[0, 10000)",
          "[0, 10000)",
          "[0, 10000)",
          "[0, 10000)",
          "[0, 10000)",
          "[0, 10000)",
          "[0, 10000)",
          "[0, 10000)",
          "[0, 10000)",
          "[0, 10000)",
          "[0, 10000)",
          "[0, 10000)",
          "[0, 10000)",
          "[0, 10000)",
          "[0, 10000)",
          "[0, 10000)",
          "[0, 10000)",
          "[0, 10000)",
          "[0, 10000)",
          "[0, 10000)",
          "[0, 10000)",
          "[0, 10000)",
          "[0, 10000)",
          "[0, 10000)",
          "[0, 10000)",
          "[0, 10000)",
          "[0, 10000)",
          "[0, 10000)",
          "[0, 10000)",
          "[0, 10000)",
          "[0, 10000)",
          "[0, 10000)",
          "[10000, 30000)",
          "[0, 10000)",
          "[0, 10000)",
          "[0, 10000)",
          "[0, 10000)",
          "[0, 10000)",
          "[0, 10000)",
          "[0, 10000)",
          "[0, 10000)",
          "[0, 10000)",
          "[0, 10000)",
          "[0, 10000)",
          "[0, 10000)",
          "[0, 10000)",
          "[0, 10000)",
          "[0, 10000)",
          "[0, 10000)",
          "[0, 10000)",
          "[0, 10000)",
          "[0, 10000)",
          "[0, 10000)",
          "[0, 10000)",
          "[0, 10000)",
          "[0, 10000)",
          "[0, 10000)",
          "[0, 10000)",
          "[0, 10000)",
          "[0, 10000)",
          "[0, 10000)",
          "[0, 10000)",
          "[0, 10000)",
          "[0, 10000)",
          "[0, 10000)",
          "[0, 10000)",
          "[0, 10000)",
          "[0, 10000)",
          "[0, 10000)",
          "[0, 10000)",
          "[0, 10000)",
          "[0, 10000)",
          "[0, 10000)",
          "[0, 10000)",
          "[0, 10000)",
          "[0, 10000)",
          "[0, 10000)",
          "[0, 10000)",
          "[0, 10000)",
          "[0, 10000)",
          "[0, 10000)",
          "[0, 10000)",
          "[0, 10000)",
          "[0, 10000)",
          "[0, 10000)",
          "[0, 10000)",
          "[0, 10000)",
          "[10000, 30000)",
          "[0, 10000)",
          "[0, 10000)",
          "[0, 10000)",
          "[0, 10000)",
          "[0, 10000)",
          "[0, 10000)",
          "[0, 10000)",
          "[0, 10000)",
          "[10000, 30000)",
          "[10000, 30000)",
          "[0, 10000)",
          "[0, 10000)",
          "[0, 10000)",
          "[0, 10000)",
          "[0, 10000)",
          "[0, 10000)",
          "[0, 10000)",
          "[0, 10000)",
          "[0, 10000)",
          "[0, 10000)",
          "[0, 10000)",
          "[0, 10000)",
          "[0, 10000)",
          "[0, 10000)",
          "[0, 10000)",
          "[0, 10000)",
          "[0, 10000)",
          "[0, 10000)",
          "[0, 10000)",
          "[0, 10000)",
          "[0, 10000)",
          "[0, 10000)",
          "[0, 10000)",
          "[0, 10000)",
          "[0, 10000)",
          "[10000, 30000)",
          "[0, 10000)",
          "[0, 10000)",
          "[0, 10000)",
          "[0, 10000)",
          "[0, 10000)",
          "[0, 10000)",
          "[0, 10000)",
          "[0, 10000)",
          "[0, 10000)",
          "[0, 10000)",
          "[0, 10000)",
          "[0, 10000)",
          "[0, 10000)",
          "[0, 10000)",
          "[0, 10000)",
          "[0, 10000)",
          "[0, 10000)",
          "[0, 10000)",
          "[0, 10000)",
          "[0, 10000)",
          "[0, 10000)",
          "[0, 10000)",
          "[0, 10000)",
          "[0, 10000)",
          "[0, 10000)",
          "[0, 10000)",
          "[0, 10000)",
          "[0, 10000)",
          "[0, 10000)",
          "[30000, 60000)",
          "[0, 10000)",
          "[0, 10000)",
          "[0, 10000)",
          "[0, 10000)",
          "[0, 10000)",
          "[0, 10000)",
          "[0, 10000)",
          "[0, 10000)",
          "[0, 10000)",
          "[0, 10000)",
          "[0, 10000)",
          "[0, 10000)",
          "[0, 10000)",
          "[0, 10000)",
          "[0, 10000)",
          "[30000, 60000)",
          "[10000, 30000)",
          "[0, 10000)",
          "[0, 10000)",
          "[0, 10000)",
          "[0, 10000)",
          "[0, 10000)",
          "[0, 10000)",
          "[0, 10000)",
          "[0, 10000)",
          "[10000, 30000)",
          "[0, 10000)",
          "[0, 10000)",
          "[0, 10000)",
          "[0, 10000)",
          "[0, 10000)",
          "[0, 10000)",
          "[0, 10000)",
          "[0, 10000)",
          "[0, 10000)",
          "[0, 10000)",
          "[0, 10000)",
          "[10000, 30000)",
          "[0, 10000)",
          "[0, 10000)",
          "[0, 10000)",
          "[0, 10000)",
          "[0, 10000)",
          "[0, 10000)",
          "[0, 10000)",
          "[0, 10000)",
          "[0, 10000)",
          "[0, 10000)",
          "[0, 10000)",
          "[0, 10000)",
          "[0, 10000)",
          "[0, 10000)",
          "[0, 10000)",
          "[0, 10000)",
          "[0, 10000)",
          "[0, 10000)",
          "[0, 10000)",
          "[0, 10000)",
          "[0, 10000)",
          "[0, 10000)",
          "[0, 10000)",
          "[0, 10000)",
          "[0, 10000)",
          "[0, 10000)",
          "[0, 10000)",
          "[0, 10000)",
          "[0, 10000)",
          "[0, 10000)",
          "[0, 10000)",
          "[0, 10000)",
          "[0, 10000)",
          "[0, 10000)",
          "[0, 10000)",
          "[0, 10000)",
          "[0, 10000)",
          "[0, 10000)",
          "[0, 10000)",
          "[0, 10000)",
          "[0, 10000)",
          "[0, 10000)",
          "[0, 10000)",
          "[0, 10000)",
          "[0, 10000)",
          "[0, 10000)",
          "[0, 10000)",
          "[0, 10000)",
          "[0, 10000)",
          "[0, 10000)",
          "[0, 10000)",
          "[0, 10000)",
          "[0, 10000)",
          "[0, 10000)",
          "[0, 10000)",
          "[0, 10000)",
          "[0, 10000)",
          "[0, 10000)",
          "[0, 10000)",
          "[0, 10000)",
          "[0, 10000)",
          "[0, 10000)",
          "[0, 10000)",
          "[0, 10000)",
          "[0, 10000)",
          "[0, 10000)",
          "[0, 10000)",
          "[0, 10000)",
          "[0, 10000)",
          "[0, 10000)",
          "[0, 10000)",
          "[0, 10000)",
          "[0, 10000)",
          "[0, 10000)",
          "[0, 10000)",
          "[0, 10000)",
          "[0, 10000)",
          "[0, 10000)",
          "[0, 10000)",
          "[0, 10000)",
          "[0, 10000)",
          "[0, 10000)",
          "[0, 10000)",
          "[0, 10000)",
          "[0, 10000)",
          "[0, 10000)",
          "[0, 10000)",
          "[0, 10000)",
          "[0, 10000)",
          "[0, 10000)",
          "[0, 10000)",
          "[0, 10000)",
          "[0, 10000)",
          "[0, 10000)",
          "[0, 10000)",
          "[0, 10000)",
          "[0, 10000)",
          "[0, 10000)",
          "[10000, 30000)",
          "[0, 10000)",
          "[0, 10000)",
          "[0, 10000)",
          "[0, 10000)",
          "[0, 10000)",
          "[0, 10000)",
          "[0, 10000)",
          "[0, 10000)",
          "[0, 10000)",
          "[0, 10000)",
          "[0, 10000)",
          "[0, 10000)",
          "[0, 10000)",
          "[0, 10000)",
          "[0, 10000)",
          "[0, 10000)",
          "[0, 10000)",
          "[0, 10000)",
          "[0, 10000)",
          "[0, 10000)",
          "[0, 10000)",
          "[0, 10000)",
          "[0, 10000)",
          "[0, 10000)",
          "[0, 10000)",
          "[0, 10000)",
          "[0, 10000)",
          "[0, 10000)",
          "[0, 10000)",
          "[0, 10000)",
          "[0, 10000)",
          "[0, 10000)",
          "[0, 10000)",
          "[0, 10000)",
          "[0, 10000)",
          "[0, 10000)",
          "[0, 10000)",
          "[0, 10000)",
          "[0, 10000)",
          "[0, 10000)",
          "[0, 10000)",
          "[0, 10000)",
          "[0, 10000)",
          "[0, 10000)",
          "[0, 10000)",
          "[0, 10000)",
          "[0, 10000)",
          "[0, 10000)",
          "[0, 10000)",
          "[0, 10000)",
          "[0, 10000)",
          "[0, 10000)",
          "[0, 10000)",
          "[0, 10000)",
          "[0, 10000)",
          "[0, 10000)",
          "[0, 10000)",
          "[0, 10000)",
          "[0, 10000)",
          "[0, 10000)",
          "[0, 10000)",
          "[0, 10000)",
          "[0, 10000)",
          "[0, 10000)",
          "[0, 10000)",
          "[0, 10000)",
          "[0, 10000)",
          "[0, 10000)",
          "[0, 10000)",
          "[0, 10000)",
          "[0, 10000)",
          "[0, 10000)",
          "[0, 10000)",
          "[0, 10000)",
          "[0, 10000)",
          "[0, 10000)",
          "[0, 10000)",
          "[0, 10000)",
          "[0, 10000)",
          "[0, 10000)",
          "[0, 10000)",
          "[0, 10000)",
          "[0, 10000)",
          "[0, 10000)",
          "[0, 10000)",
          "[0, 10000)",
          "[0, 10000)",
          "[0, 10000)",
          "[0, 10000)",
          "[0, 10000)",
          "[0, 10000)",
          "[0, 10000)",
          "[0, 10000)",
          "[0, 10000)",
          "[0, 10000)",
          "[0, 10000)",
          "[10000, 30000)",
          "[0, 10000)",
          "[0, 10000)",
          "[0, 10000)",
          "[0, 10000)",
          "[0, 10000)",
          "[0, 10000)",
          "[0, 10000)",
          "[0, 10000)",
          "[0, 10000)",
          "[0, 10000)",
          "[0, 10000)",
          "[0, 10000)",
          "[0, 10000)",
          "[0, 10000)",
          "[0, 10000)",
          "[0, 10000)",
          "[0, 10000)",
          "[0, 10000)",
          "[0, 10000)",
          "[0, 10000)",
          "[0, 10000)",
          "[0, 10000)",
          "[0, 10000)",
          "[0, 10000)",
          "[0, 10000)",
          "[0, 10000)",
          "[0, 10000)",
          "[0, 10000)",
          "[0, 10000)",
          "[0, 10000)",
          "[0, 10000)",
          "[0, 10000)",
          "[0, 10000)",
          "[0, 10000)",
          "[0, 10000)",
          "[0, 10000)",
          "[0, 10000)",
          "[0, 10000)",
          "[0, 10000)",
          "[0, 10000)",
          "[0, 10000)",
          "[0, 10000)",
          "[0, 10000)",
          "[0, 10000)",
          "[0, 10000)",
          "[0, 10000)",
          "[0, 10000)",
          "[0, 10000)",
          "[0, 10000)",
          "[0, 10000)",
          "[0, 10000)",
          "[0, 10000)",
          "[0, 10000)",
          "[0, 10000)",
          "[0, 10000)",
          "[0, 10000)",
          "[0, 10000)",
          "[0, 10000)",
          "[0, 10000)",
          "[0, 10000)",
          "[0, 10000)",
          "[0, 10000)",
          "[0, 10000)",
          "[0, 10000)",
          "[0, 10000)",
          "[0, 10000)",
          "[10000, 30000)",
          "[0, 10000)",
          "[0, 10000)",
          "[0, 10000)",
          "[0, 10000)",
          "[0, 10000)",
          "[0, 10000)",
          "[0, 10000)",
          "[0, 10000)",
          "[0, 10000)",
          "[0, 10000)",
          "[0, 10000)",
          "[0, 10000)",
          "[0, 10000)",
          "[0, 10000)",
          "[0, 10000)",
          "[0, 10000)",
          "[0, 10000)",
          "[0, 10000)",
          "[0, 10000)",
          "[0, 10000)",
          "[10000, 30000)",
          "[0, 10000)",
          "[0, 10000)",
          "[0, 10000)",
          "[0, 10000)",
          "[0, 10000)",
          "[0, 10000)",
          "[0, 10000)",
          "[0, 10000)",
          "[0, 10000)",
          "[0, 10000)",
          "[0, 10000)",
          "[0, 10000)",
          "[0, 10000)",
          "[0, 10000)",
          "[0, 10000)",
          "[0, 10000)",
          "[0, 10000)",
          "[0, 10000)",
          "[0, 10000)",
          "[0, 10000)",
          "[0, 10000)",
          "[0, 10000)",
          "[0, 10000)",
          "[0, 10000)",
          "[0, 10000)",
          "[0, 10000)",
          "[0, 10000)",
          "[0, 10000)",
          "[0, 10000)",
          "[0, 10000)",
          "[0, 10000)",
          "[0, 10000)",
          "[0, 10000)",
          "[0, 10000)",
          "[0, 10000)",
          "[0, 10000)",
          "[0, 10000)",
          "[0, 10000)",
          "[0, 10000)",
          "[0, 10000)",
          "[0, 10000)",
          "[0, 10000)",
          "[0, 10000)",
          "[0, 10000)",
          "[0, 10000)",
          "[0, 10000)",
          "[0, 10000)",
          "[0, 10000)",
          "[0, 10000)",
          "[0, 10000)",
          "[0, 10000)",
          "[0, 10000)",
          "[0, 10000)",
          "[0, 10000)",
          "[0, 10000)",
          "[0, 10000)",
          "[0, 10000)",
          "[0, 10000)",
          "[0, 10000)",
          "[0, 10000)",
          "[0, 10000)",
          "[0, 10000)",
          "[0, 10000)",
          "[10000, 30000)",
          "[0, 10000)",
          "[0, 10000)",
          "[0, 10000)",
          "[0, 10000)",
          "[0, 10000)",
          "[0, 10000)",
          "[0, 10000)",
          "[0, 10000)",
          "[0, 10000)",
          "[0, 10000)",
          "[0, 10000)",
          "[0, 10000)",
          "[0, 10000)",
          "[0, 10000)",
          "[0, 10000)",
          "[0, 10000)",
          "[0, 10000)",
          "[0, 10000)",
          "[0, 10000)",
          "[0, 10000)",
          "[0, 10000)",
          "[0, 10000)",
          "[0, 10000)",
          "[0, 10000)",
          "[0, 10000)",
          "[0, 10000)",
          "[0, 10000)",
          "[0, 10000)",
          "[0, 10000)",
          "[0, 10000)",
          "[0, 10000)",
          "[10000, 30000)",
          "[0, 10000)",
          "[0, 10000)",
          "[0, 10000)",
          "[0, 10000)",
          "[0, 10000)",
          "[0, 10000)",
          "[0, 10000)",
          "[0, 10000)",
          "[0, 10000)",
          "[0, 10000)",
          "[0, 10000)",
          "[0, 10000)",
          "[0, 10000)",
          "[0, 10000)",
          "[0, 10000)",
          "[0, 10000)",
          "[0, 10000)",
          "[0, 10000)",
          "[0, 10000)",
          "[0, 10000)",
          "[0, 10000)",
          "[0, 10000)",
          "[0, 10000)",
          "[0, 10000)",
          "[0, 10000)",
          "[0, 10000)",
          "[0, 10000)",
          "[0, 10000)",
          "[0, 10000)",
          "[0, 10000)",
          "[0, 10000)",
          "[0, 10000)",
          "[0, 10000)",
          "[0, 10000)",
          "[0, 10000)",
          "[0, 10000)",
          "[0, 10000)",
          "[10000, 30000)",
          "[0, 10000)",
          "[0, 10000)",
          "[0, 10000)",
          "[0, 10000)",
          "[0, 10000)",
          "[0, 10000)",
          "[0, 10000)",
          "[0, 10000)",
          "[0, 10000)",
          "[0, 10000)",
          "[0, 10000)",
          "[0, 10000)",
          "[0, 10000)",
          "[0, 10000)",
          "[0, 10000)",
          "[0, 10000)",
          "[0, 10000)",
          "[0, 10000)",
          "[0, 10000)",
          "[0, 10000)",
          "[0, 10000)",
          "[0, 10000)",
          "[0, 10000)",
          "[0, 10000)",
          "[0, 10000)",
          "[0, 10000)",
          "[0, 10000)",
          "[0, 10000)",
          "[0, 10000)",
          "[0, 10000)",
          "[0, 10000)",
          "[0, 10000)",
          "nan",
          "[0, 10000)",
          "[0, 10000)",
          "[0, 10000)",
          "[0, 10000)",
          "[0, 10000)",
          "[0, 10000)",
          "[0, 10000)",
          "[0, 10000)",
          "[0, 10000)",
          "[0, 10000)",
          "[0, 10000)",
          "[0, 10000)",
          "[0, 10000)",
          "[0, 10000)",
          "[0, 10000)",
          "[0, 10000)",
          "[0, 10000)",
          "[0, 10000)",
          "[0, 10000)",
          "[0, 10000)",
          "[0, 10000)",
          "[0, 10000)",
          "[0, 10000)",
          "[0, 10000)",
          "[0, 10000)",
          "[0, 10000)",
          "[0, 10000)",
          "[0, 10000)",
          "[0, 10000)",
          "[0, 10000)",
          "[0, 10000)",
          "[0, 10000)",
          "[0, 10000)",
          "[0, 10000)",
          "[0, 10000)",
          "[0, 10000)",
          "[0, 10000)",
          "[0, 10000)",
          "[0, 10000)",
          "[0, 10000)",
          "[0, 10000)",
          "[0, 10000)",
          "[0, 10000)",
          "[0, 10000)",
          "[0, 10000)"
         ],
         "legendgroup": "",
         "name": "",
         "showlegend": true,
         "type": "pie"
        }
       ],
       "layout": {
        "template": {
         "data": {
          "histogram2dcontour": [
           {
            "type": "histogram2dcontour",
            "colorbar": {
             "outlinewidth": 0,
             "ticks": ""
            },
            "colorscale": [
             [
              0.0,
              "#0d0887"
             ],
             [
              0.1111111111111111,
              "#46039f"
             ],
             [
              0.2222222222222222,
              "#7201a8"
             ],
             [
              0.3333333333333333,
              "#9c179e"
             ],
             [
              0.4444444444444444,
              "#bd3786"
             ],
             [
              0.5555555555555556,
              "#d8576b"
             ],
             [
              0.6666666666666666,
              "#ed7953"
             ],
             [
              0.7777777777777778,
              "#fb9f3a"
             ],
             [
              0.8888888888888888,
              "#fdca26"
             ],
             [
              1.0,
              "#f0f921"
             ]
            ]
           }
          ],
          "choropleth": [
           {
            "type": "choropleth",
            "colorbar": {
             "outlinewidth": 0,
             "ticks": ""
            }
           }
          ],
          "histogram2d": [
           {
            "type": "histogram2d",
            "colorbar": {
             "outlinewidth": 0,
             "ticks": ""
            },
            "colorscale": [
             [
              0.0,
              "#0d0887"
             ],
             [
              0.1111111111111111,
              "#46039f"
             ],
             [
              0.2222222222222222,
              "#7201a8"
             ],
             [
              0.3333333333333333,
              "#9c179e"
             ],
             [
              0.4444444444444444,
              "#bd3786"
             ],
             [
              0.5555555555555556,
              "#d8576b"
             ],
             [
              0.6666666666666666,
              "#ed7953"
             ],
             [
              0.7777777777777778,
              "#fb9f3a"
             ],
             [
              0.8888888888888888,
              "#fdca26"
             ],
             [
              1.0,
              "#f0f921"
             ]
            ]
           }
          ],
          "heatmap": [
           {
            "type": "heatmap",
            "colorbar": {
             "outlinewidth": 0,
             "ticks": ""
            },
            "colorscale": [
             [
              0.0,
              "#0d0887"
             ],
             [
              0.1111111111111111,
              "#46039f"
             ],
             [
              0.2222222222222222,
              "#7201a8"
             ],
             [
              0.3333333333333333,
              "#9c179e"
             ],
             [
              0.4444444444444444,
              "#bd3786"
             ],
             [
              0.5555555555555556,
              "#d8576b"
             ],
             [
              0.6666666666666666,
              "#ed7953"
             ],
             [
              0.7777777777777778,
              "#fb9f3a"
             ],
             [
              0.8888888888888888,
              "#fdca26"
             ],
             [
              1.0,
              "#f0f921"
             ]
            ]
           }
          ],
          "heatmapgl": [
           {
            "type": "heatmapgl",
            "colorbar": {
             "outlinewidth": 0,
             "ticks": ""
            },
            "colorscale": [
             [
              0.0,
              "#0d0887"
             ],
             [
              0.1111111111111111,
              "#46039f"
             ],
             [
              0.2222222222222222,
              "#7201a8"
             ],
             [
              0.3333333333333333,
              "#9c179e"
             ],
             [
              0.4444444444444444,
              "#bd3786"
             ],
             [
              0.5555555555555556,
              "#d8576b"
             ],
             [
              0.6666666666666666,
              "#ed7953"
             ],
             [
              0.7777777777777778,
              "#fb9f3a"
             ],
             [
              0.8888888888888888,
              "#fdca26"
             ],
             [
              1.0,
              "#f0f921"
             ]
            ]
           }
          ],
          "contourcarpet": [
           {
            "type": "contourcarpet",
            "colorbar": {
             "outlinewidth": 0,
             "ticks": ""
            }
           }
          ],
          "contour": [
           {
            "type": "contour",
            "colorbar": {
             "outlinewidth": 0,
             "ticks": ""
            },
            "colorscale": [
             [
              0.0,
              "#0d0887"
             ],
             [
              0.1111111111111111,
              "#46039f"
             ],
             [
              0.2222222222222222,
              "#7201a8"
             ],
             [
              0.3333333333333333,
              "#9c179e"
             ],
             [
              0.4444444444444444,
              "#bd3786"
             ],
             [
              0.5555555555555556,
              "#d8576b"
             ],
             [
              0.6666666666666666,
              "#ed7953"
             ],
             [
              0.7777777777777778,
              "#fb9f3a"
             ],
             [
              0.8888888888888888,
              "#fdca26"
             ],
             [
              1.0,
              "#f0f921"
             ]
            ]
           }
          ],
          "surface": [
           {
            "type": "surface",
            "colorbar": {
             "outlinewidth": 0,
             "ticks": ""
            },
            "colorscale": [
             [
              0.0,
              "#0d0887"
             ],
             [
              0.1111111111111111,
              "#46039f"
             ],
             [
              0.2222222222222222,
              "#7201a8"
             ],
             [
              0.3333333333333333,
              "#9c179e"
             ],
             [
              0.4444444444444444,
              "#bd3786"
             ],
             [
              0.5555555555555556,
              "#d8576b"
             ],
             [
              0.6666666666666666,
              "#ed7953"
             ],
             [
              0.7777777777777778,
              "#fb9f3a"
             ],
             [
              0.8888888888888888,
              "#fdca26"
             ],
             [
              1.0,
              "#f0f921"
             ]
            ]
           }
          ],
          "mesh3d": [
           {
            "type": "mesh3d",
            "colorbar": {
             "outlinewidth": 0,
             "ticks": ""
            }
           }
          ],
          "scatter": [
           {
            "fillpattern": {
             "fillmode": "overlay",
             "size": 10,
             "solidity": 0.2
            },
            "type": "scatter"
           }
          ],
          "parcoords": [
           {
            "type": "parcoords",
            "line": {
             "colorbar": {
              "outlinewidth": 0,
              "ticks": ""
             }
            }
           }
          ],
          "scatterpolargl": [
           {
            "type": "scatterpolargl",
            "marker": {
             "colorbar": {
              "outlinewidth": 0,
              "ticks": ""
             }
            }
           }
          ],
          "bar": [
           {
            "error_x": {
             "color": "#2a3f5f"
            },
            "error_y": {
             "color": "#2a3f5f"
            },
            "marker": {
             "line": {
              "color": "#E5ECF6",
              "width": 0.5
             },
             "pattern": {
              "fillmode": "overlay",
              "size": 10,
              "solidity": 0.2
             }
            },
            "type": "bar"
           }
          ],
          "scattergeo": [
           {
            "type": "scattergeo",
            "marker": {
             "colorbar": {
              "outlinewidth": 0,
              "ticks": ""
             }
            }
           }
          ],
          "scatterpolar": [
           {
            "type": "scatterpolar",
            "marker": {
             "colorbar": {
              "outlinewidth": 0,
              "ticks": ""
             }
            }
           }
          ],
          "histogram": [
           {
            "marker": {
             "pattern": {
              "fillmode": "overlay",
              "size": 10,
              "solidity": 0.2
             }
            },
            "type": "histogram"
           }
          ],
          "scattergl": [
           {
            "type": "scattergl",
            "marker": {
             "colorbar": {
              "outlinewidth": 0,
              "ticks": ""
             }
            }
           }
          ],
          "scatter3d": [
           {
            "type": "scatter3d",
            "line": {
             "colorbar": {
              "outlinewidth": 0,
              "ticks": ""
             }
            },
            "marker": {
             "colorbar": {
              "outlinewidth": 0,
              "ticks": ""
             }
            }
           }
          ],
          "scattermapbox": [
           {
            "type": "scattermapbox",
            "marker": {
             "colorbar": {
              "outlinewidth": 0,
              "ticks": ""
             }
            }
           }
          ],
          "scatterternary": [
           {
            "type": "scatterternary",
            "marker": {
             "colorbar": {
              "outlinewidth": 0,
              "ticks": ""
             }
            }
           }
          ],
          "scattercarpet": [
           {
            "type": "scattercarpet",
            "marker": {
             "colorbar": {
              "outlinewidth": 0,
              "ticks": ""
             }
            }
           }
          ],
          "carpet": [
           {
            "aaxis": {
             "endlinecolor": "#2a3f5f",
             "gridcolor": "white",
             "linecolor": "white",
             "minorgridcolor": "white",
             "startlinecolor": "#2a3f5f"
            },
            "baxis": {
             "endlinecolor": "#2a3f5f",
             "gridcolor": "white",
             "linecolor": "white",
             "minorgridcolor": "white",
             "startlinecolor": "#2a3f5f"
            },
            "type": "carpet"
           }
          ],
          "table": [
           {
            "cells": {
             "fill": {
              "color": "#EBF0F8"
             },
             "line": {
              "color": "white"
             }
            },
            "header": {
             "fill": {
              "color": "#C8D4E3"
             },
             "line": {
              "color": "white"
             }
            },
            "type": "table"
           }
          ],
          "barpolar": [
           {
            "marker": {
             "line": {
              "color": "#E5ECF6",
              "width": 0.5
             },
             "pattern": {
              "fillmode": "overlay",
              "size": 10,
              "solidity": 0.2
             }
            },
            "type": "barpolar"
           }
          ],
          "pie": [
           {
            "automargin": true,
            "type": "pie"
           }
          ]
         },
         "layout": {
          "autotypenumbers": "strict",
          "colorway": [
           "#636efa",
           "#EF553B",
           "#00cc96",
           "#ab63fa",
           "#FFA15A",
           "#19d3f3",
           "#FF6692",
           "#B6E880",
           "#FF97FF",
           "#FECB52"
          ],
          "font": {
           "color": "#2a3f5f"
          },
          "hovermode": "closest",
          "hoverlabel": {
           "align": "left"
          },
          "paper_bgcolor": "white",
          "plot_bgcolor": "#E5ECF6",
          "polar": {
           "bgcolor": "#E5ECF6",
           "angularaxis": {
            "gridcolor": "white",
            "linecolor": "white",
            "ticks": ""
           },
           "radialaxis": {
            "gridcolor": "white",
            "linecolor": "white",
            "ticks": ""
           }
          },
          "ternary": {
           "bgcolor": "#E5ECF6",
           "aaxis": {
            "gridcolor": "white",
            "linecolor": "white",
            "ticks": ""
           },
           "baxis": {
            "gridcolor": "white",
            "linecolor": "white",
            "ticks": ""
           },
           "caxis": {
            "gridcolor": "white",
            "linecolor": "white",
            "ticks": ""
           }
          },
          "coloraxis": {
           "colorbar": {
            "outlinewidth": 0,
            "ticks": ""
           }
          },
          "colorscale": {
           "sequential": [
            [
             0.0,
             "#0d0887"
            ],
            [
             0.1111111111111111,
             "#46039f"
            ],
            [
             0.2222222222222222,
             "#7201a8"
            ],
            [
             0.3333333333333333,
             "#9c179e"
            ],
            [
             0.4444444444444444,
             "#bd3786"
            ],
            [
             0.5555555555555556,
             "#d8576b"
            ],
            [
             0.6666666666666666,
             "#ed7953"
            ],
            [
             0.7777777777777778,
             "#fb9f3a"
            ],
            [
             0.8888888888888888,
             "#fdca26"
            ],
            [
             1.0,
             "#f0f921"
            ]
           ],
           "sequentialminus": [
            [
             0.0,
             "#0d0887"
            ],
            [
             0.1111111111111111,
             "#46039f"
            ],
            [
             0.2222222222222222,
             "#7201a8"
            ],
            [
             0.3333333333333333,
             "#9c179e"
            ],
            [
             0.4444444444444444,
             "#bd3786"
            ],
            [
             0.5555555555555556,
             "#d8576b"
            ],
            [
             0.6666666666666666,
             "#ed7953"
            ],
            [
             0.7777777777777778,
             "#fb9f3a"
            ],
            [
             0.8888888888888888,
             "#fdca26"
            ],
            [
             1.0,
             "#f0f921"
            ]
           ],
           "diverging": [
            [
             0,
             "#8e0152"
            ],
            [
             0.1,
             "#c51b7d"
            ],
            [
             0.2,
             "#de77ae"
            ],
            [
             0.3,
             "#f1b6da"
            ],
            [
             0.4,
             "#fde0ef"
            ],
            [
             0.5,
             "#f7f7f7"
            ],
            [
             0.6,
             "#e6f5d0"
            ],
            [
             0.7,
             "#b8e186"
            ],
            [
             0.8,
             "#7fbc41"
            ],
            [
             0.9,
             "#4d9221"
            ],
            [
             1,
             "#276419"
            ]
           ]
          },
          "xaxis": {
           "gridcolor": "white",
           "linecolor": "white",
           "ticks": "",
           "title": {
            "standoff": 15
           },
           "zerolinecolor": "white",
           "automargin": true,
           "zerolinewidth": 2
          },
          "yaxis": {
           "gridcolor": "white",
           "linecolor": "white",
           "ticks": "",
           "title": {
            "standoff": 15
           },
           "zerolinecolor": "white",
           "automargin": true,
           "zerolinewidth": 2
          },
          "scene": {
           "xaxis": {
            "backgroundcolor": "#E5ECF6",
            "gridcolor": "white",
            "linecolor": "white",
            "showbackground": true,
            "ticks": "",
            "zerolinecolor": "white",
            "gridwidth": 2
           },
           "yaxis": {
            "backgroundcolor": "#E5ECF6",
            "gridcolor": "white",
            "linecolor": "white",
            "showbackground": true,
            "ticks": "",
            "zerolinecolor": "white",
            "gridwidth": 2
           },
           "zaxis": {
            "backgroundcolor": "#E5ECF6",
            "gridcolor": "white",
            "linecolor": "white",
            "showbackground": true,
            "ticks": "",
            "zerolinecolor": "white",
            "gridwidth": 2
           }
          },
          "shapedefaults": {
           "line": {
            "color": "#2a3f5f"
           }
          },
          "annotationdefaults": {
           "arrowcolor": "#2a3f5f",
           "arrowhead": 0,
           "arrowwidth": 1
          },
          "geo": {
           "bgcolor": "white",
           "landcolor": "#E5ECF6",
           "subunitcolor": "white",
           "showland": true,
           "showlakes": true,
           "lakecolor": "white"
          },
          "title": {
           "x": 0.05
          },
          "mapbox": {
           "style": "light"
          }
         }
        },
        "legend": {
         "tracegroupgap": 0
        },
        "margin": {
         "t": 60
        }
       },
       "config": {
        "plotlyServerURL": "https://plot.ly"
       }
      },
      "text/html": "<div>                            <div id=\"800d4924-f3a3-4a9a-8dfa-d18f15aa2b69\" class=\"plotly-graph-div\" style=\"height:525px; width:100%;\"></div>            <script type=\"text/javascript\">                require([\"plotly\"], function(Plotly) {                    window.PLOTLYENV=window.PLOTLYENV || {};                                    if (document.getElementById(\"800d4924-f3a3-4a9a-8dfa-d18f15aa2b69\")) {                    Plotly.newPlot(                        \"800d4924-f3a3-4a9a-8dfa-d18f15aa2b69\",                        [{\"domain\":{\"x\":[0.0,1.0],\"y\":[0.0,1.0]},\"hovertemplate\":\"ca_category=%{label}\\u003cextra\\u003e\\u003c\\u002fextra\\u003e\",\"labels\":[\"[0, 10000)\",\"[0, 10000)\",\"[0, 10000)\",\"[0, 10000)\",\"[0, 10000)\",\"[0, 10000)\",\"[0, 10000)\",\"[0, 10000)\",\"[0, 10000)\",\"[0, 10000)\",\"[0, 10000)\",\"[0, 10000)\",\"[0, 10000)\",\"[0, 10000)\",\"[0, 10000)\",\"[0, 10000)\",\"[0, 10000)\",\"[0, 10000)\",\"[0, 10000)\",\"[0, 10000)\",\"[0, 10000)\",\"[0, 10000)\",\"[0, 10000)\",\"[30000, 60000)\",\"[0, 10000)\",\"[0, 10000)\",\"[0, 10000)\",\"[0, 10000)\",\"[0, 10000)\",\"[0, 10000)\",\"[0, 10000)\",\"[0, 10000)\",\"[0, 10000)\",\"[0, 10000)\",\"[0, 10000)\",\"[0, 10000)\",\"[0, 10000)\",\"[0, 10000)\",\"[0, 10000)\",\"[0, 10000)\",\"[0, 10000)\",\"[0, 10000)\",\"[0, 10000)\",\"[0, 10000)\",\"[0, 10000)\",\"[0, 10000)\",\"[0, 10000)\",\"[0, 10000)\",\"[0, 10000)\",\"[0, 10000)\",\"[0, 10000)\",\"[0, 10000)\",\"[0, 10000)\",\"[0, 10000)\",\"[0, 10000)\",\"[0, 10000)\",\"[0, 10000)\",\"[0, 10000)\",\"[0, 10000)\",\"[0, 10000)\",\"[0, 10000)\",\"[0, 10000)\",\"[0, 10000)\",\"[0, 10000)\",\"[0, 10000)\",\"[0, 10000)\",\"[0, 10000)\",\"[0, 10000)\",\"[0, 10000)\",\"[10000, 30000)\",\"[0, 10000)\",\"[0, 10000)\",\"[0, 10000)\",\"[0, 10000)\",\"[0, 10000)\",\"[0, 10000)\",\"[0, 10000)\",\"[0, 10000)\",\"[0, 10000)\",\"[10000, 30000)\",\"[0, 10000)\",\"[0, 10000)\",\"[0, 10000)\",\"[0, 10000)\",\"[0, 10000)\",\"[0, 10000)\",\"[0, 10000)\",\"[0, 10000)\",\"[10000, 30000)\",\"[10000, 30000)\",\"[0, 10000)\",\"[0, 10000)\",\"[0, 10000)\",\"[0, 10000)\",\"[0, 10000)\",\"[0, 10000)\",\"[0, 10000)\",\"[0, 10000)\",\"[0, 10000)\",\"[0, 10000)\",\"[0, 10000)\",\"[0, 10000)\",\"[0, 10000)\",\"[0, 10000)\",\"[0, 10000)\",\"[0, 10000)\",\"[0, 10000)\",\"[0, 10000)\",\"[0, 10000)\",\"[10000, 30000)\",\"[0, 10000)\",\"[0, 10000)\",\"[0, 10000)\",\"[0, 10000)\",\"[0, 10000)\",\"[0, 10000)\",\"[0, 10000)\",\"[0, 10000)\",\"[0, 10000)\",\"[0, 10000)\",\"[0, 10000)\",\"[0, 10000)\",\"[0, 10000)\",\"[10000, 30000)\",\"[0, 10000)\",\"[0, 10000)\",\"[0, 10000)\",\"[0, 10000)\",\"[0, 10000)\",\"[0, 10000)\",\"[0, 10000)\",\"[0, 10000)\",\"[0, 10000)\",\"[0, 10000)\",\"[0, 10000)\",\"[0, 10000)\",\"[0, 10000)\",\"[0, 10000)\",\"[0, 10000)\",\"[0, 10000)\",\"[0, 10000)\",\"[0, 10000)\",\"[0, 10000)\",\"[0, 10000)\",\"[0, 10000)\",\"[0, 10000)\",\"[0, 10000)\",\"[0, 10000)\",\"[0, 10000)\",\"[0, 10000)\",\"[0, 10000)\",\"[0, 10000)\",\"[0, 10000)\",\"[0, 10000)\",\"[0, 10000)\",\"[0, 10000)\",\"[0, 10000)\",\"[0, 10000)\",\"[0, 10000)\",\"[10000, 30000)\",\"[0, 10000)\",\"[0, 10000)\",\"[0, 10000)\",\"[0, 10000)\",\"[0, 10000)\",\"[0, 10000)\",\"[0, 10000)\",\"[0, 10000)\",\"[0, 10000)\",\"[0, 10000)\",\"[0, 10000)\",\"[0, 10000)\",\"[0, 10000)\",\"[0, 10000)\",\"[0, 10000)\",\"[0, 10000)\",\"[0, 10000)\",\"[0, 10000)\",\"[0, 10000)\",\"[0, 10000)\",\"[0, 10000)\",\"[0, 10000)\",\"[0, 10000)\",\"[0, 10000)\",\"[0, 10000)\",\"[0, 10000)\",\"[0, 10000)\",\"[0, 10000)\",\"[0, 10000)\",\"[0, 10000)\",\"[0, 10000)\",\"[0, 10000)\",\"[0, 10000)\",\"[0, 10000)\",\"[0, 10000)\",\"[0, 10000)\",\"[0, 10000)\",\"[0, 10000)\",\"[0, 10000)\",\"[0, 10000)\",\"[0, 10000)\",\"[0, 10000)\",\"[0, 10000)\",\"[0, 10000)\",\"[0, 10000)\",\"[0, 10000)\",\"[0, 10000)\",\"[0, 10000)\",\"[0, 10000)\",\"[0, 10000)\",\"[0, 10000)\",\"[0, 10000)\",\"[0, 10000)\",\"[0, 10000)\",\"[0, 10000)\",\"[0, 10000)\",\"[0, 10000)\",\"[0, 10000)\",\"[0, 10000)\",\"[0, 10000)\",\"[0, 10000)\",\"[0, 10000)\",\"[0, 10000)\",\"[0, 10000)\",\"[0, 10000)\",\"[0, 10000)\",\"[0, 10000)\",\"[0, 10000)\",\"[0, 10000)\",\"[0, 10000)\",\"[10000, 30000)\",\"[0, 10000)\",\"[0, 10000)\",\"[0, 10000)\",\"[0, 10000)\",\"[0, 10000)\",\"[0, 10000)\",\"[0, 10000)\",\"[0, 10000)\",\"[0, 10000)\",\"[0, 10000)\",\"[0, 10000)\",\"[0, 10000)\",\"[0, 10000)\",\"[0, 10000)\",\"[0, 10000)\",\"[0, 10000)\",\"[0, 10000)\",\"[0, 10000)\",\"[0, 10000)\",\"[0, 10000)\",\"[0, 10000)\",\"[0, 10000)\",\"[0, 10000)\",\"[0, 10000)\",\"[0, 10000)\",\"[0, 10000)\",\"[0, 10000)\",\"[0, 10000)\",\"[0, 10000)\",\"[0, 10000)\",\"[0, 10000)\",\"[0, 10000)\",\"[0, 10000)\",\"[0, 10000)\",\"[0, 10000)\",\"[0, 10000)\",\"[0, 10000)\",\"[0, 10000)\",\"[0, 10000)\",\"[0, 10000)\",\"[0, 10000)\",\"[0, 10000)\",\"[0, 10000)\",\"[0, 10000)\",\"[0, 10000)\",\"[0, 10000)\",\"[0, 10000)\",\"[0, 10000)\",\"[0, 10000)\",\"[0, 10000)\",\"[0, 10000)\",\"[0, 10000)\",\"[0, 10000)\",\"[0, 10000)\",\"[0, 10000)\",\"[0, 10000)\",\"[0, 10000)\",\"[0, 10000)\",\"[0, 10000)\",\"[0, 10000)\",\"[0, 10000)\",\"[0, 10000)\",\"[0, 10000)\",\"[0, 10000)\",\"[0, 10000)\",\"[0, 10000)\",\"[0, 10000)\",\"[0, 10000)\",\"[0, 10000)\",\"[0, 10000)\",\"[0, 10000)\",\"[0, 10000)\",\"[0, 10000)\",\"[0, 10000)\",\"[0, 10000)\",\"[0, 10000)\",\"[0, 10000)\",\"[0, 10000)\",\"[0, 10000)\",\"[0, 10000)\",\"[0, 10000)\",\"[0, 10000)\",\"[0, 10000)\",\"[0, 10000)\",\"[0, 10000)\",\"[0, 10000)\",\"[0, 10000)\",\"[0, 10000)\",\"[0, 10000)\",\"[0, 10000)\",\"[0, 10000)\",\"[0, 10000)\",\"[0, 10000)\",\"[0, 10000)\",\"[0, 10000)\",\"[10000, 30000)\",\"[0, 10000)\",\"[0, 10000)\",\"[0, 10000)\",\"[0, 10000)\",\"[0, 10000)\",\"[0, 10000)\",\"[0, 10000)\",\"[0, 10000)\",\"[0, 10000)\",\"[0, 10000)\",\"[0, 10000)\",\"[0, 10000)\",\"[0, 10000)\",\"[0, 10000)\",\"[0, 10000)\",\"[0, 10000)\",\"[0, 10000)\",\"[0, 10000)\",\"[0, 10000)\",\"[0, 10000)\",\"[0, 10000)\",\"[0, 10000)\",\"[0, 10000)\",\"[0, 10000)\",\"[0, 10000)\",\"[0, 10000)\",\"[0, 10000)\",\"[0, 10000)\",\"[0, 10000)\",\"[0, 10000)\",\"[0, 10000)\",\"[0, 10000)\",\"[0, 10000)\",\"[0, 10000)\",\"[0, 10000)\",\"[0, 10000)\",\"[0, 10000)\",\"[0, 10000)\",\"[0, 10000)\",\"[0, 10000)\",\"[0, 10000)\",\"[0, 10000)\",\"[0, 10000)\",\"[0, 10000)\",\"[0, 10000)\",\"[0, 10000)\",\"[0, 10000)\",\"[0, 10000)\",\"[0, 10000)\",\"[10000, 30000)\",\"[0, 10000)\",\"[0, 10000)\",\"[0, 10000)\",\"[0, 10000)\",\"[0, 10000)\",\"[0, 10000)\",\"[0, 10000)\",\"[0, 10000)\",\"[0, 10000)\",\"[0, 10000)\",\"[0, 10000)\",\"[0, 10000)\",\"[0, 10000)\",\"[0, 10000)\",\"[0, 10000)\",\"[0, 10000)\",\"[0, 10000)\",\"[0, 10000)\",\"[0, 10000)\",\"[0, 10000)\",\"[0, 10000)\",\"[0, 10000)\",\"[0, 10000)\",\"[0, 10000)\",\"[0, 10000)\",\"[0, 10000)\",\"[0, 10000)\",\"[0, 10000)\",\"[0, 10000)\",\"[0, 10000)\",\"[0, 10000)\",\"[0, 10000)\",\"[0, 10000)\",\"[0, 10000)\",\"[0, 10000)\",\"[0, 10000)\",\"[0, 10000)\",\"[0, 10000)\",\"[0, 10000)\",\"[0, 10000)\",\"[0, 10000)\",\"[0, 10000)\",\"[0, 10000)\",\"[0, 10000)\",\"[0, 10000)\",\"[0, 10000)\",\"[0, 10000)\",\"[0, 10000)\",\"[0, 10000)\",\"[0, 10000)\",\"[0, 10000)\",\"[0, 10000)\",\"[0, 10000)\",\"[0, 10000)\",\"[10000, 30000)\",\"[0, 10000)\",\"[0, 10000)\",\"[0, 10000)\",\"[0, 10000)\",\"[0, 10000)\",\"[0, 10000)\",\"[0, 10000)\",\"[0, 10000)\",\"[10000, 30000)\",\"[10000, 30000)\",\"[0, 10000)\",\"[0, 10000)\",\"[0, 10000)\",\"[0, 10000)\",\"[0, 10000)\",\"[0, 10000)\",\"[0, 10000)\",\"[0, 10000)\",\"[0, 10000)\",\"[0, 10000)\",\"[0, 10000)\",\"[0, 10000)\",\"[0, 10000)\",\"[0, 10000)\",\"[0, 10000)\",\"[0, 10000)\",\"[0, 10000)\",\"[0, 10000)\",\"[0, 10000)\",\"[0, 10000)\",\"[0, 10000)\",\"[0, 10000)\",\"[0, 10000)\",\"[0, 10000)\",\"[0, 10000)\",\"[10000, 30000)\",\"[0, 10000)\",\"[0, 10000)\",\"[0, 10000)\",\"[0, 10000)\",\"[0, 10000)\",\"[0, 10000)\",\"[0, 10000)\",\"[0, 10000)\",\"[0, 10000)\",\"[0, 10000)\",\"[0, 10000)\",\"[0, 10000)\",\"[0, 10000)\",\"[0, 10000)\",\"[0, 10000)\",\"[0, 10000)\",\"[0, 10000)\",\"[0, 10000)\",\"[0, 10000)\",\"[0, 10000)\",\"[0, 10000)\",\"[0, 10000)\",\"[0, 10000)\",\"[0, 10000)\",\"[0, 10000)\",\"[0, 10000)\",\"[0, 10000)\",\"[0, 10000)\",\"[0, 10000)\",\"[30000, 60000)\",\"[0, 10000)\",\"[0, 10000)\",\"[0, 10000)\",\"[0, 10000)\",\"[0, 10000)\",\"[0, 10000)\",\"[0, 10000)\",\"[0, 10000)\",\"[0, 10000)\",\"[0, 10000)\",\"[0, 10000)\",\"[0, 10000)\",\"[0, 10000)\",\"[0, 10000)\",\"[0, 10000)\",\"[30000, 60000)\",\"[10000, 30000)\",\"[0, 10000)\",\"[0, 10000)\",\"[0, 10000)\",\"[0, 10000)\",\"[0, 10000)\",\"[0, 10000)\",\"[0, 10000)\",\"[0, 10000)\",\"[10000, 30000)\",\"[0, 10000)\",\"[0, 10000)\",\"[0, 10000)\",\"[0, 10000)\",\"[0, 10000)\",\"[0, 10000)\",\"[0, 10000)\",\"[0, 10000)\",\"[0, 10000)\",\"[0, 10000)\",\"[0, 10000)\",\"[10000, 30000)\",\"[0, 10000)\",\"[0, 10000)\",\"[0, 10000)\",\"[0, 10000)\",\"[0, 10000)\",\"[0, 10000)\",\"[0, 10000)\",\"[0, 10000)\",\"[0, 10000)\",\"[0, 10000)\",\"[0, 10000)\",\"[0, 10000)\",\"[0, 10000)\",\"[0, 10000)\",\"[0, 10000)\",\"[0, 10000)\",\"[0, 10000)\",\"[0, 10000)\",\"[0, 10000)\",\"[0, 10000)\",\"[0, 10000)\",\"[0, 10000)\",\"[0, 10000)\",\"[0, 10000)\",\"[0, 10000)\",\"[0, 10000)\",\"[0, 10000)\",\"[0, 10000)\",\"[0, 10000)\",\"[0, 10000)\",\"[0, 10000)\",\"[0, 10000)\",\"[0, 10000)\",\"[0, 10000)\",\"[0, 10000)\",\"[0, 10000)\",\"[0, 10000)\",\"[0, 10000)\",\"[0, 10000)\",\"[0, 10000)\",\"[0, 10000)\",\"[0, 10000)\",\"[0, 10000)\",\"[0, 10000)\",\"[0, 10000)\",\"[0, 10000)\",\"[0, 10000)\",\"[0, 10000)\",\"[0, 10000)\",\"[0, 10000)\",\"[0, 10000)\",\"[0, 10000)\",\"[0, 10000)\",\"[0, 10000)\",\"[0, 10000)\",\"[0, 10000)\",\"[0, 10000)\",\"[0, 10000)\",\"[0, 10000)\",\"[0, 10000)\",\"[0, 10000)\",\"[0, 10000)\",\"[0, 10000)\",\"[0, 10000)\",\"[0, 10000)\",\"[0, 10000)\",\"[0, 10000)\",\"[0, 10000)\",\"[0, 10000)\",\"[0, 10000)\",\"[0, 10000)\",\"[0, 10000)\",\"[0, 10000)\",\"[0, 10000)\",\"[0, 10000)\",\"[0, 10000)\",\"[0, 10000)\",\"[0, 10000)\",\"[0, 10000)\",\"[0, 10000)\",\"[0, 10000)\",\"[0, 10000)\",\"[0, 10000)\",\"[0, 10000)\",\"[0, 10000)\",\"[0, 10000)\",\"[0, 10000)\",\"[0, 10000)\",\"[0, 10000)\",\"[0, 10000)\",\"[0, 10000)\",\"[0, 10000)\",\"[0, 10000)\",\"[0, 10000)\",\"[0, 10000)\",\"[0, 10000)\",\"[0, 10000)\",\"[0, 10000)\",\"[10000, 30000)\",\"[0, 10000)\",\"[0, 10000)\",\"[0, 10000)\",\"[0, 10000)\",\"[0, 10000)\",\"[0, 10000)\",\"[0, 10000)\",\"[0, 10000)\",\"[0, 10000)\",\"[0, 10000)\",\"[0, 10000)\",\"[0, 10000)\",\"[0, 10000)\",\"[0, 10000)\",\"[0, 10000)\",\"[0, 10000)\",\"[0, 10000)\",\"[0, 10000)\",\"[0, 10000)\",\"[0, 10000)\",\"[0, 10000)\",\"[0, 10000)\",\"[0, 10000)\",\"[0, 10000)\",\"[0, 10000)\",\"[0, 10000)\",\"[0, 10000)\",\"[0, 10000)\",\"[0, 10000)\",\"[0, 10000)\",\"[0, 10000)\",\"[0, 10000)\",\"[0, 10000)\",\"[0, 10000)\",\"[0, 10000)\",\"[0, 10000)\",\"[0, 10000)\",\"[0, 10000)\",\"[0, 10000)\",\"[0, 10000)\",\"[0, 10000)\",\"[0, 10000)\",\"[0, 10000)\",\"[0, 10000)\",\"[0, 10000)\",\"[0, 10000)\",\"[0, 10000)\",\"[0, 10000)\",\"[0, 10000)\",\"[0, 10000)\",\"[0, 10000)\",\"[0, 10000)\",\"[0, 10000)\",\"[0, 10000)\",\"[0, 10000)\",\"[0, 10000)\",\"[0, 10000)\",\"[0, 10000)\",\"[0, 10000)\",\"[0, 10000)\",\"[0, 10000)\",\"[0, 10000)\",\"[0, 10000)\",\"[0, 10000)\",\"[0, 10000)\",\"[0, 10000)\",\"[0, 10000)\",\"[0, 10000)\",\"[0, 10000)\",\"[0, 10000)\",\"[0, 10000)\",\"[0, 10000)\",\"[0, 10000)\",\"[0, 10000)\",\"[0, 10000)\",\"[0, 10000)\",\"[0, 10000)\",\"[0, 10000)\",\"[0, 10000)\",\"[0, 10000)\",\"[0, 10000)\",\"[0, 10000)\",\"[0, 10000)\",\"[0, 10000)\",\"[0, 10000)\",\"[0, 10000)\",\"[0, 10000)\",\"[0, 10000)\",\"[0, 10000)\",\"[0, 10000)\",\"[0, 10000)\",\"[0, 10000)\",\"[0, 10000)\",\"[0, 10000)\",\"[0, 10000)\",\"[0, 10000)\",\"[10000, 30000)\",\"[0, 10000)\",\"[0, 10000)\",\"[0, 10000)\",\"[0, 10000)\",\"[0, 10000)\",\"[0, 10000)\",\"[0, 10000)\",\"[0, 10000)\",\"[0, 10000)\",\"[0, 10000)\",\"[0, 10000)\",\"[0, 10000)\",\"[0, 10000)\",\"[0, 10000)\",\"[0, 10000)\",\"[0, 10000)\",\"[0, 10000)\",\"[0, 10000)\",\"[0, 10000)\",\"[0, 10000)\",\"[0, 10000)\",\"[0, 10000)\",\"[0, 10000)\",\"[0, 10000)\",\"[0, 10000)\",\"[0, 10000)\",\"[0, 10000)\",\"[0, 10000)\",\"[0, 10000)\",\"[0, 10000)\",\"[0, 10000)\",\"[0, 10000)\",\"[0, 10000)\",\"[0, 10000)\",\"[0, 10000)\",\"[0, 10000)\",\"[0, 10000)\",\"[0, 10000)\",\"[0, 10000)\",\"[0, 10000)\",\"[0, 10000)\",\"[0, 10000)\",\"[0, 10000)\",\"[0, 10000)\",\"[0, 10000)\",\"[0, 10000)\",\"[0, 10000)\",\"[0, 10000)\",\"[0, 10000)\",\"[0, 10000)\",\"[0, 10000)\",\"[0, 10000)\",\"[0, 10000)\",\"[0, 10000)\",\"[0, 10000)\",\"[0, 10000)\",\"[0, 10000)\",\"[0, 10000)\",\"[0, 10000)\",\"[0, 10000)\",\"[0, 10000)\",\"[0, 10000)\",\"[0, 10000)\",\"[0, 10000)\",\"[0, 10000)\",\"[0, 10000)\",\"[10000, 30000)\",\"[0, 10000)\",\"[0, 10000)\",\"[0, 10000)\",\"[0, 10000)\",\"[0, 10000)\",\"[0, 10000)\",\"[0, 10000)\",\"[0, 10000)\",\"[0, 10000)\",\"[0, 10000)\",\"[0, 10000)\",\"[0, 10000)\",\"[0, 10000)\",\"[0, 10000)\",\"[0, 10000)\",\"[0, 10000)\",\"[0, 10000)\",\"[0, 10000)\",\"[0, 10000)\",\"[0, 10000)\",\"[10000, 30000)\",\"[0, 10000)\",\"[0, 10000)\",\"[0, 10000)\",\"[0, 10000)\",\"[0, 10000)\",\"[0, 10000)\",\"[0, 10000)\",\"[0, 10000)\",\"[0, 10000)\",\"[0, 10000)\",\"[0, 10000)\",\"[0, 10000)\",\"[0, 10000)\",\"[0, 10000)\",\"[0, 10000)\",\"[0, 10000)\",\"[0, 10000)\",\"[0, 10000)\",\"[0, 10000)\",\"[0, 10000)\",\"[0, 10000)\",\"[0, 10000)\",\"[0, 10000)\",\"[0, 10000)\",\"[0, 10000)\",\"[0, 10000)\",\"[0, 10000)\",\"[0, 10000)\",\"[0, 10000)\",\"[0, 10000)\",\"[0, 10000)\",\"[0, 10000)\",\"[0, 10000)\",\"[0, 10000)\",\"[0, 10000)\",\"[0, 10000)\",\"[0, 10000)\",\"[0, 10000)\",\"[0, 10000)\",\"[0, 10000)\",\"[0, 10000)\",\"[0, 10000)\",\"[0, 10000)\",\"[0, 10000)\",\"[0, 10000)\",\"[0, 10000)\",\"[0, 10000)\",\"[0, 10000)\",\"[0, 10000)\",\"[0, 10000)\",\"[0, 10000)\",\"[0, 10000)\",\"[0, 10000)\",\"[0, 10000)\",\"[0, 10000)\",\"[0, 10000)\",\"[0, 10000)\",\"[0, 10000)\",\"[0, 10000)\",\"[0, 10000)\",\"[0, 10000)\",\"[0, 10000)\",\"[0, 10000)\",\"[10000, 30000)\",\"[0, 10000)\",\"[0, 10000)\",\"[0, 10000)\",\"[0, 10000)\",\"[0, 10000)\",\"[0, 10000)\",\"[0, 10000)\",\"[0, 10000)\",\"[0, 10000)\",\"[0, 10000)\",\"[0, 10000)\",\"[0, 10000)\",\"[0, 10000)\",\"[0, 10000)\",\"[0, 10000)\",\"[0, 10000)\",\"[0, 10000)\",\"[0, 10000)\",\"[0, 10000)\",\"[0, 10000)\",\"[0, 10000)\",\"[0, 10000)\",\"[0, 10000)\",\"[0, 10000)\",\"[0, 10000)\",\"[0, 10000)\",\"[0, 10000)\",\"[0, 10000)\",\"[0, 10000)\",\"[0, 10000)\",\"[0, 10000)\",\"[10000, 30000)\",\"[0, 10000)\",\"[0, 10000)\",\"[0, 10000)\",\"[0, 10000)\",\"[0, 10000)\",\"[0, 10000)\",\"[0, 10000)\",\"[0, 10000)\",\"[0, 10000)\",\"[0, 10000)\",\"[0, 10000)\",\"[0, 10000)\",\"[0, 10000)\",\"[0, 10000)\",\"[0, 10000)\",\"[0, 10000)\",\"[0, 10000)\",\"[0, 10000)\",\"[0, 10000)\",\"[0, 10000)\",\"[0, 10000)\",\"[0, 10000)\",\"[0, 10000)\",\"[0, 10000)\",\"[0, 10000)\",\"[0, 10000)\",\"[0, 10000)\",\"[0, 10000)\",\"[0, 10000)\",\"[0, 10000)\",\"[0, 10000)\",\"[0, 10000)\",\"[0, 10000)\",\"[0, 10000)\",\"[0, 10000)\",\"[0, 10000)\",\"[0, 10000)\",\"[10000, 30000)\",\"[0, 10000)\",\"[0, 10000)\",\"[0, 10000)\",\"[0, 10000)\",\"[0, 10000)\",\"[0, 10000)\",\"[0, 10000)\",\"[0, 10000)\",\"[0, 10000)\",\"[0, 10000)\",\"[0, 10000)\",\"[0, 10000)\",\"[0, 10000)\",\"[0, 10000)\",\"[0, 10000)\",\"[0, 10000)\",\"[0, 10000)\",\"[0, 10000)\",\"[0, 10000)\",\"[0, 10000)\",\"[0, 10000)\",\"[0, 10000)\",\"[0, 10000)\",\"[0, 10000)\",\"[0, 10000)\",\"[0, 10000)\",\"[0, 10000)\",\"[0, 10000)\",\"[0, 10000)\",\"[0, 10000)\",\"[0, 10000)\",\"[0, 10000)\",\"nan\",\"[0, 10000)\",\"[0, 10000)\",\"[0, 10000)\",\"[0, 10000)\",\"[0, 10000)\",\"[0, 10000)\",\"[0, 10000)\",\"[0, 10000)\",\"[0, 10000)\",\"[0, 10000)\",\"[0, 10000)\",\"[0, 10000)\",\"[0, 10000)\",\"[0, 10000)\",\"[0, 10000)\",\"[0, 10000)\",\"[0, 10000)\",\"[0, 10000)\",\"[0, 10000)\",\"[0, 10000)\",\"[0, 10000)\",\"[0, 10000)\",\"[0, 10000)\",\"[0, 10000)\",\"[0, 10000)\",\"[0, 10000)\",\"[0, 10000)\",\"[0, 10000)\",\"[0, 10000)\",\"[0, 10000)\",\"[0, 10000)\",\"[0, 10000)\",\"[0, 10000)\",\"[0, 10000)\",\"[0, 10000)\",\"[0, 10000)\",\"[0, 10000)\",\"[0, 10000)\",\"[0, 10000)\",\"[0, 10000)\",\"[0, 10000)\",\"[0, 10000)\",\"[0, 10000)\",\"[0, 10000)\",\"[0, 10000)\"],\"legendgroup\":\"\",\"name\":\"\",\"showlegend\":true,\"type\":\"pie\"}],                        {\"template\":{\"data\":{\"histogram2dcontour\":[{\"type\":\"histogram2dcontour\",\"colorbar\":{\"outlinewidth\":0,\"ticks\":\"\"},\"colorscale\":[[0.0,\"#0d0887\"],[0.1111111111111111,\"#46039f\"],[0.2222222222222222,\"#7201a8\"],[0.3333333333333333,\"#9c179e\"],[0.4444444444444444,\"#bd3786\"],[0.5555555555555556,\"#d8576b\"],[0.6666666666666666,\"#ed7953\"],[0.7777777777777778,\"#fb9f3a\"],[0.8888888888888888,\"#fdca26\"],[1.0,\"#f0f921\"]]}],\"choropleth\":[{\"type\":\"choropleth\",\"colorbar\":{\"outlinewidth\":0,\"ticks\":\"\"}}],\"histogram2d\":[{\"type\":\"histogram2d\",\"colorbar\":{\"outlinewidth\":0,\"ticks\":\"\"},\"colorscale\":[[0.0,\"#0d0887\"],[0.1111111111111111,\"#46039f\"],[0.2222222222222222,\"#7201a8\"],[0.3333333333333333,\"#9c179e\"],[0.4444444444444444,\"#bd3786\"],[0.5555555555555556,\"#d8576b\"],[0.6666666666666666,\"#ed7953\"],[0.7777777777777778,\"#fb9f3a\"],[0.8888888888888888,\"#fdca26\"],[1.0,\"#f0f921\"]]}],\"heatmap\":[{\"type\":\"heatmap\",\"colorbar\":{\"outlinewidth\":0,\"ticks\":\"\"},\"colorscale\":[[0.0,\"#0d0887\"],[0.1111111111111111,\"#46039f\"],[0.2222222222222222,\"#7201a8\"],[0.3333333333333333,\"#9c179e\"],[0.4444444444444444,\"#bd3786\"],[0.5555555555555556,\"#d8576b\"],[0.6666666666666666,\"#ed7953\"],[0.7777777777777778,\"#fb9f3a\"],[0.8888888888888888,\"#fdca26\"],[1.0,\"#f0f921\"]]}],\"heatmapgl\":[{\"type\":\"heatmapgl\",\"colorbar\":{\"outlinewidth\":0,\"ticks\":\"\"},\"colorscale\":[[0.0,\"#0d0887\"],[0.1111111111111111,\"#46039f\"],[0.2222222222222222,\"#7201a8\"],[0.3333333333333333,\"#9c179e\"],[0.4444444444444444,\"#bd3786\"],[0.5555555555555556,\"#d8576b\"],[0.6666666666666666,\"#ed7953\"],[0.7777777777777778,\"#fb9f3a\"],[0.8888888888888888,\"#fdca26\"],[1.0,\"#f0f921\"]]}],\"contourcarpet\":[{\"type\":\"contourcarpet\",\"colorbar\":{\"outlinewidth\":0,\"ticks\":\"\"}}],\"contour\":[{\"type\":\"contour\",\"colorbar\":{\"outlinewidth\":0,\"ticks\":\"\"},\"colorscale\":[[0.0,\"#0d0887\"],[0.1111111111111111,\"#46039f\"],[0.2222222222222222,\"#7201a8\"],[0.3333333333333333,\"#9c179e\"],[0.4444444444444444,\"#bd3786\"],[0.5555555555555556,\"#d8576b\"],[0.6666666666666666,\"#ed7953\"],[0.7777777777777778,\"#fb9f3a\"],[0.8888888888888888,\"#fdca26\"],[1.0,\"#f0f921\"]]}],\"surface\":[{\"type\":\"surface\",\"colorbar\":{\"outlinewidth\":0,\"ticks\":\"\"},\"colorscale\":[[0.0,\"#0d0887\"],[0.1111111111111111,\"#46039f\"],[0.2222222222222222,\"#7201a8\"],[0.3333333333333333,\"#9c179e\"],[0.4444444444444444,\"#bd3786\"],[0.5555555555555556,\"#d8576b\"],[0.6666666666666666,\"#ed7953\"],[0.7777777777777778,\"#fb9f3a\"],[0.8888888888888888,\"#fdca26\"],[1.0,\"#f0f921\"]]}],\"mesh3d\":[{\"type\":\"mesh3d\",\"colorbar\":{\"outlinewidth\":0,\"ticks\":\"\"}}],\"scatter\":[{\"fillpattern\":{\"fillmode\":\"overlay\",\"size\":10,\"solidity\":0.2},\"type\":\"scatter\"}],\"parcoords\":[{\"type\":\"parcoords\",\"line\":{\"colorbar\":{\"outlinewidth\":0,\"ticks\":\"\"}}}],\"scatterpolargl\":[{\"type\":\"scatterpolargl\",\"marker\":{\"colorbar\":{\"outlinewidth\":0,\"ticks\":\"\"}}}],\"bar\":[{\"error_x\":{\"color\":\"#2a3f5f\"},\"error_y\":{\"color\":\"#2a3f5f\"},\"marker\":{\"line\":{\"color\":\"#E5ECF6\",\"width\":0.5},\"pattern\":{\"fillmode\":\"overlay\",\"size\":10,\"solidity\":0.2}},\"type\":\"bar\"}],\"scattergeo\":[{\"type\":\"scattergeo\",\"marker\":{\"colorbar\":{\"outlinewidth\":0,\"ticks\":\"\"}}}],\"scatterpolar\":[{\"type\":\"scatterpolar\",\"marker\":{\"colorbar\":{\"outlinewidth\":0,\"ticks\":\"\"}}}],\"histogram\":[{\"marker\":{\"pattern\":{\"fillmode\":\"overlay\",\"size\":10,\"solidity\":0.2}},\"type\":\"histogram\"}],\"scattergl\":[{\"type\":\"scattergl\",\"marker\":{\"colorbar\":{\"outlinewidth\":0,\"ticks\":\"\"}}}],\"scatter3d\":[{\"type\":\"scatter3d\",\"line\":{\"colorbar\":{\"outlinewidth\":0,\"ticks\":\"\"}},\"marker\":{\"colorbar\":{\"outlinewidth\":0,\"ticks\":\"\"}}}],\"scattermapbox\":[{\"type\":\"scattermapbox\",\"marker\":{\"colorbar\":{\"outlinewidth\":0,\"ticks\":\"\"}}}],\"scatterternary\":[{\"type\":\"scatterternary\",\"marker\":{\"colorbar\":{\"outlinewidth\":0,\"ticks\":\"\"}}}],\"scattercarpet\":[{\"type\":\"scattercarpet\",\"marker\":{\"colorbar\":{\"outlinewidth\":0,\"ticks\":\"\"}}}],\"carpet\":[{\"aaxis\":{\"endlinecolor\":\"#2a3f5f\",\"gridcolor\":\"white\",\"linecolor\":\"white\",\"minorgridcolor\":\"white\",\"startlinecolor\":\"#2a3f5f\"},\"baxis\":{\"endlinecolor\":\"#2a3f5f\",\"gridcolor\":\"white\",\"linecolor\":\"white\",\"minorgridcolor\":\"white\",\"startlinecolor\":\"#2a3f5f\"},\"type\":\"carpet\"}],\"table\":[{\"cells\":{\"fill\":{\"color\":\"#EBF0F8\"},\"line\":{\"color\":\"white\"}},\"header\":{\"fill\":{\"color\":\"#C8D4E3\"},\"line\":{\"color\":\"white\"}},\"type\":\"table\"}],\"barpolar\":[{\"marker\":{\"line\":{\"color\":\"#E5ECF6\",\"width\":0.5},\"pattern\":{\"fillmode\":\"overlay\",\"size\":10,\"solidity\":0.2}},\"type\":\"barpolar\"}],\"pie\":[{\"automargin\":true,\"type\":\"pie\"}]},\"layout\":{\"autotypenumbers\":\"strict\",\"colorway\":[\"#636efa\",\"#EF553B\",\"#00cc96\",\"#ab63fa\",\"#FFA15A\",\"#19d3f3\",\"#FF6692\",\"#B6E880\",\"#FF97FF\",\"#FECB52\"],\"font\":{\"color\":\"#2a3f5f\"},\"hovermode\":\"closest\",\"hoverlabel\":{\"align\":\"left\"},\"paper_bgcolor\":\"white\",\"plot_bgcolor\":\"#E5ECF6\",\"polar\":{\"bgcolor\":\"#E5ECF6\",\"angularaxis\":{\"gridcolor\":\"white\",\"linecolor\":\"white\",\"ticks\":\"\"},\"radialaxis\":{\"gridcolor\":\"white\",\"linecolor\":\"white\",\"ticks\":\"\"}},\"ternary\":{\"bgcolor\":\"#E5ECF6\",\"aaxis\":{\"gridcolor\":\"white\",\"linecolor\":\"white\",\"ticks\":\"\"},\"baxis\":{\"gridcolor\":\"white\",\"linecolor\":\"white\",\"ticks\":\"\"},\"caxis\":{\"gridcolor\":\"white\",\"linecolor\":\"white\",\"ticks\":\"\"}},\"coloraxis\":{\"colorbar\":{\"outlinewidth\":0,\"ticks\":\"\"}},\"colorscale\":{\"sequential\":[[0.0,\"#0d0887\"],[0.1111111111111111,\"#46039f\"],[0.2222222222222222,\"#7201a8\"],[0.3333333333333333,\"#9c179e\"],[0.4444444444444444,\"#bd3786\"],[0.5555555555555556,\"#d8576b\"],[0.6666666666666666,\"#ed7953\"],[0.7777777777777778,\"#fb9f3a\"],[0.8888888888888888,\"#fdca26\"],[1.0,\"#f0f921\"]],\"sequentialminus\":[[0.0,\"#0d0887\"],[0.1111111111111111,\"#46039f\"],[0.2222222222222222,\"#7201a8\"],[0.3333333333333333,\"#9c179e\"],[0.4444444444444444,\"#bd3786\"],[0.5555555555555556,\"#d8576b\"],[0.6666666666666666,\"#ed7953\"],[0.7777777777777778,\"#fb9f3a\"],[0.8888888888888888,\"#fdca26\"],[1.0,\"#f0f921\"]],\"diverging\":[[0,\"#8e0152\"],[0.1,\"#c51b7d\"],[0.2,\"#de77ae\"],[0.3,\"#f1b6da\"],[0.4,\"#fde0ef\"],[0.5,\"#f7f7f7\"],[0.6,\"#e6f5d0\"],[0.7,\"#b8e186\"],[0.8,\"#7fbc41\"],[0.9,\"#4d9221\"],[1,\"#276419\"]]},\"xaxis\":{\"gridcolor\":\"white\",\"linecolor\":\"white\",\"ticks\":\"\",\"title\":{\"standoff\":15},\"zerolinecolor\":\"white\",\"automargin\":true,\"zerolinewidth\":2},\"yaxis\":{\"gridcolor\":\"white\",\"linecolor\":\"white\",\"ticks\":\"\",\"title\":{\"standoff\":15},\"zerolinecolor\":\"white\",\"automargin\":true,\"zerolinewidth\":2},\"scene\":{\"xaxis\":{\"backgroundcolor\":\"#E5ECF6\",\"gridcolor\":\"white\",\"linecolor\":\"white\",\"showbackground\":true,\"ticks\":\"\",\"zerolinecolor\":\"white\",\"gridwidth\":2},\"yaxis\":{\"backgroundcolor\":\"#E5ECF6\",\"gridcolor\":\"white\",\"linecolor\":\"white\",\"showbackground\":true,\"ticks\":\"\",\"zerolinecolor\":\"white\",\"gridwidth\":2},\"zaxis\":{\"backgroundcolor\":\"#E5ECF6\",\"gridcolor\":\"white\",\"linecolor\":\"white\",\"showbackground\":true,\"ticks\":\"\",\"zerolinecolor\":\"white\",\"gridwidth\":2}},\"shapedefaults\":{\"line\":{\"color\":\"#2a3f5f\"}},\"annotationdefaults\":{\"arrowcolor\":\"#2a3f5f\",\"arrowhead\":0,\"arrowwidth\":1},\"geo\":{\"bgcolor\":\"white\",\"landcolor\":\"#E5ECF6\",\"subunitcolor\":\"white\",\"showland\":true,\"showlakes\":true,\"lakecolor\":\"white\"},\"title\":{\"x\":0.05},\"mapbox\":{\"style\":\"light\"}}},\"legend\":{\"tracegroupgap\":0},\"margin\":{\"t\":60}},                        {\"responsive\": true}                    ).then(function(){\n                            \nvar gd = document.getElementById('800d4924-f3a3-4a9a-8dfa-d18f15aa2b69');\nvar x = new MutationObserver(function (mutations, observer) {{\n        var display = window.getComputedStyle(gd).display;\n        if (!display || display === 'none') {{\n            console.log([gd, 'removed!']);\n            Plotly.purge(gd);\n            observer.disconnect();\n        }}\n}});\n\n// Listen for the removal of the full notebook cells\nvar notebookContainer = gd.closest('#notebook-container');\nif (notebookContainer) {{\n    x.observe(notebookContainer, {childList: true});\n}}\n\n// Listen for the clearing of the current output cell\nvar outputEl = gd.closest('.output');\nif (outputEl) {{\n    x.observe(outputEl, {childList: true});\n}}\n\n                        })                };                });            </script>        </div>"
     },
     "metadata": {},
     "output_type": "display_data"
    }
   ],
   "source": [
    "fig = px.pie(data, names='ca_category')\n",
    "fig.show()"
   ],
   "metadata": {
    "collapsed": false
   }
  }
 ],
 "metadata": {
  "kernelspec": {
   "display_name": "Python 3",
   "language": "python",
   "name": "python3"
  },
  "language_info": {
   "codemirror_mode": {
    "name": "ipython",
    "version": 2
   },
   "file_extension": ".py",
   "mimetype": "text/x-python",
   "name": "python",
   "nbconvert_exporter": "python",
   "pygments_lexer": "ipython2",
   "version": "2.7.6"
  }
 },
 "nbformat": 4,
 "nbformat_minor": 0
}
